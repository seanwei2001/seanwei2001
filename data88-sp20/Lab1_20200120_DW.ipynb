{
 "cells": [
  {
   "cell_type": "markdown",
   "metadata": {},
   "source": [
    "# Lab 1\n",
    "## State Space Models\n",
    "## Opening Files\n",
    "\n",
    "\n",
    "##############################################################################################################"
   ]
  },
  {
   "cell_type": "markdown",
   "metadata": {},
   "source": [
    "What is a \"State Space Model\"?\n",
    "\n",
    "A State is a description of the world or an outcome or a part of a system.\n",
    "\n",
    "A State might be any of the following:\n",
    "\n",
    "    \"It is raining on the Cal campus today.\"\n",
    "\n",
    "    \"The last die roll was a 3.\"\n",
    "\n",
    "    \"The Raiders won the 1980 Superbowl.\"\n",
    "\n",
    "    \"James Harden will be the 2019-2020 NBA MVP.\"\n",
    "\n",
    "So, a \"State Space Model\" is a model that describes States and the transitions between them.\n",
    "\n",
    "Many areas of analytic interest will be approachable using State Space modeling methods.\n",
    "\n",
    "\n",
    "##############################################################################################################"
   ]
  },
  {
   "cell_type": "markdown",
   "metadata": {},
   "source": [
    "Let's `import` some important `libraries`\n",
    "\n",
    "What do we mean by **import** and **libraries**?\n",
    "\n",
    "A \"library\" is essentially a collection of code. It is usually divided into individual files each containing a specific set of functionality.\n",
    "\n",
    "The \"import\" command tells the Python system to read in that library and make the elements (\"objects\" and \"methods\") available to us.\n",
    "\n",
    "Common libraries we'll be using are:\n",
    "\n",
    "*Datascience*, a Data8-specific data tools library,\n",
    "\n",
    "*Numpy*, a Python numeric methods and analytic library, and\n",
    "\n",
    "*Pandas*, a richer toolset for data analysis.\n",
    "\n",
    "\n",
    "We can assign new names for these libraries when we import them, to make it easier to call their features.\n",
    "\n"
   ]
  },
  {
   "cell_type": "code",
   "execution_count": 1,
   "metadata": {},
   "outputs": [],
   "source": [
    "# It's easy to import libraries!!\n",
    "\n",
    "# Note: To \"execute\" a block of Python code, hold down <Shift> Enter.\n",
    "# Notice that this code doesn't return anything\n",
    "\n",
    "import numpy as np\n",
    "import datascience as ds\n",
    "import pandas as pd"
   ]
  },
  {
   "cell_type": "markdown",
   "metadata": {},
   "source": [
    "Let's build a simple State Space Model.\n",
    "\n",
    "This Model has two States: \"Sunny\" and \"Raining\"\n",
    "\n",
    "If it's \"Sunny\" today, then tomorrow it will still be Sunny 80% of the time.\n",
    "    In this simple example it should be obvious that tomorrow it will be Raining 20% of the time.\n",
    "    \n",
    "If it's \"Raining\" today, then tomorrow it will still be Raining 60% of the time (and, correspondingly, Sunny 40% of the time)\n",
    "\n",
    "                        TOMORROW\n",
    "                    Sunny          Raining\n",
    "\n",
    "        Sunny        0.80            0.20\n",
    "\n",
    "TODAY\n",
    "\n",
    "        Raining      0.40            0.60\n",
    "\n",
    "\n",
    "# This is called the \"State Transition Matrix\"\n"
   ]
  },
  {
   "cell_type": "markdown",
   "metadata": {},
   "source": [
    "\n",
    "# Here's what this looks like graphically\n",
    "\n",
    "<img src=\"sunny-raining-state-space.png\"/>\n",
    "\n",
    "## 80% of the time when it's Sunny, it stays Sunny\n",
    "## And 60% of the time when it's Raining, it stays Raining\n",
    "\n",
    "\n"
   ]
  },
  {
   "cell_type": "code",
   "execution_count": 2,
   "metadata": {},
   "outputs": [
    {
     "data": {
      "text/plain": [
       "array([[0.8, 0.2],\n",
       "       [0.4, 0.6]])"
      ]
     },
     "execution_count": 2,
     "metadata": {},
     "output_type": "execute_result"
    }
   ],
   "source": [
    "# We start by creating the simple 2 x 2 transition matrrix as decribed\n",
    "\n",
    "\n",
    "state_space_1 = np.array([[.8, .2], [.4, .6]])\n",
    "\n",
    "state_space_1"
   ]
  },
  {
   "cell_type": "markdown",
   "metadata": {},
   "source": [
    "### There's clearly a tendency for current conditions to \"persist\"\n",
    "\n",
    "### It turns out multiplying the transition matrix by itself gives you a window into the future 2 changes ahead...\n",
    "\n",
    "\n"
   ]
  },
  {
   "cell_type": "code",
   "execution_count": 4,
   "metadata": {},
   "outputs": [
    {
     "data": {
      "text/plain": [
       "array([[0.64, 0.04],\n",
       "       [0.16, 0.36]])"
      ]
     },
     "execution_count": 4,
     "metadata": {},
     "output_type": "execute_result"
    }
   ],
   "source": [
    "state_space_1 * state_space_1"
   ]
  },
  {
   "cell_type": "markdown",
   "metadata": {},
   "source": [
    "### OOPS! It also turns out there are multiple ways of multiplying matrices together!\n",
    "\n",
    " As we see above, Python supports a mutiplication protocol which is an `element-wise` multiplication\n",
    "\n",
    " That means that the result is:\n",
    " \n",
    " [state_space(1,1) * state_space(1,1),   state_space(1,2) * state_space(1,2)]\n",
    " \n",
    " [state_space(2,1) * state_space(2,1),   state_space(2,2) * state_space(2,2)]"
   ]
  },
  {
   "cell_type": "markdown",
   "metadata": {},
   "source": [
    "<br>\n",
    "<br>\n",
    "\n",
    "### What we _want_ is a matrix multiplication, also known as the `dot product`\n",
    "\n",
    "### Here, Result[a,a] = input(a,a) * input(a,a) + input(a,b) * input(b,a)\n",
    "\n",
    "Result[a,b] = I(a,a) * I(a,b) + I(a,b) * I(b,b)\n",
    "\n",
    " Result[a,b] = I(b,a) * I(a,a) + I(b,b) * I(b,a)\n",
    "\n",
    " Result[b,b] = I(b,a) * I(a,b) + I(b,b) * I(b,b)\n"
   ]
  },
  {
   "cell_type": "code",
   "execution_count": 5,
   "metadata": {},
   "outputs": [
    {
     "data": {
      "text/plain": [
       "array([[0.72, 0.28],\n",
       "       [0.56, 0.44]])"
      ]
     },
     "execution_count": 5,
     "metadata": {},
     "output_type": "execute_result"
    }
   ],
   "source": [
    "np.dot(state_space_1, state_space_1)"
   ]
  },
  {
   "cell_type": "code",
   "execution_count": 8,
   "metadata": {},
   "outputs": [
    {
     "data": {
      "text/plain": [
       "array([[0.72, 0.28],\n",
       "       [0.56, 0.44]])"
      ]
     },
     "execution_count": 8,
     "metadata": {},
     "output_type": "execute_result"
    }
   ],
   "source": [
    "# Python also has a generalized \".matrix_power\" feature that is equivalent to using \".dot\" multiple times\n",
    "# This feature is part of the \"linalg\" library of Numpy\n",
    "\n",
    "np.linalg.matrix_power(state_space_1, 2)"
   ]
  },
  {
   "cell_type": "markdown",
   "metadata": {},
   "source": [
    "<h2> What does this matrix tell us? </h2>\n",
    "\n",
    "\n",
    "As stated before, this matrix shows us the probabilities of each state the day after tommorow. \n",
    "\n",
    "For example, what is the probability that it will be sunny the day after tommorow given that it's sunny today?\n",
    "\n",
    "Given that it's <b>sunny</b> today there is a .8 chance of being sunny tommorow and then another .8 chance of being sunny the day after that. However there is also a .2 chance that it rains tommorow, and then if it's raining there's a .4 chance of being sunny the day after tommorow. \n",
    "\n",
    "So we get `(.8 * .8) + (.2 * .4) = .72` \n",
    "\n",
    "Which is the same result as what we get in finding the dot product\n",
    "\n",
    "\n",
    "\n"
   ]
  },
  {
   "cell_type": "code",
   "execution_count": 9,
   "metadata": {},
   "outputs": [
    {
     "data": {
      "text/plain": [
       "array([[0.6752, 0.3248],\n",
       "       [0.6496, 0.3504]])"
      ]
     },
     "execution_count": 9,
     "metadata": {},
     "output_type": "execute_result"
    }
   ],
   "source": [
    "#Finally, we won't get into the math here, but the limit of these matrix multiplications \n",
    "#yields the probability of finding yourself in any given state at any given time...\n",
    "\n",
    "np.linalg.matrix_power(state_space_1, 4)"
   ]
  },
  {
   "cell_type": "markdown",
   "metadata": {},
   "source": [
    "## We see that our simple weather system converges on 67% Sunny, 33% Rainy"
   ]
  },
  {
   "cell_type": "code",
   "execution_count": 7,
   "metadata": {},
   "outputs": [
    {
     "data": {
      "text/plain": [
       "array([[0.66670162, 0.33329838],\n",
       "       [0.66659676, 0.33340324]])"
      ]
     },
     "execution_count": 7,
     "metadata": {},
     "output_type": "execute_result"
    }
   ],
   "source": [
    "np.linalg.matrix_power(state_space_1, 10)"
   ]
  },
  {
   "cell_type": "markdown",
   "metadata": {},
   "source": [
    "# Review\n",
    "\n",
    "### If we knew nothing, what would we guess the odds of it being Rainy tomorrow?\n",
    "\n",
    "### If we knew it was Sunny today? Rainy?"
   ]
  },
  {
   "cell_type": "markdown",
   "metadata": {},
   "source": [
    "# We can make this a little more complex\n",
    "\n",
    " Let's imagine 3 states now: Sunny, Cloudy, and Raining.\n",
    "\n"
   ]
  },
  {
   "cell_type": "code",
   "execution_count": 12,
   "metadata": {},
   "outputs": [],
   "source": [
    "state_space_2 = np.array([[.7, .2, .1], [.2, .6, .2], [.1, .2, .7]])"
   ]
  },
  {
   "cell_type": "code",
   "execution_count": 13,
   "metadata": {},
   "outputs": [
    {
     "data": {
      "text/plain": [
       "array([[0.7, 0.2, 0.1],\n",
       "       [0.2, 0.6, 0.2],\n",
       "       [0.1, 0.2, 0.7]])"
      ]
     },
     "execution_count": 13,
     "metadata": {},
     "output_type": "execute_result"
    }
   ],
   "source": [
    "state_space_2"
   ]
  },
  {
   "cell_type": "code",
   "execution_count": 14,
   "metadata": {},
   "outputs": [
    {
     "data": {
      "text/plain": [
       "array([[0.54, 0.28, 0.18],\n",
       "       [0.28, 0.44, 0.28],\n",
       "       [0.18, 0.28, 0.54]])"
      ]
     },
     "execution_count": 14,
     "metadata": {},
     "output_type": "execute_result"
    }
   ],
   "source": [
    "np.linalg.matrix_power(state_space_2, 2)"
   ]
  },
  {
   "cell_type": "code",
   "execution_count": 15,
   "metadata": {},
   "outputs": [
    {
     "data": {
      "text/plain": [
       "array([[0.3335686 , 0.33333298, 0.33309842],\n",
       "       [0.33333298, 0.33333405, 0.33333298],\n",
       "       [0.33309842, 0.33333298, 0.3335686 ]])"
      ]
     },
     "execution_count": 15,
     "metadata": {},
     "output_type": "execute_result"
    }
   ],
   "source": [
    "# these symmetric probabilities yield equal time in all states\n",
    "\n",
    "np.linalg.matrix_power(state_space_2, 15)"
   ]
  },
  {
   "cell_type": "code",
   "execution_count": 16,
   "metadata": {},
   "outputs": [
    {
     "data": {
      "text/plain": [
       "array([[0.7, 0.2, 0.1],\n",
       "       [0.3, 0.6, 0.1],\n",
       "       [0.1, 0.3, 0.6]])"
      ]
     },
     "execution_count": 16,
     "metadata": {},
     "output_type": "execute_result"
    }
   ],
   "source": [
    "# changing it up a little changes the steady-state probabilities\n",
    "\n",
    "state_space_3 = np.array([[.7, .2, .1], [.3, .6, .1], [.1, .3, .6]])\n",
    "state_space_3"
   ]
  },
  {
   "cell_type": "code",
   "execution_count": 17,
   "metadata": {},
   "outputs": [
    {
     "data": {
      "text/plain": [
       "array([[0.43343379, 0.36661504, 0.19995117],\n",
       "       [0.43341701, 0.36663182, 0.19995117],\n",
       "       [0.43296228, 0.36684241, 0.20019531]])"
      ]
     },
     "execution_count": 17,
     "metadata": {},
     "output_type": "execute_result"
    }
   ],
   "source": [
    "np.linalg.matrix_power(state_space_3, 12)"
   ]
  },
  {
   "cell_type": "markdown",
   "metadata": {},
   "source": [
    "## Quick Review\n",
    "\n",
    "### If today is rainy, what is the probability that the day after tommorow is sunny?"
   ]
  },
  {
   "cell_type": "markdown",
   "metadata": {},
   "source": [
    "# Let's start to think about what a State Space Model of a baseball inning might look like\n",
    "\n",
    "## What are the possible States of the \"system\"?\n",
    "\n",
    " Every inning starts with 0 outs and empty bases.\n",
    " \n",
    " Every inning ends with 3 outs.\n",
    " \n",
    " Each new batter creates a transition event\n",
    " \n",
    "## Are there other non-batter transitions?\n",
    "\n",
    " ### Let's consider the combinations of outs and base-runner situations...\n",
    " \n",
    " Outs go over the set {0, 1, 2 ,3}\n",
    " \n",
    " Base-runners go over set {None, 1st, 2nd, 3rd, 1st & 2nd, 2nd & 3rd, Loaded}\n",
    "\n",
    "## What can we say about these combinations?\n",
    "## Not all paths are possible...\n",
    " You cannot go \"backwards\" from 1 out to 0 or 2 outs to 1.\n",
    " \n",
    " Similarly, you cannot go from {0, None} to {0, Loaded}\n",
    "\n",
    "## Let's consider the available paths from one State, {1, 1st & 2nd}\n",
    " `{0, any} not possible`\n",
    " \n",
    " `{3, none} Hit into DP, Inning over`\n",
    "\n",
    "## The available paths with 1 and 2 outs are more complicated...\n",
    "\n",
    " `{1, None} Home Run! [3 runs in]`\n",
    " \n",
    " `{1, 1st}  1BH + 2 runs score`\n",
    " \n",
    " `{1, 2nd}  2BH + 2 runs score`\n",
    " \n",
    " `{1, 3rd}  3BH + 2 runs score`\n",
    " \n",
    " `{1, 1st & 2nd}  1BH + 1 run scores`\n",
    " \n",
    " `{1, 2nd & 3rd}  Double Steal(!)` \n",
    " \n",
    " `{1, Loaded}  1BH, Walk, Error`\n",
    "\n",
    " `{2, None} 2 runs score + 1 out made on bases`\n",
    " \n",
    " `{2, 1st}  1BH + 1 run scores + 1 out made on bases`\n",
    " \n",
    " `{2, 2nd}  2BH + 1 run scores + 1 out made on bases`\n",
    " \n",
    " `{2, 3rd}  3BH + 1 run scores + 1 out made on bases [other?]`\n",
    " \n",
    " `{2, 1st & 2nd}  Batter Out, Fielder's Choice`\n",
    " \n",
    " `{2, 2nd & 3rd}  Sacrifice, Fielder's Choice, Hit + Out on Bases`\n",
    " \n",
    " `{2, Loaded}  not possible`\n",
    " \n",
    "\n"
   ]
  },
  {
   "cell_type": "markdown",
   "metadata": {},
   "source": [
    "## There are various \"Events\" that act over the system to change the State Space.\n",
    "\n",
    "### Above we reference several, things like \"1BH\" (Single), \"2BH\" (Double), \"Double Steal\", \"Sacrifice\"\n",
    "\n",
    "### We can imagine the State Space of an inning evolving along a path like:\n",
    " `1) {0, None} The default start condition of the system`\n",
    " \n",
    " `2) {0, None} --> {0, 2nd}: Leadoff batter gets 2BH`\n",
    " \n",
    " `3) {0, 2nd} --> {1, 2nd}:  2nd batter makes an out`\n",
    " \n",
    " `4) {1, 2nd} --> {1, 1st}: 3rd batter gets a 1BH, run scores`\n",
    " \n",
    " `5) {1, 1st} --> {3, None}: 4th batter hits into DP...All innings end with 3 outs.`\n",
    "\n",
    "\n",
    "### Note: the State of the system doesn't tell us if any runs have scored, only describes the current Outs / Runners State\n",
    "\n",
    "### We're not going to concern ourselves with specifically how the system evolves right now\n",
    "\n",
    "### You can imagine a much more detailed State Space Model that includes, for example, the Ball-Strikes count on the batter."
   ]
  },
  {
   "cell_type": "markdown",
   "metadata": {},
   "source": []
  },
  {
   "cell_type": "code",
   "execution_count": 34,
   "metadata": {},
   "outputs": [],
   "source": [
    "\n",
    "\n",
    "\n"
   ]
  },
  {
   "cell_type": "code",
   "execution_count": null,
   "metadata": {},
   "outputs": [],
   "source": []
  },
  {
   "cell_type": "code",
   "execution_count": null,
   "metadata": {},
   "outputs": [],
   "source": []
  },
  {
   "cell_type": "markdown",
   "metadata": {},
   "source": [
    "### Problem 1\n",
    "`Create a 4-state transition matrix with the following probabilities...`<br>\n",
    "#### State 1: 90% to 1, 10% to 2, 0% to 3, 0% to 4\n",
    "#### State 2: 25% to 1, 70% to 2, 5% to 3, 0% to 4\n",
    "#### State 3: 0% to 1, 5% to 2, 70% to 3, 25% to 4\n",
    "#### State 4: 0% to 1, 0% to 2, 10% to 3, 90% to 4\n",
    "\n",
    "<br>\n",
    "<br>\n",
    "\n",
    "### Observe this state space over different forward periods <br>\n",
    "### Describe the behavior over short- and long-run periods <br>\n",
    "### Are there any real-world state phenomena like this?\n"
   ]
  },
  {
   "cell_type": "markdown",
   "metadata": {},
   "source": [
    "### Problem 2\n",
    "\n",
    "#### Describe a potential State, and Event space for a basketball, or football posession<br>"
   ]
  },
  {
   "cell_type": "code",
   "execution_count": null,
   "metadata": {},
   "outputs": [],
   "source": []
  },
  {
   "cell_type": "code",
   "execution_count": null,
   "metadata": {},
   "outputs": [],
   "source": []
  },
  {
   "cell_type": "code",
   "execution_count": null,
   "metadata": {},
   "outputs": [],
   "source": []
  },
  {
   "cell_type": "code",
   "execution_count": null,
   "metadata": {},
   "outputs": [],
   "source": []
  },
  {
   "cell_type": "code",
   "execution_count": null,
   "metadata": {},
   "outputs": [],
   "source": []
  },
  {
   "cell_type": "code",
   "execution_count": null,
   "metadata": {},
   "outputs": [],
   "source": []
  },
  {
   "cell_type": "markdown",
   "metadata": {},
   "source": []
  },
  {
   "cell_type": "code",
   "execution_count": null,
   "metadata": {},
   "outputs": [],
   "source": []
  },
  {
   "cell_type": "markdown",
   "metadata": {},
   "source": []
  },
  {
   "cell_type": "code",
   "execution_count": null,
   "metadata": {},
   "outputs": [],
   "source": []
  },
  {
   "cell_type": "markdown",
   "metadata": {},
   "source": []
  },
  {
   "cell_type": "code",
   "execution_count": null,
   "metadata": {},
   "outputs": [],
   "source": []
  },
  {
   "cell_type": "markdown",
   "metadata": {},
   "source": []
  },
  {
   "cell_type": "code",
   "execution_count": null,
   "metadata": {},
   "outputs": [],
   "source": []
  },
  {
   "cell_type": "code",
   "execution_count": null,
   "metadata": {},
   "outputs": [],
   "source": []
  },
  {
   "cell_type": "code",
   "execution_count": null,
   "metadata": {},
   "outputs": [],
   "source": []
  }
 ],
 "metadata": {
  "kernelspec": {
   "display_name": "Python 3",
   "language": "python",
   "name": "python3"
  },
  "language_info": {
   "codemirror_mode": {
    "name": "ipython",
    "version": 3
   },
   "file_extension": ".py",
   "mimetype": "text/x-python",
   "name": "python",
   "nbconvert_exporter": "python",
   "pygments_lexer": "ipython3",
   "version": "3.6.9"
  }
 },
 "nbformat": 4,
 "nbformat_minor": 4
}
