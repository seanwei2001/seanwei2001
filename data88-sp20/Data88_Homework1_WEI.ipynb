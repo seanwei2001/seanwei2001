{
 "cells": [
  {
   "cell_type": "markdown",
   "metadata": {},
   "source": [
    "### Please submit a Jupyter notebook with the name format:\n",
    "### \"Data88_Homework1_LASTNAME.ipynb\"\n",
    "### Use the \"markdown\" mode for written answers and include comments and notes as appropriate"
   ]
  },
  {
   "cell_type": "code",
   "execution_count": 2,
   "metadata": {},
   "outputs": [],
   "source": [
    "import numpy as np\n",
    "import datascience as ds\n",
    "import pandas as pd"
   ]
  },
  {
   "cell_type": "markdown",
   "metadata": {},
   "source": [
    "### Problem 1\n",
    "`Create a 4-state transition matrix with the following probabilities...`<br>\n",
    "#### State 1: 90% to 1, 10% to 2, 0% to 3, 0% to 4\n",
    "#### State 2: 25% to 1, 70% to 2, 5% to 3, 0% to 4\n",
    "#### State 3: 0% to 1, 5% to 2, 70% to 3, 25% to 4\n",
    "#### State 4: 0% to 1, 0% to 2, 10% to 3, 90% to 4\n",
    "\n",
    "<br>\n",
    "<br>\n",
    "\n",
    "### Observe this state space over different forward periods <br>\n",
    "### Describe the behavior over short- and long-run periods <br>\n",
    "### Are there any real-world state phenomena like this?"
   ]
  },
  {
   "cell_type": "code",
   "execution_count": 13,
   "metadata": {},
   "outputs": [
    {
     "data": {
      "text/plain": [
       "array([[0.9 , 0.1 , 0.  , 0.  ],\n",
       "       [0.25, 0.7 , 0.05, 0.  ],\n",
       "       [0.  , 0.05, 0.7 , 0.25],\n",
       "       [0.  , 0.  , 0.1 , 0.9 ]])"
      ]
     },
     "execution_count": 13,
     "metadata": {},
     "output_type": "execute_result"
    }
   ],
   "source": [
    "state = np.array([[0.9, 0.1, 0.0, 0.0], [0.25, 0.7, 0.05, 0.0], [0.0, 0.05, 0.7, 0.25], [0.0, 0.0, 0.1, 0.9]])\n",
    "state"
   ]
  },
  {
   "cell_type": "code",
   "execution_count": 26,
   "metadata": {},
   "outputs": [
    {
     "name": "stdout",
     "output_type": "stream",
     "text": [
      "state at 10: [[0.67893433 0.23829705 0.04357073 0.03919789]\n",
      " [0.59574263 0.22412558 0.07120495 0.10892683]\n",
      " [0.10892683 0.07120495 0.22412558 0.59574263]\n",
      " [0.03919789 0.04357073 0.23829705 0.67893433]]\n",
      " \n",
      "state at 50: [[0.48084268 0.18073722 0.10497707 0.23344303]\n",
      " [0.45184304 0.17185678 0.11385751 0.26244267]\n",
      " [0.26244267 0.11385751 0.17185678 0.45184304]\n",
      " [0.23344303 0.10497707 0.18073722 0.48084268]]\n",
      " \n",
      "state at 100: [[0.39492065 0.15442568 0.13128861 0.31936506]\n",
      " [0.38606419 0.1517136  0.13400068 0.32822152]\n",
      " [0.32822152 0.13400068 0.1517136  0.38606419]\n",
      " [0.31936506 0.13128861 0.15442568 0.39492065]]\n",
      " \n",
      "state at 1000: [[0.35714286 0.14285714 0.14285714 0.35714286]\n",
      " [0.35714286 0.14285714 0.14285714 0.35714286]\n",
      " [0.35714286 0.14285714 0.14285714 0.35714286]\n",
      " [0.35714286 0.14285714 0.14285714 0.35714286]]\n"
     ]
    }
   ],
   "source": [
    "state_10 = np.linalg.matrix_power(state, 10)\n",
    "state_50 = np.linalg.matrix_power(state, 50)\n",
    "state_75 = np.linalg.matrix_power(state, 75)\n",
    "state_100 = np.linalg.matrix_power(state, 100)\n",
    "state_1000 = np.linalg.matrix_power(state, 1000)\n",
    "print(\"state at 10:\", state_10)\n",
    "print(\" \")\n",
    "print(\"state at 50:\", state_50)\n",
    "print(\" \")\n",
    "print(\"state at 100:\", state_100)\n",
    "print(\" \")\n",
    "print(\"state at 1000:\", state_1000)"
   ]
  },
  {
   "cell_type": "code",
   "execution_count": null,
   "metadata": {},
   "outputs": [],
   "source": [
    "#In the short run, the matrix shows the probability of transitioning to each state, over long run periods, the probability for each state converges to the same number. A real life example of this would be if four different colleges had these acceptance rates, and over thousands of applicants, their actual acceptance rate more accurately represents this projected acceptance rate."
   ]
  },
  {
   "cell_type": "markdown",
   "metadata": {},
   "source": [
    "### Problem 2\n",
    "\n",
    "#### Describe a potential State, and Event space for a basketball, or football posession (your choice).<br>\n",
    "#### That is, what are the sets of States and transition Events between states you might model?"
   ]
  },
  {
   "cell_type": "code",
   "execution_count": 17,
   "metadata": {},
   "outputs": [],
   "source": [
    "### Football posession showing {down, line of scrimmage, yards to gain}\n",
    "#1) {1st, own-25, 10} Default start condition\n",
    "#2) {1st, own-25, 10} -> {2nd, own-29, 6}: Halfback rush for 4 yards\n",
    "#3) {2nd, own-29, 6} -> {3rd, own-31, 4}: Quarterback pass complete to Tight End for 2 yards\n",
    "#4) {3rd, own-31, 4} -> {4th, own-31, 4}: Quarterback pass incomplete to Wide Receiver for 0 yards\n",
    "#5) {4th, own-31, 4} -> {Change of possession}: Punter punts to the opponent's 25, end of posession"
   ]
  },
  {
   "cell_type": "code",
   "execution_count": null,
   "metadata": {},
   "outputs": [],
   "source": []
  },
  {
   "cell_type": "code",
   "execution_count": null,
   "metadata": {},
   "outputs": [],
   "source": []
  }
 ],
 "metadata": {
  "kernelspec": {
   "display_name": "Python 3",
   "language": "python",
   "name": "python3"
  },
  "language_info": {
   "codemirror_mode": {
    "name": "ipython",
    "version": 3
   },
   "file_extension": ".py",
   "mimetype": "text/x-python",
   "name": "python",
   "nbconvert_exporter": "python",
   "pygments_lexer": "ipython3",
   "version": "3.8.6"
  }
 },
 "nbformat": 4,
 "nbformat_minor": 4
}
