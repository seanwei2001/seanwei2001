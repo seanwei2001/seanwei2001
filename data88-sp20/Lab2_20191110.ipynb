{
 "cells": [
  {
   "cell_type": "markdown",
   "metadata": {},
   "source": [
    "# Lab 2\n",
    "## Random Variables & Distributions\n",
    "## DataTable basic access methods (loc, iloc, at, iat)\n",
    "## Decision Trees & Conditional Probability\n",
    "\n",
    "\n",
    "##############################################################################################################"
   ]
  },
  {
   "cell_type": "code",
   "execution_count": null,
   "metadata": {},
   "outputs": [],
   "source": []
  },
  {
   "cell_type": "code",
   "execution_count": null,
   "metadata": {},
   "outputs": [],
   "source": []
  },
  {
   "cell_type": "code",
   "execution_count": 14,
   "metadata": {},
   "outputs": [],
   "source": [
    "import numpy as np\n",
    "import datascience as ds\n",
    "import pandas as pd"
   ]
  },
  {
   "cell_type": "code",
   "execution_count": 15,
   "metadata": {},
   "outputs": [],
   "source": [
    "# the matplotlib library helps us do some plotting and data display\n",
    "\n",
    "import matplotlib\n",
    "%matplotlib inline\n",
    "import matplotlib.pyplot as plots\n",
    "plots.style.use('fivethirtyeight')"
   ]
  },
  {
   "cell_type": "markdown",
   "metadata": {},
   "source": [
    "### Let's look at the Numpy \"random\" module.\n",
    "\n",
    "### We've imported the Numpy libraries as \"np\", so we'll access it with `np.random`\n",
    "\n",
    "#### `np.random?` will provide us further information about the methods underneath/within the module\n",
    "#### As we see, it yields quite a few!"
   ]
  },
  {
   "cell_type": "code",
   "execution_count": 16,
   "metadata": {},
   "outputs": [],
   "source": [
    "np.random?"
   ]
  },
  {
   "cell_type": "markdown",
   "metadata": {},
   "source": [
    "## Let's focus on a few basic *probability distributions*.\n",
    "\n",
    "### We won't get into the formal definitions and mathematical details here. I encourage you to take an Intro to Statistics class to build that knowledge.\n",
    "### We will look at a few distributions so that we can develop intuitive familiarity with them, and how to see them with plotting tools.\n",
    "\n",
    "## We'll start with a most basic building block: the Uniform Distribution\n",
    "### A Uniform variable is one whose outcome is equally likely across it's entire range.\n",
    "### The _continuous_ Uniform variable with range 0,1 is a common variable of interest\n",
    "### A _Discrete_ Uniform distribution would be, for example, the roll of a single die \n"
   ]
  },
  {
   "cell_type": "code",
   "execution_count": 17,
   "metadata": {},
   "outputs": [
    {
     "data": {
      "text/plain": [
       "0.3144585600200397"
      ]
     },
     "execution_count": 17,
     "metadata": {},
     "output_type": "execute_result"
    }
   ],
   "source": [
    "# With no other inputs, np.random.uniform() returns a random member of U[0,1] \n",
    "\n",
    "np.random.uniform()"
   ]
  },
  {
   "cell_type": "code",
   "execution_count": 18,
   "metadata": {},
   "outputs": [],
   "source": [
    "# Let's build an array of many of these and look at it's collective properties\n",
    "# np.random.uniform() will automatically build us an array of random U[0,1] variables!\n",
    "\n",
    "unis = np.random.uniform(0,1,1000)\n"
   ]
  },
  {
   "cell_type": "markdown",
   "metadata": {},
   "source": [
    "###  A Uniform variable should have mean of (Max - Min) / 2\n",
    "#### I hope it makes intuitive sense that the average \"draw\" from an evenly distributed variable should be right in the middle of the outcome values.\n",
    "\n",
    "### A Uniform variable has *variance* of (1/12) * (Max - Min) ^ 2\n",
    "### Broadly speaking, variance is a measure of the spread of values in a distribution.\n",
    "\n",
    "### So, our Uniform(0,1) distribution should have Mean = .5, and Var = (1/12) = .0833\n",
    "\n"
   ]
  },
  {
   "cell_type": "code",
   "execution_count": 19,
   "metadata": {},
   "outputs": [
    {
     "data": {
      "text/plain": [
       "0.4984226729591444"
      ]
     },
     "execution_count": 19,
     "metadata": {},
     "output_type": "execute_result"
    }
   ],
   "source": [
    "unis.mean()"
   ]
  },
  {
   "cell_type": "code",
   "execution_count": 20,
   "metadata": {},
   "outputs": [
    {
     "data": {
      "text/plain": [
       "0.07953786496173129"
      ]
     },
     "execution_count": 20,
     "metadata": {},
     "output_type": "execute_result"
    }
   ],
   "source": [
    "unis.var()"
   ]
  },
  {
   "cell_type": "markdown",
   "metadata": {},
   "source": [
    "### Let's use some plotting tools to look at the distribution of variables in our array \"unis\"\n",
    "\n",
    "### Recall above we imported some plotting tools as \"plots\"\n",
    "### Let's make a simple histogram...\n"
   ]
  },
  {
   "cell_type": "code",
   "execution_count": 21,
   "metadata": {},
   "outputs": [],
   "source": [
    "plots.hist?"
   ]
  },
  {
   "cell_type": "code",
   "execution_count": 22,
   "metadata": {},
   "outputs": [
    {
     "data": {
      "text/plain": [
       "(array([42., 42., 52., 67., 58., 49., 39., 46., 60., 35., 46., 63., 46.,\n",
       "        51., 55., 61., 63., 42., 40., 43.]),\n",
       " array([2.70066229e-04, 5.02228066e-02, 1.00175547e-01, 1.50128287e-01,\n",
       "        2.00081028e-01, 2.50033768e-01, 2.99986509e-01, 3.49939249e-01,\n",
       "        3.99891989e-01, 4.49844730e-01, 4.99797470e-01, 5.49750211e-01,\n",
       "        5.99702951e-01, 6.49655691e-01, 6.99608432e-01, 7.49561172e-01,\n",
       "        7.99513913e-01, 8.49466653e-01, 8.99419393e-01, 9.49372134e-01,\n",
       "        9.99324874e-01]),\n",
       " <a list of 20 Patch objects>)"
      ]
     },
     "execution_count": 22,
     "metadata": {},
     "output_type": "execute_result"
    },
    {
     "data": {
      "image/png": "[encoded data removed]",
      "text/plain": [
       "<Figure size 432x288 with 1 Axes>"
      ]
     },
     "metadata": {},
     "output_type": "display_data"
    }
   ],
   "source": [
    "# Here, plots.hist() is the core object. \n",
    "# Simply providing the array and a number of buckets yields the result\n",
    "# The top vector is the number of elements in each bucket\n",
    "# The bottom vector the actual breakpoint values.\n",
    "\n",
    "plots.hist(unis,20)"
   ]
  },
  {
   "cell_type": "code",
   "execution_count": 23,
   "metadata": {},
   "outputs": [
    {
     "data": {
      "text/plain": [
       "(array([ 8., 13.,  6., 11., 14.,  8., 10., 11.,  9., 10.]),\n",
       " array([0.00205409, 0.10089101, 0.19972792, 0.29856484, 0.39740175,\n",
       "        0.49623867, 0.59507558, 0.6939125 , 0.79274941, 0.89158633,\n",
       "        0.99042324]),\n",
       " <a list of 10 Patch objects>)"
      ]
     },
     "execution_count": 23,
     "metadata": {},
     "output_type": "execute_result"
    },
    {
     "data": {
      "image/png": "[encoded data removed]",
      "text/plain": [
       "<Figure size 432x288 with 1 Axes>"
      ]
     },
     "metadata": {},
     "output_type": "display_data"
    }
   ],
   "source": [
    "# Let's now create an array of random U(0,1) values and print the histogram in one go...\n",
    "# Here we'll make 100 variables, and display in 10 buckets \n",
    "# We can run this a few times & see quite a bit of variability in results!\n",
    "\n",
    "plots.hist(np.random.uniform(0,1,100),10)"
   ]
  },
  {
   "cell_type": "markdown",
   "metadata": {},
   "source": [
    "# Let's create and look at a few more distributions\n",
    "\n",
    "### The Normal or \"Standard Normal\" is the familiar bell curve we all know.\n",
    "### The \"Standard Normal\" is a Normal distribution with Mean = 0 and Standard Deviation = 1\n",
    "### Generally speaking, 2/3rds of the outcomes of a Normal Distribution should fall within 1 Standard Deviation of the mean\n"
   ]
  },
  {
   "cell_type": "code",
   "execution_count": 24,
   "metadata": {},
   "outputs": [
    {
     "data": {
      "text/plain": [
       "(array([   2.,    0.,    9.,   15.,   23.,   52.,   78.,  167.,  235.,\n",
       "         380.,  537.,  719.,  797.,  968., 1009., 1087.,  909.,  813.,\n",
       "         688.,  538.,  389.,  237.,  158.,   77.,   60.,   23.,   15.,\n",
       "           7.,    5.,    3.]),\n",
       " array([-3.86361857, -3.60674364, -3.3498687 , -3.09299376, -2.83611883,\n",
       "        -2.57924389, -2.32236895, -2.06549402, -1.80861908, -1.55174414,\n",
       "        -1.2948692 , -1.03799427, -0.78111933, -0.52424439, -0.26736946,\n",
       "        -0.01049452,  0.24638042,  0.50325535,  0.76013029,  1.01700523,\n",
       "         1.27388017,  1.5307551 ,  1.78763004,  2.04450498,  2.30137991,\n",
       "         2.55825485,  2.81512979,  3.07200473,  3.32887966,  3.5857546 ,\n",
       "         3.84262954]),\n",
       " <a list of 30 Patch objects>)"
      ]
     },
     "execution_count": 24,
     "metadata": {},
     "output_type": "execute_result"
    },
    {
     "data": {
      "image/png": "[encoded data removed]",
      "text/plain": [
       "<Figure size 432x288 with 1 Axes>"
      ]
     },
     "metadata": {},
     "output_type": "display_data"
    }
   ],
   "source": [
    "# Here we create 10,000 Standard Normals\n",
    "\n",
    "plots.hist(np.random.normal(0,1,10000),30)"
   ]
  },
  {
   "cell_type": "markdown",
   "metadata": {},
   "source": [
    "### We'll look at one more important distribution today\n",
    "\n",
    "### The Exponential distribution is a good tool for analyzing extreme outcomes.\n",
    "### It does a good job of describing, for example, size distribution of companies in the stock market...\n",
    "#### --A handful of VERY LARGE companies (Amazon, ExxonMobil, etc) and many, many smaller and smaller ones.\n",
    "\n",
    "\n"
   ]
  },
  {
   "cell_type": "code",
   "execution_count": 25,
   "metadata": {},
   "outputs": [
    {
     "data": {
      "text/plain": [
       "(array([1.181e+03, 9.990e+02, 9.070e+02, 8.600e+02, 7.180e+02, 6.150e+02,\n",
       "        5.570e+02, 4.640e+02, 4.420e+02, 3.510e+02, 3.440e+02, 2.920e+02,\n",
       "        2.460e+02, 2.340e+02, 2.040e+02, 1.780e+02, 1.510e+02, 1.540e+02,\n",
       "        1.390e+02, 1.190e+02, 9.200e+01, 7.800e+01, 8.200e+01, 6.800e+01,\n",
       "        5.900e+01, 4.300e+01, 5.000e+01, 3.100e+01, 4.000e+01, 3.000e+01,\n",
       "        2.600e+01, 2.400e+01, 2.800e+01, 2.700e+01, 1.400e+01, 1.800e+01,\n",
       "        2.300e+01, 1.000e+01, 1.500e+01, 1.100e+01, 1.100e+01, 7.000e+00,\n",
       "        1.000e+01, 5.000e+00, 3.000e+00, 8.000e+00, 5.000e+00, 1.000e+00,\n",
       "        4.000e+00, 1.000e+00, 4.000e+00, 1.000e+00, 1.000e+00, 3.000e+00,\n",
       "        0.000e+00, 1.000e+00, 3.000e+00, 0.000e+00, 1.000e+00, 1.000e+00,\n",
       "        0.000e+00, 0.000e+00, 0.000e+00, 0.000e+00, 1.000e+00, 0.000e+00,\n",
       "        1.000e+00, 0.000e+00, 1.000e+00, 0.000e+00, 0.000e+00, 0.000e+00,\n",
       "        0.000e+00, 1.000e+00, 1.000e+00, 0.000e+00, 0.000e+00, 0.000e+00,\n",
       "        0.000e+00, 0.000e+00, 0.000e+00, 0.000e+00, 0.000e+00, 0.000e+00,\n",
       "        0.000e+00, 0.000e+00, 0.000e+00, 0.000e+00, 0.000e+00, 0.000e+00,\n",
       "        0.000e+00, 0.000e+00, 0.000e+00, 0.000e+00, 0.000e+00, 0.000e+00,\n",
       "        0.000e+00, 0.000e+00, 0.000e+00, 1.000e+00]),\n",
       " array([7.06123204e-04, 1.23193488e+00, 2.46316364e+00, 3.69439239e+00,\n",
       "        4.92562115e+00, 6.15684991e+00, 7.38807866e+00, 8.61930742e+00,\n",
       "        9.85053618e+00, 1.10817649e+01, 1.23129937e+01, 1.35442224e+01,\n",
       "        1.47754512e+01, 1.60066800e+01, 1.72379087e+01, 1.84691375e+01,\n",
       "        1.97003662e+01, 2.09315950e+01, 2.21628237e+01, 2.33940525e+01,\n",
       "        2.46252813e+01, 2.58565100e+01, 2.70877388e+01, 2.83189675e+01,\n",
       "        2.95501963e+01, 3.07814250e+01, 3.20126538e+01, 3.32438826e+01,\n",
       "        3.44751113e+01, 3.57063401e+01, 3.69375688e+01, 3.81687976e+01,\n",
       "        3.94000263e+01, 4.06312551e+01, 4.18624839e+01, 4.30937126e+01,\n",
       "        4.43249414e+01, 4.55561701e+01, 4.67873989e+01, 4.80186276e+01,\n",
       "        4.92498564e+01, 5.04810852e+01, 5.17123139e+01, 5.29435427e+01,\n",
       "        5.41747714e+01, 5.54060002e+01, 5.66372289e+01, 5.78684577e+01,\n",
       "        5.90996865e+01, 6.03309152e+01, 6.15621440e+01, 6.27933727e+01,\n",
       "        6.40246015e+01, 6.52558302e+01, 6.64870590e+01, 6.77182877e+01,\n",
       "        6.89495165e+01, 7.01807453e+01, 7.14119740e+01, 7.26432028e+01,\n",
       "        7.38744315e+01, 7.51056603e+01, 7.63368890e+01, 7.75681178e+01,\n",
       "        7.87993466e+01, 8.00305753e+01, 8.12618041e+01, 8.24930328e+01,\n",
       "        8.37242616e+01, 8.49554903e+01, 8.61867191e+01, 8.74179479e+01,\n",
       "        8.86491766e+01, 8.98804054e+01, 9.11116341e+01, 9.23428629e+01,\n",
       "        9.35740916e+01, 9.48053204e+01, 9.60365492e+01, 9.72677779e+01,\n",
       "        9.84990067e+01, 9.97302354e+01, 1.00961464e+02, 1.02192693e+02,\n",
       "        1.03423922e+02, 1.04655150e+02, 1.05886379e+02, 1.07117608e+02,\n",
       "        1.08348837e+02, 1.09580065e+02, 1.10811294e+02, 1.12042523e+02,\n",
       "        1.13273752e+02, 1.14504981e+02, 1.15736209e+02, 1.16967438e+02,\n",
       "        1.18198667e+02, 1.19429896e+02, 1.20661124e+02, 1.21892353e+02,\n",
       "        1.23123582e+02]),\n",
       " <a list of 100 Patch objects>)"
      ]
     },
     "execution_count": 25,
     "metadata": {},
     "output_type": "execute_result"
    },
    {
     "data": {
      "image/png": "[encoded data removed]",
      "text/plain": [
       "<Figure size 432x288 with 1 Axes>"
      ]
     },
     "metadata": {},
     "output_type": "display_data"
    }
   ],
   "source": [
    "# Here we create 10,000 Exponential variables\n",
    "\n",
    "plots.hist(np.random.exponential(10,10000),100)"
   ]
  },
  {
   "cell_type": "code",
   "execution_count": null,
   "metadata": {},
   "outputs": [],
   "source": []
  },
  {
   "cell_type": "code",
   "execution_count": null,
   "metadata": {},
   "outputs": [],
   "source": []
  },
  {
   "cell_type": "code",
   "execution_count": null,
   "metadata": {},
   "outputs": [],
   "source": []
  },
  {
   "cell_type": "code",
   "execution_count": null,
   "metadata": {},
   "outputs": [],
   "source": []
  },
  {
   "cell_type": "markdown",
   "metadata": {},
   "source": [
    "## Last time we spoke about the State Space of a baseball inning\n",
    "\n",
    "## We looked at combinations of:\n",
    "### --Outs over the set {0, 1, 2, 3}, and \n",
    "### --Baserunners over the set {None, 1st, 2nd, 3rd, 1st & 2nd, 2nd & 3rd, Loaded}\n",
    "\n",
    "## Now let's look at how the analysis around those State Spaces has been put to use...\n",
    "\n",
    "\n"
   ]
  },
  {
   "cell_type": "markdown",
   "metadata": {},
   "source": [
    "### A fellow named George Lindsley developed the notion of the \"Run Expectancy Matrix\"...in 1963!\n",
    "\n",
    "### Given a State of Outs & Bases occupied, how many runs, on average, should a team expect to score the remainder of the inning?\n",
    "\n",
    "### Here are George's results. The numbers evolve, but these values are fine to work with & make perfect sense intuitively.\n",
    "\n",
    "### No Outs & Bases Loaded? Ka-ching!!\n",
    "### 2 Outs & Nobody on? Womp-womp...\n",
    "\n",
    "### Notice that at the start of an inning (0 outs, Bases empty) the expected value is 0.46, suggesting average runs scored over 9 innings of about 4.5.\n",
    "### In 2019, teams overall scored about 4.8 runs/game, so we're in the same neighborhood.\n",
    "\n",
    "\n",
    "\n",
    "|Onbase|  0 | 1  |  2 | 3  | 1,2| 1,3| 2,3|1,2,3|\n",
    "|------|----|----|----|----|----|----|----|-----|\n",
    "|0 Outs|0.46|0.81|1.19|1.39|1.47|1.94|1.96| 2.22|\n",
    "|1 Out |0.24|0.50|0.67|0.98|0.94|1.12|1.56|1.64 |\n",
    "|2 Outs|0.10|0.22|0.30|0.36|0.40|0.53|0.69|0.82 |\n",
    "\n"
   ]
  },
  {
   "cell_type": "code",
   "execution_count": 26,
   "metadata": {},
   "outputs": [],
   "source": [
    "REM = np.array([[0.46,0.81,1.19,1.39,1.47,1.94,1.96, 2.22],\n",
    "                [0.24,0.50,0.67,0.98,0.94,1.12,1.56,1.64],\n",
    "                [0.10,0.22,0.30,0.36,0.40,0.53,0.69,0.82]])"
   ]
  },
  {
   "cell_type": "code",
   "execution_count": 27,
   "metadata": {},
   "outputs": [
    {
     "data": {
      "text/plain": [
       "array([[0.46, 0.81, 1.19, 1.39, 1.47, 1.94, 1.96, 2.22],\n",
       "       [0.24, 0.5 , 0.67, 0.98, 0.94, 1.12, 1.56, 1.64],\n",
       "       [0.1 , 0.22, 0.3 , 0.36, 0.4 , 0.53, 0.69, 0.82]])"
      ]
     },
     "execution_count": 27,
     "metadata": {},
     "output_type": "execute_result"
    }
   ],
   "source": [
    "# quick check to confirm it's what we're expecting\n",
    "\n",
    "REM"
   ]
  },
  {
   "cell_type": "code",
   "execution_count": null,
   "metadata": {},
   "outputs": [],
   "source": []
  },
  {
   "cell_type": "code",
   "execution_count": 28,
   "metadata": {},
   "outputs": [],
   "source": [
    "# Let's extend this array object to a Pandas DataFrame...\n",
    "\n",
    "REM_df = pd.DataFrame(REM, columns=[\"None\", \"1st\", \"2nd\", \"3rd\", \"1st & 2nd\", \"1st & 3rd\", \"2nd & 3rd\", \"Loaded\"])"
   ]
  },
  {
   "cell_type": "code",
   "execution_count": 29,
   "metadata": {},
   "outputs": [
    {
     "data": {
      "text/html": [
       "<div>\n",
       "<style scoped>\n",
       "    .dataframe tbody tr th:only-of-type {\n",
       "        vertical-align: middle;\n",
       "    }\n",
       "\n",
       "    .dataframe tbody tr th {\n",
       "        vertical-align: top;\n",
       "    }\n",
       "\n",
       "    .dataframe thead th {\n",
       "        text-align: right;\n",
       "    }\n",
       "</style>\n",
       "<table border=\"1\" class=\"dataframe\">\n",
       "  <thead>\n",
       "    <tr style=\"text-align: right;\">\n",
       "      <th></th>\n",
       "      <th>None</th>\n",
       "      <th>1st</th>\n",
       "      <th>2nd</th>\n",
       "      <th>3rd</th>\n",
       "      <th>1st &amp; 2nd</th>\n",
       "      <th>1st &amp; 3rd</th>\n",
       "      <th>2nd &amp; 3rd</th>\n",
       "      <th>Loaded</th>\n",
       "    </tr>\n",
       "  </thead>\n",
       "  <tbody>\n",
       "    <tr>\n",
       "      <th>0</th>\n",
       "      <td>0.46</td>\n",
       "      <td>0.81</td>\n",
       "      <td>1.19</td>\n",
       "      <td>1.39</td>\n",
       "      <td>1.47</td>\n",
       "      <td>1.94</td>\n",
       "      <td>1.96</td>\n",
       "      <td>2.22</td>\n",
       "    </tr>\n",
       "    <tr>\n",
       "      <th>1</th>\n",
       "      <td>0.24</td>\n",
       "      <td>0.50</td>\n",
       "      <td>0.67</td>\n",
       "      <td>0.98</td>\n",
       "      <td>0.94</td>\n",
       "      <td>1.12</td>\n",
       "      <td>1.56</td>\n",
       "      <td>1.64</td>\n",
       "    </tr>\n",
       "    <tr>\n",
       "      <th>2</th>\n",
       "      <td>0.10</td>\n",
       "      <td>0.22</td>\n",
       "      <td>0.30</td>\n",
       "      <td>0.36</td>\n",
       "      <td>0.40</td>\n",
       "      <td>0.53</td>\n",
       "      <td>0.69</td>\n",
       "      <td>0.82</td>\n",
       "    </tr>\n",
       "  </tbody>\n",
       "</table>\n",
       "</div>"
      ],
      "text/plain": [
       "   None   1st   2nd   3rd  1st & 2nd  1st & 3rd  2nd & 3rd  Loaded\n",
       "0  0.46  0.81  1.19  1.39       1.47       1.94       1.96    2.22\n",
       "1  0.24  0.50  0.67  0.98       0.94       1.12       1.56    1.64\n",
       "2  0.10  0.22  0.30  0.36       0.40       0.53       0.69    0.82"
      ]
     },
     "execution_count": 29,
     "metadata": {},
     "output_type": "execute_result"
    }
   ],
   "source": [
    "# quick check to confirm it's what we're expecting\n",
    "# Note that the Row labels {0,1,2} are already exactly what we need!\n",
    "\n",
    "REM_df"
   ]
  },
  {
   "cell_type": "code",
   "execution_count": 30,
   "metadata": {},
   "outputs": [
    {
     "data": {
      "text/plain": [
       "[RangeIndex(start=0, stop=3, step=1),\n",
       " Index(['None', '1st', '2nd', '3rd', '1st & 2nd', '1st & 3rd', '2nd & 3rd',\n",
       "        'Loaded'],\n",
       "       dtype='object')]"
      ]
     },
     "execution_count": 30,
     "metadata": {},
     "output_type": "execute_result"
    }
   ],
   "source": [
    "# DataFrame.axes tells us something about the Rows & Columns of the DataFrame object\n",
    "\n",
    "REM_df.axes"
   ]
  },
  {
   "cell_type": "markdown",
   "metadata": {},
   "source": [
    "# Let's look at some basic data retrieval from DataTable\n",
    "\n",
    "## DataFrame.loc and .iloc are useful methods...\n",
    "## .loc[] can accept tags, .iloc[] is meant to take integer indices"
   ]
  },
  {
   "cell_type": "code",
   "execution_count": null,
   "metadata": {},
   "outputs": [],
   "source": []
  },
  {
   "cell_type": "code",
   "execution_count": 31,
   "metadata": {},
   "outputs": [
    {
     "data": {
      "text/plain": [
       "None         0.10\n",
       "1st          0.22\n",
       "2nd          0.30\n",
       "3rd          0.36\n",
       "1st & 2nd    0.40\n",
       "1st & 3rd    0.53\n",
       "2nd & 3rd    0.69\n",
       "Loaded       0.82\n",
       "Name: 2, dtype: float64"
      ]
     },
     "execution_count": 31,
     "metadata": {},
     "output_type": "execute_result"
    }
   ],
   "source": [
    "# Here, DataFrame.loc[n] returns the n-th Row of the DataFrame object\n",
    "\n",
    "REM_df.loc[2]"
   ]
  },
  {
   "cell_type": "code",
   "execution_count": 32,
   "metadata": {},
   "outputs": [
    {
     "data": {
      "text/plain": [
       "0.82"
      ]
     },
     "execution_count": 32,
     "metadata": {},
     "output_type": "execute_result"
    }
   ],
   "source": [
    "# DataFrame.loc[n][m] returns the n-th, m-th element\n",
    "\n",
    "REM_df.loc[2][\"Loaded\"]"
   ]
  },
  {
   "cell_type": "code",
   "execution_count": 33,
   "metadata": {},
   "outputs": [
    {
     "data": {
      "text/plain": [
       "0    2.22\n",
       "1    1.64\n",
       "2    0.82\n",
       "Name: Loaded, dtype: float64"
      ]
     },
     "execution_count": 33,
     "metadata": {},
     "output_type": "execute_result"
    }
   ],
   "source": [
    "# If we want to see a full column, the \":\" notation allows us to select the entire element\n",
    "\n",
    "REM_df.loc[:][\"Loaded\"]"
   ]
  },
  {
   "cell_type": "code",
   "execution_count": 34,
   "metadata": {},
   "outputs": [
    {
     "data": {
      "text/plain": [
       "0    2.22\n",
       "1    1.64\n",
       "2    0.82\n",
       "Name: Loaded, dtype: float64"
      ]
     },
     "execution_count": 34,
     "metadata": {},
     "output_type": "execute_result"
    }
   ],
   "source": [
    "# The .loc[][] syntax is equivalent to \n",
    "\n",
    "REM_df.loc[:, \"Loaded\"]"
   ]
  },
  {
   "cell_type": "code",
   "execution_count": 35,
   "metadata": {},
   "outputs": [
    {
     "ename": "ValueError",
     "evalue": "Location based indexing can only have [integer, integer slice (START point is INCLUDED, END point is EXCLUDED), listlike of integers, boolean array] types",
     "output_type": "error",
     "traceback": [
      "\u001b[0;31m---------------------------------------------------------------------------\u001b[0m",
      "\u001b[0;31mValueError\u001b[0m                                Traceback (most recent call last)",
      "\u001b[0;32m/srv/app/venv/lib/python3.6/site-packages/pandas/core/indexing.py\u001b[0m in \u001b[0;36m_has_valid_tuple\u001b[0;34m(self, key)\u001b[0m\n\u001b[1;32m    221\u001b[0m             \u001b[0;32mtry\u001b[0m\u001b[0;34m:\u001b[0m\u001b[0;34m\u001b[0m\u001b[0;34m\u001b[0m\u001b[0m\n\u001b[0;32m--> 222\u001b[0;31m                 \u001b[0mself\u001b[0m\u001b[0;34m.\u001b[0m\u001b[0m_validate_key\u001b[0m\u001b[0;34m(\u001b[0m\u001b[0mk\u001b[0m\u001b[0;34m,\u001b[0m \u001b[0mi\u001b[0m\u001b[0;34m)\u001b[0m\u001b[0;34m\u001b[0m\u001b[0;34m\u001b[0m\u001b[0m\n\u001b[0m\u001b[1;32m    223\u001b[0m             \u001b[0;32mexcept\u001b[0m \u001b[0mValueError\u001b[0m\u001b[0;34m:\u001b[0m\u001b[0;34m\u001b[0m\u001b[0;34m\u001b[0m\u001b[0m\n",
      "\u001b[0;32m/srv/app/venv/lib/python3.6/site-packages/pandas/core/indexing.py\u001b[0m in \u001b[0;36m_validate_key\u001b[0;34m(self, key, axis)\u001b[0m\n\u001b[1;32m   1970\u001b[0m             raise ValueError(\"Can only index by location with \"\n\u001b[0;32m-> 1971\u001b[0;31m                              \"a [{types}]\".format(types=self._valid_types))\n\u001b[0m\u001b[1;32m   1972\u001b[0m \u001b[0;34m\u001b[0m\u001b[0m\n",
      "\u001b[0;31mValueError\u001b[0m: Can only index by location with a [integer, integer slice (START point is INCLUDED, END point is EXCLUDED), listlike of integers, boolean array]",
      "\nDuring handling of the above exception, another exception occurred:\n",
      "\u001b[0;31mValueError\u001b[0m                                Traceback (most recent call last)",
      "\u001b[0;32m<ipython-input-35-84522c826b75>\u001b[0m in \u001b[0;36m<module>\u001b[0;34m\u001b[0m\n\u001b[1;32m      1\u001b[0m \u001b[0;31m# Trying this with .iloc yields an error\u001b[0m\u001b[0;34m\u001b[0m\u001b[0;34m\u001b[0m\u001b[0;34m\u001b[0m\u001b[0m\n\u001b[1;32m      2\u001b[0m \u001b[0;34m\u001b[0m\u001b[0m\n\u001b[0;32m----> 3\u001b[0;31m \u001b[0mREM_df\u001b[0m\u001b[0;34m.\u001b[0m\u001b[0miloc\u001b[0m\u001b[0;34m[\u001b[0m\u001b[0;34m:\u001b[0m\u001b[0;34m,\u001b[0m \u001b[0;34m\"Loaded\"\u001b[0m\u001b[0;34m]\u001b[0m\u001b[0;34m\u001b[0m\u001b[0;34m\u001b[0m\u001b[0m\n\u001b[0m",
      "\u001b[0;32m/srv/app/venv/lib/python3.6/site-packages/pandas/core/indexing.py\u001b[0m in \u001b[0;36m__getitem__\u001b[0;34m(self, key)\u001b[0m\n\u001b[1;32m   1470\u001b[0m             \u001b[0;32mexcept\u001b[0m \u001b[0;34m(\u001b[0m\u001b[0mKeyError\u001b[0m\u001b[0;34m,\u001b[0m \u001b[0mIndexError\u001b[0m\u001b[0;34m)\u001b[0m\u001b[0;34m:\u001b[0m\u001b[0;34m\u001b[0m\u001b[0;34m\u001b[0m\u001b[0m\n\u001b[1;32m   1471\u001b[0m                 \u001b[0;32mpass\u001b[0m\u001b[0;34m\u001b[0m\u001b[0;34m\u001b[0m\u001b[0m\n\u001b[0;32m-> 1472\u001b[0;31m             \u001b[0;32mreturn\u001b[0m \u001b[0mself\u001b[0m\u001b[0;34m.\u001b[0m\u001b[0m_getitem_tuple\u001b[0m\u001b[0;34m(\u001b[0m\u001b[0mkey\u001b[0m\u001b[0;34m)\u001b[0m\u001b[0;34m\u001b[0m\u001b[0;34m\u001b[0m\u001b[0m\n\u001b[0m\u001b[1;32m   1473\u001b[0m         \u001b[0;32melse\u001b[0m\u001b[0;34m:\u001b[0m\u001b[0;34m\u001b[0m\u001b[0;34m\u001b[0m\u001b[0m\n\u001b[1;32m   1474\u001b[0m             \u001b[0;31m# we by definition only have the 0th axis\u001b[0m\u001b[0;34m\u001b[0m\u001b[0;34m\u001b[0m\u001b[0;34m\u001b[0m\u001b[0m\n",
      "\u001b[0;32m/srv/app/venv/lib/python3.6/site-packages/pandas/core/indexing.py\u001b[0m in \u001b[0;36m_getitem_tuple\u001b[0;34m(self, tup)\u001b[0m\n\u001b[1;32m   2011\u001b[0m     \u001b[0;32mdef\u001b[0m \u001b[0m_getitem_tuple\u001b[0m\u001b[0;34m(\u001b[0m\u001b[0mself\u001b[0m\u001b[0;34m,\u001b[0m \u001b[0mtup\u001b[0m\u001b[0;34m)\u001b[0m\u001b[0;34m:\u001b[0m\u001b[0;34m\u001b[0m\u001b[0;34m\u001b[0m\u001b[0m\n\u001b[1;32m   2012\u001b[0m \u001b[0;34m\u001b[0m\u001b[0m\n\u001b[0;32m-> 2013\u001b[0;31m         \u001b[0mself\u001b[0m\u001b[0;34m.\u001b[0m\u001b[0m_has_valid_tuple\u001b[0m\u001b[0;34m(\u001b[0m\u001b[0mtup\u001b[0m\u001b[0;34m)\u001b[0m\u001b[0;34m\u001b[0m\u001b[0;34m\u001b[0m\u001b[0m\n\u001b[0m\u001b[1;32m   2014\u001b[0m         \u001b[0;32mtry\u001b[0m\u001b[0;34m:\u001b[0m\u001b[0;34m\u001b[0m\u001b[0;34m\u001b[0m\u001b[0m\n\u001b[1;32m   2015\u001b[0m             \u001b[0;32mreturn\u001b[0m \u001b[0mself\u001b[0m\u001b[0;34m.\u001b[0m\u001b[0m_getitem_lowerdim\u001b[0m\u001b[0;34m(\u001b[0m\u001b[0mtup\u001b[0m\u001b[0;34m)\u001b[0m\u001b[0;34m\u001b[0m\u001b[0;34m\u001b[0m\u001b[0m\n",
      "\u001b[0;32m/srv/app/venv/lib/python3.6/site-packages/pandas/core/indexing.py\u001b[0m in \u001b[0;36m_has_valid_tuple\u001b[0;34m(self, key)\u001b[0m\n\u001b[1;32m    224\u001b[0m                 raise ValueError(\"Location based indexing can only have \"\n\u001b[1;32m    225\u001b[0m                                  \u001b[0;34m\"[{types}] types\"\u001b[0m\u001b[0;34m\u001b[0m\u001b[0;34m\u001b[0m\u001b[0m\n\u001b[0;32m--> 226\u001b[0;31m                                  .format(types=self._valid_types))\n\u001b[0m\u001b[1;32m    227\u001b[0m \u001b[0;34m\u001b[0m\u001b[0m\n\u001b[1;32m    228\u001b[0m     \u001b[0;32mdef\u001b[0m \u001b[0m_is_nested_tuple_indexer\u001b[0m\u001b[0;34m(\u001b[0m\u001b[0mself\u001b[0m\u001b[0;34m,\u001b[0m \u001b[0mtup\u001b[0m\u001b[0;34m)\u001b[0m\u001b[0;34m:\u001b[0m\u001b[0;34m\u001b[0m\u001b[0;34m\u001b[0m\u001b[0m\n",
      "\u001b[0;31mValueError\u001b[0m: Location based indexing can only have [integer, integer slice (START point is INCLUDED, END point is EXCLUDED), listlike of integers, boolean array] types"
     ]
    }
   ],
   "source": [
    "# Trying this with .iloc yields an error\n",
    "\n",
    "REM_df.iloc[:, \"Loaded\"]"
   ]
  },
  {
   "cell_type": "code",
   "execution_count": 36,
   "metadata": {},
   "outputs": [
    {
     "data": {
      "text/html": [
       "<div>\n",
       "<style scoped>\n",
       "    .dataframe tbody tr th:only-of-type {\n",
       "        vertical-align: middle;\n",
       "    }\n",
       "\n",
       "    .dataframe tbody tr th {\n",
       "        vertical-align: top;\n",
       "    }\n",
       "\n",
       "    .dataframe thead th {\n",
       "        text-align: right;\n",
       "    }\n",
       "</style>\n",
       "<table border=\"1\" class=\"dataframe\">\n",
       "  <thead>\n",
       "    <tr style=\"text-align: right;\">\n",
       "      <th></th>\n",
       "      <th>None</th>\n",
       "      <th>1st</th>\n",
       "      <th>2nd</th>\n",
       "      <th>3rd</th>\n",
       "      <th>1st &amp; 2nd</th>\n",
       "      <th>1st &amp; 3rd</th>\n",
       "      <th>2nd &amp; 3rd</th>\n",
       "      <th>Loaded</th>\n",
       "    </tr>\n",
       "  </thead>\n",
       "  <tbody>\n",
       "    <tr>\n",
       "      <th>0</th>\n",
       "      <td>0.46</td>\n",
       "      <td>0.81</td>\n",
       "      <td>1.19</td>\n",
       "      <td>1.39</td>\n",
       "      <td>1.47</td>\n",
       "      <td>1.94</td>\n",
       "      <td>1.96</td>\n",
       "      <td>2.22</td>\n",
       "    </tr>\n",
       "    <tr>\n",
       "      <th>1</th>\n",
       "      <td>0.24</td>\n",
       "      <td>0.50</td>\n",
       "      <td>0.67</td>\n",
       "      <td>0.98</td>\n",
       "      <td>0.94</td>\n",
       "      <td>1.12</td>\n",
       "      <td>1.56</td>\n",
       "      <td>1.64</td>\n",
       "    </tr>\n",
       "    <tr>\n",
       "      <th>2</th>\n",
       "      <td>0.10</td>\n",
       "      <td>0.22</td>\n",
       "      <td>0.30</td>\n",
       "      <td>0.36</td>\n",
       "      <td>0.40</td>\n",
       "      <td>0.53</td>\n",
       "      <td>0.69</td>\n",
       "      <td>0.82</td>\n",
       "    </tr>\n",
       "  </tbody>\n",
       "</table>\n",
       "</div>"
      ],
      "text/plain": [
       "   None   1st   2nd   3rd  1st & 2nd  1st & 3rd  2nd & 3rd  Loaded\n",
       "0  0.46  0.81  1.19  1.39       1.47       1.94       1.96    2.22\n",
       "1  0.24  0.50  0.67  0.98       0.94       1.12       1.56    1.64\n",
       "2  0.10  0.22  0.30  0.36       0.40       0.53       0.69    0.82"
      ]
     },
     "execution_count": 36,
     "metadata": {},
     "output_type": "execute_result"
    }
   ],
   "source": [
    "# But a strictly integer reference to .iloc gets us what we want...\n",
    "# And so does passing the \":\" for the entire Row or Column\n",
    "\n",
    "REM_df"
   ]
  },
  {
   "cell_type": "code",
   "execution_count": 37,
   "metadata": {},
   "outputs": [
    {
     "data": {
      "text/plain": [
       "1.47"
      ]
     },
     "execution_count": 37,
     "metadata": {},
     "output_type": "execute_result"
    }
   ],
   "source": [
    "REM_df.iloc[0, 4]"
   ]
  },
  {
   "cell_type": "code",
   "execution_count": 38,
   "metadata": {},
   "outputs": [
    {
     "data": {
      "text/plain": [
       "None         0.24\n",
       "1st          0.50\n",
       "2nd          0.67\n",
       "3rd          0.98\n",
       "1st & 2nd    0.94\n",
       "1st & 3rd    1.12\n",
       "2nd & 3rd    1.56\n",
       "Loaded       1.64\n",
       "Name: 1, dtype: float64"
      ]
     },
     "execution_count": 38,
     "metadata": {},
     "output_type": "execute_result"
    }
   ],
   "source": [
    "REM_df.iloc[1, :]"
   ]
  },
  {
   "cell_type": "code",
   "execution_count": 39,
   "metadata": {},
   "outputs": [
    {
     "data": {
      "text/plain": [
       "0    1.39\n",
       "1    0.98\n",
       "2    0.36\n",
       "Name: 3rd, dtype: float64"
      ]
     },
     "execution_count": 39,
     "metadata": {},
     "output_type": "execute_result"
    }
   ],
   "source": [
    "REM_df.iloc[:, 3]"
   ]
  },
  {
   "cell_type": "code",
   "execution_count": 40,
   "metadata": {},
   "outputs": [
    {
     "name": "stderr",
     "output_type": "stream",
     "text": [
      "/srv/app/venv/lib/python3.6/site-packages/ipykernel_launcher.py:5: FutureWarning: get_value is deprecated and will be removed in a future release. Please use .at[] or .iat[] accessors instead\n",
      "  \"\"\"\n"
     ]
    },
    {
     "data": {
      "text/plain": [
       "0.82"
      ]
     },
     "execution_count": 40,
     "metadata": {},
     "output_type": "execute_result"
    }
   ],
   "source": [
    "# Let's try DataFrame.get_value(n,m)\n",
    "# get_value() returns the value, for now, but with some additional information\n",
    "# We should not use this method and try using .at[] instead...\n",
    "\n",
    "REM_df.get_value(2, \"Loaded\")"
   ]
  },
  {
   "cell_type": "code",
   "execution_count": 41,
   "metadata": {},
   "outputs": [
    {
     "data": {
      "text/plain": [
       "0.82"
      ]
     },
     "execution_count": 41,
     "metadata": {},
     "output_type": "execute_result"
    }
   ],
   "source": [
    "REM_df.at[2, \"Loaded\"]"
   ]
  },
  {
   "cell_type": "code",
   "execution_count": 42,
   "metadata": {},
   "outputs": [
    {
     "ename": "ValueError",
     "evalue": "At based indexing on an non-integer index can only have non-integer indexers",
     "output_type": "error",
     "traceback": [
      "\u001b[0;31m---------------------------------------------------------------------------\u001b[0m",
      "\u001b[0;31mValueError\u001b[0m                                Traceback (most recent call last)",
      "\u001b[0;32m<ipython-input-42-d453c7f3429b>\u001b[0m in \u001b[0;36m<module>\u001b[0;34m\u001b[0m\n\u001b[1;32m      1\u001b[0m \u001b[0;31m# integer references won't work for .at[]\u001b[0m\u001b[0;34m\u001b[0m\u001b[0;34m\u001b[0m\u001b[0;34m\u001b[0m\u001b[0m\n\u001b[1;32m      2\u001b[0m \u001b[0;34m\u001b[0m\u001b[0m\n\u001b[0;32m----> 3\u001b[0;31m \u001b[0mREM_df\u001b[0m\u001b[0;34m.\u001b[0m\u001b[0mat\u001b[0m\u001b[0;34m[\u001b[0m\u001b[0;36m2\u001b[0m\u001b[0;34m,\u001b[0m \u001b[0;36m7\u001b[0m\u001b[0;34m]\u001b[0m\u001b[0;34m\u001b[0m\u001b[0;34m\u001b[0m\u001b[0m\n\u001b[0m",
      "\u001b[0;32m/srv/app/venv/lib/python3.6/site-packages/pandas/core/indexing.py\u001b[0m in \u001b[0;36m__getitem__\u001b[0;34m(self, key)\u001b[0m\n\u001b[1;32m   2139\u001b[0m                 \u001b[0;32mraise\u001b[0m \u001b[0mValueError\u001b[0m\u001b[0;34m(\u001b[0m\u001b[0;34m'Invalid call for scalar access (getting)!'\u001b[0m\u001b[0;34m)\u001b[0m\u001b[0;34m\u001b[0m\u001b[0;34m\u001b[0m\u001b[0m\n\u001b[1;32m   2140\u001b[0m \u001b[0;34m\u001b[0m\u001b[0m\n\u001b[0;32m-> 2141\u001b[0;31m         \u001b[0mkey\u001b[0m \u001b[0;34m=\u001b[0m \u001b[0mself\u001b[0m\u001b[0;34m.\u001b[0m\u001b[0m_convert_key\u001b[0m\u001b[0;34m(\u001b[0m\u001b[0mkey\u001b[0m\u001b[0;34m)\u001b[0m\u001b[0;34m\u001b[0m\u001b[0;34m\u001b[0m\u001b[0m\n\u001b[0m\u001b[1;32m   2142\u001b[0m         \u001b[0;32mreturn\u001b[0m \u001b[0mself\u001b[0m\u001b[0;34m.\u001b[0m\u001b[0mobj\u001b[0m\u001b[0;34m.\u001b[0m\u001b[0m_get_value\u001b[0m\u001b[0;34m(\u001b[0m\u001b[0;34m*\u001b[0m\u001b[0mkey\u001b[0m\u001b[0;34m,\u001b[0m \u001b[0mtakeable\u001b[0m\u001b[0;34m=\u001b[0m\u001b[0mself\u001b[0m\u001b[0;34m.\u001b[0m\u001b[0m_takeable\u001b[0m\u001b[0;34m)\u001b[0m\u001b[0;34m\u001b[0m\u001b[0;34m\u001b[0m\u001b[0m\n\u001b[1;32m   2143\u001b[0m \u001b[0;34m\u001b[0m\u001b[0m\n",
      "\u001b[0;32m/srv/app/venv/lib/python3.6/site-packages/pandas/core/indexing.py\u001b[0m in \u001b[0;36m_convert_key\u001b[0;34m(self, key, is_setter)\u001b[0m\n\u001b[1;32m   2225\u001b[0m             \u001b[0;32melse\u001b[0m\u001b[0;34m:\u001b[0m\u001b[0;34m\u001b[0m\u001b[0;34m\u001b[0m\u001b[0m\n\u001b[1;32m   2226\u001b[0m                 \u001b[0;32mif\u001b[0m \u001b[0mis_integer\u001b[0m\u001b[0;34m(\u001b[0m\u001b[0mi\u001b[0m\u001b[0;34m)\u001b[0m\u001b[0;34m:\u001b[0m\u001b[0;34m\u001b[0m\u001b[0;34m\u001b[0m\u001b[0m\n\u001b[0;32m-> 2227\u001b[0;31m                     raise ValueError(\"At based indexing on an non-integer \"\n\u001b[0m\u001b[1;32m   2228\u001b[0m                                      \u001b[0;34m\"index can only have non-integer \"\u001b[0m\u001b[0;34m\u001b[0m\u001b[0;34m\u001b[0m\u001b[0m\n\u001b[1;32m   2229\u001b[0m                                      \"indexers\")\n",
      "\u001b[0;31mValueError\u001b[0m: At based indexing on an non-integer index can only have non-integer indexers"
     ]
    }
   ],
   "source": [
    "# integer references won't work for .at[]\n",
    "\n",
    "REM_df.at[2, 7]"
   ]
  },
  {
   "cell_type": "code",
   "execution_count": 43,
   "metadata": {},
   "outputs": [
    {
     "data": {
      "text/plain": [
       "0.82"
      ]
     },
     "execution_count": 43,
     "metadata": {},
     "output_type": "execute_result"
    }
   ],
   "source": [
    "# But they work for .iat[]\n",
    "\n",
    "REM_df.iat[2, 7]"
   ]
  },
  {
   "cell_type": "code",
   "execution_count": null,
   "metadata": {},
   "outputs": [],
   "source": []
  },
  {
   "cell_type": "code",
   "execution_count": 44,
   "metadata": {},
   "outputs": [
    {
     "ename": "ValueError",
     "evalue": "iAt based indexing can only have integer indexers",
     "output_type": "error",
     "traceback": [
      "\u001b[0;31m---------------------------------------------------------------------------\u001b[0m",
      "\u001b[0;31mValueError\u001b[0m                                Traceback (most recent call last)",
      "\u001b[0;32m<ipython-input-44-de6b1c09ee08>\u001b[0m in \u001b[0;36m<module>\u001b[0;34m\u001b[0m\n\u001b[1;32m      1\u001b[0m \u001b[0;31m# Meanwhile, column-name references DON'T work for .iat[]!\u001b[0m\u001b[0;34m\u001b[0m\u001b[0;34m\u001b[0m\u001b[0;34m\u001b[0m\u001b[0m\n\u001b[1;32m      2\u001b[0m \u001b[0;34m\u001b[0m\u001b[0m\n\u001b[0;32m----> 3\u001b[0;31m \u001b[0mREM_df\u001b[0m\u001b[0;34m.\u001b[0m\u001b[0miat\u001b[0m\u001b[0;34m[\u001b[0m\u001b[0;36m2\u001b[0m\u001b[0;34m,\u001b[0m \u001b[0;34m\"Loaded\"\u001b[0m\u001b[0;34m]\u001b[0m\u001b[0;34m\u001b[0m\u001b[0;34m\u001b[0m\u001b[0m\n\u001b[0m",
      "\u001b[0;32m/srv/app/venv/lib/python3.6/site-packages/pandas/core/indexing.py\u001b[0m in \u001b[0;36m__getitem__\u001b[0;34m(self, key)\u001b[0m\n\u001b[1;32m   2139\u001b[0m                 \u001b[0;32mraise\u001b[0m \u001b[0mValueError\u001b[0m\u001b[0;34m(\u001b[0m\u001b[0;34m'Invalid call for scalar access (getting)!'\u001b[0m\u001b[0;34m)\u001b[0m\u001b[0;34m\u001b[0m\u001b[0;34m\u001b[0m\u001b[0m\n\u001b[1;32m   2140\u001b[0m \u001b[0;34m\u001b[0m\u001b[0m\n\u001b[0;32m-> 2141\u001b[0;31m         \u001b[0mkey\u001b[0m \u001b[0;34m=\u001b[0m \u001b[0mself\u001b[0m\u001b[0;34m.\u001b[0m\u001b[0m_convert_key\u001b[0m\u001b[0;34m(\u001b[0m\u001b[0mkey\u001b[0m\u001b[0;34m)\u001b[0m\u001b[0;34m\u001b[0m\u001b[0;34m\u001b[0m\u001b[0m\n\u001b[0m\u001b[1;32m   2142\u001b[0m         \u001b[0;32mreturn\u001b[0m \u001b[0mself\u001b[0m\u001b[0;34m.\u001b[0m\u001b[0mobj\u001b[0m\u001b[0;34m.\u001b[0m\u001b[0m_get_value\u001b[0m\u001b[0;34m(\u001b[0m\u001b[0;34m*\u001b[0m\u001b[0mkey\u001b[0m\u001b[0;34m,\u001b[0m \u001b[0mtakeable\u001b[0m\u001b[0;34m=\u001b[0m\u001b[0mself\u001b[0m\u001b[0;34m.\u001b[0m\u001b[0m_takeable\u001b[0m\u001b[0;34m)\u001b[0m\u001b[0;34m\u001b[0m\u001b[0;34m\u001b[0m\u001b[0m\n\u001b[1;32m   2143\u001b[0m \u001b[0;34m\u001b[0m\u001b[0m\n",
      "\u001b[0;32m/srv/app/venv/lib/python3.6/site-packages/pandas/core/indexing.py\u001b[0m in \u001b[0;36m_convert_key\u001b[0;34m(self, key, is_setter)\u001b[0m\n\u001b[1;32m   2286\u001b[0m         \u001b[0;32mfor\u001b[0m \u001b[0ma\u001b[0m\u001b[0;34m,\u001b[0m \u001b[0mi\u001b[0m \u001b[0;32min\u001b[0m \u001b[0mzip\u001b[0m\u001b[0;34m(\u001b[0m\u001b[0mself\u001b[0m\u001b[0;34m.\u001b[0m\u001b[0mobj\u001b[0m\u001b[0;34m.\u001b[0m\u001b[0maxes\u001b[0m\u001b[0;34m,\u001b[0m \u001b[0mkey\u001b[0m\u001b[0;34m)\u001b[0m\u001b[0;34m:\u001b[0m\u001b[0;34m\u001b[0m\u001b[0;34m\u001b[0m\u001b[0m\n\u001b[1;32m   2287\u001b[0m             \u001b[0;32mif\u001b[0m \u001b[0;32mnot\u001b[0m \u001b[0mis_integer\u001b[0m\u001b[0;34m(\u001b[0m\u001b[0mi\u001b[0m\u001b[0;34m)\u001b[0m\u001b[0;34m:\u001b[0m\u001b[0;34m\u001b[0m\u001b[0;34m\u001b[0m\u001b[0m\n\u001b[0;32m-> 2288\u001b[0;31m                 raise ValueError(\"iAt based indexing can only have integer \"\n\u001b[0m\u001b[1;32m   2289\u001b[0m                                  \"indexers\")\n\u001b[1;32m   2290\u001b[0m         \u001b[0;32mreturn\u001b[0m \u001b[0mkey\u001b[0m\u001b[0;34m\u001b[0m\u001b[0;34m\u001b[0m\u001b[0m\n",
      "\u001b[0;31mValueError\u001b[0m: iAt based indexing can only have integer indexers"
     ]
    }
   ],
   "source": [
    "# Meanwhile, column-name references DON'T work for .iat[]!\n",
    "\n",
    "REM_df.iat[2, \"Loaded\"]"
   ]
  },
  {
   "cell_type": "markdown",
   "metadata": {},
   "source": [
    "# Summary of .loc[ ], .iloc[ ], .at[ ], and .iat[ ] methods\n",
    "\n",
    "## .loc[ ] and .at[ ] take [Row name, Column name]\n",
    "\n",
    "### REM_df.loc[:,4] gives an error\n",
    "### REM_df.loc[0, :] gives the *row* for 0 outs\n",
    "### REM_df.loc[:,\"1st & 2nd\"] gives the *column* under \"1st & 2nd\"\n",
    "\n",
    "### REM_df.at[1,4] gives an error\n",
    "### REM_df.at[1,\"1st & 2nd\"] gives the *value* of {1 out, \"1st & 2nd\"}\n",
    "### REM_df.at[:,4] gives an error, \":\" syntax not effective with .at[ ]\n",
    "\n",
    "------------------------------\n",
    "\n",
    "## .iloc[ ] and .iat take [Row index, Column index]\n",
    "\n",
    "### REM_df.iloc[:,4] gives the column under \"1st & 2nd\"\n",
    "### REM_df.iloc[1,4] gives the the *value* of {1 out, \"1st & 2nd\"}\n",
    "### REM_df.iloc[:,\"1st & 2nd\"] gives an error\n",
    "\n",
    "\n",
    "### REM_df.iat[1,4] gives the *value* of {1 out, \"1st & 2nd\"}\n",
    "### REM_df.iat[1,\"1st & 2nd\"] gives an error \n",
    "### REM_df.iat[:,4] gives an error, \":\" syntax not effective with .iat[ ]\n",
    "\n",
    "\n"
   ]
  },
  {
   "cell_type": "code",
   "execution_count": 45,
   "metadata": {},
   "outputs": [
    {
     "data": {
      "text/html": [
       "<div>\n",
       "<style scoped>\n",
       "    .dataframe tbody tr th:only-of-type {\n",
       "        vertical-align: middle;\n",
       "    }\n",
       "\n",
       "    .dataframe tbody tr th {\n",
       "        vertical-align: top;\n",
       "    }\n",
       "\n",
       "    .dataframe thead th {\n",
       "        text-align: right;\n",
       "    }\n",
       "</style>\n",
       "<table border=\"1\" class=\"dataframe\">\n",
       "  <thead>\n",
       "    <tr style=\"text-align: right;\">\n",
       "      <th></th>\n",
       "      <th>None</th>\n",
       "      <th>1st</th>\n",
       "      <th>2nd</th>\n",
       "      <th>3rd</th>\n",
       "      <th>1st &amp; 2nd</th>\n",
       "      <th>1st &amp; 3rd</th>\n",
       "      <th>2nd &amp; 3rd</th>\n",
       "      <th>Loaded</th>\n",
       "    </tr>\n",
       "  </thead>\n",
       "  <tbody>\n",
       "    <tr>\n",
       "      <th>0</th>\n",
       "      <td>0.46</td>\n",
       "      <td>0.81</td>\n",
       "      <td>1.19</td>\n",
       "      <td>1.39</td>\n",
       "      <td>1.47</td>\n",
       "      <td>1.94</td>\n",
       "      <td>1.96</td>\n",
       "      <td>2.22</td>\n",
       "    </tr>\n",
       "    <tr>\n",
       "      <th>1</th>\n",
       "      <td>0.24</td>\n",
       "      <td>0.50</td>\n",
       "      <td>0.67</td>\n",
       "      <td>0.98</td>\n",
       "      <td>0.94</td>\n",
       "      <td>1.12</td>\n",
       "      <td>1.56</td>\n",
       "      <td>1.64</td>\n",
       "    </tr>\n",
       "    <tr>\n",
       "      <th>2</th>\n",
       "      <td>0.10</td>\n",
       "      <td>0.22</td>\n",
       "      <td>0.30</td>\n",
       "      <td>0.36</td>\n",
       "      <td>0.40</td>\n",
       "      <td>0.53</td>\n",
       "      <td>0.69</td>\n",
       "      <td>0.82</td>\n",
       "    </tr>\n",
       "  </tbody>\n",
       "</table>\n",
       "</div>"
      ],
      "text/plain": [
       "   None   1st   2nd   3rd  1st & 2nd  1st & 3rd  2nd & 3rd  Loaded\n",
       "0  0.46  0.81  1.19  1.39       1.47       1.94       1.96    2.22\n",
       "1  0.24  0.50  0.67  0.98       0.94       1.12       1.56    1.64\n",
       "2  0.10  0.22  0.30  0.36       0.40       0.53       0.69    0.82"
      ]
     },
     "execution_count": 45,
     "metadata": {},
     "output_type": "execute_result"
    }
   ],
   "source": [
    "REM_df"
   ]
  },
  {
   "cell_type": "markdown",
   "metadata": {},
   "source": [
    "## We can ask some interesting questions from the Runs Expected Matrix\n",
    "\n",
    "### For Example: \n",
    "####      How good a base stealer do you need to be to make it worth the risk?\n",
    "\n",
    "## We start by comparing the relative Expected Runs in each situation..."
   ]
  },
  {
   "cell_type": "markdown",
   "metadata": {},
   "source": [
    "\n"
   ]
  },
  {
   "cell_type": "code",
   "execution_count": 46,
   "metadata": {},
   "outputs": [
    {
     "data": {
      "text/plain": [
       "0.81"
      ]
     },
     "execution_count": 46,
     "metadata": {},
     "output_type": "execute_result"
    }
   ],
   "source": [
    "# Expected Runs from {0, 1st}\n",
    "\n",
    "REM_df.at[0, \"1st\"]"
   ]
  },
  {
   "cell_type": "markdown",
   "metadata": {},
   "source": [
    "The REM tells us that, on average, this situation is worth 0.81 runs.\n",
    "\n",
    "What about if that runner were on 2nd base and no outs?"
   ]
  },
  {
   "cell_type": "code",
   "execution_count": 47,
   "metadata": {},
   "outputs": [
    {
     "data": {
      "text/plain": [
       "1.19"
      ]
     },
     "execution_count": 47,
     "metadata": {},
     "output_type": "execute_result"
    }
   ],
   "source": [
    "# Expected Runs from {0, 2nd}\n",
    "\n",
    "REM_df.at[0, \"2nd\"]"
   ]
  },
  {
   "cell_type": "markdown",
   "metadata": {},
   "source": [
    "Now we have a situation worth 1.19 runs!\n",
    "\n",
    "The steal earned us an average 0.38 more runs.\n",
    "\n",
    "Of course, we have to account for the risk that our runner gets caught stealing.\n",
    "The REM with no runners and 1 out..."
   ]
  },
  {
   "cell_type": "code",
   "execution_count": 48,
   "metadata": {},
   "outputs": [
    {
     "data": {
      "text/plain": [
       "0.24"
      ]
     },
     "execution_count": 48,
     "metadata": {},
     "output_type": "execute_result"
    }
   ],
   "source": [
    "# Expected Runs from {1, None}\n",
    "\n",
    "REM_df.at[1, \"None\"]"
   ]
  },
  {
   "cell_type": "markdown",
   "metadata": {},
   "source": [
    "This is a classic decision problem...\n",
    "\n",
    "We'll let x = P{Successful Steal}\n",
    "And, naturally, (1-x) = P{Caught Stealing}\n",
    "\n",
    "At what value of x does the Expected Value of stealing equal the EV of staying on 1st?\n",
    "\n",
    "\n",
    "|Successful | Caught  | Runner on |\n",
    "|-----------|-------- |-----------|\n",
    "|   Steal   |Stealing |1st, 0 outs|\n",
    "|   1.19x   |0.24(1-x)|=  0.81    |\n",
    "\n",
    "\n",
    "###      x = .60, or 60%\n",
    "## Our Baserunner needs to swipe 2nd at 60% or greater probability to make the risk pay off.\n",
    "\n",
    "\n",
    "\n",
    "    1.19x    +  0.24(1-x)   =   0.81\n",
    "    0.95x = .57\n",
    "    x = .60, or 60%\n",
    "\n",
    "\n"
   ]
  },
  {
   "cell_type": "markdown",
   "metadata": {},
   "source": [
    "Let's code this into a feature.\n",
    "\n",
    "We have Runs Expected (success), Runs Expected (failure), and Runs Expected (start)\n",
    "\n",
    "Prob = ( RE(start) - RE(failure) ) / (RE(success) - RE(failure) )\n",
    "\n"
   ]
  },
  {
   "cell_type": "code",
   "execution_count": 49,
   "metadata": {},
   "outputs": [],
   "source": [
    "def get_prob(start, success, failure):\n",
    "    return (start-failure)/(success-failure)"
   ]
  },
  {
   "cell_type": "code",
   "execution_count": 50,
   "metadata": {},
   "outputs": [
    {
     "data": {
      "text/plain": [
       "0.6000000000000001"
      ]
     },
     "execution_count": 50,
     "metadata": {},
     "output_type": "execute_result"
    }
   ],
   "source": [
    "# let's test our feature with the values from the Runs Expected Matrix\n",
    "\n",
    "get_prob(.81, 1.19, .24)"
   ]
  },
  {
   "cell_type": "code",
   "execution_count": 51,
   "metadata": {},
   "outputs": [
    {
     "data": {
      "text/plain": [
       "0.6000000000000001"
      ]
     },
     "execution_count": 51,
     "metadata": {},
     "output_type": "execute_result"
    }
   ],
   "source": [
    "# And, of course, the best part of these features is being able to feed them other variables\n",
    "# Now let's give it values from the REM itself...\n",
    "\n",
    "get_prob(REM_df.at[0, \"1st\"], REM_df.at[0, \"2nd\"], REM_df.at[1, \"None\"])\n",
    "\n"
   ]
  },
  {
   "cell_type": "markdown",
   "metadata": {},
   "source": [
    "We can also use this feature to consider other in-game strategies like a sacrifice bunt\n",
    "\n",
    "What probability of success makes a sacrifice bunt worthwhile?\n",
    "Here we go from {0, 1st} to {1, 2nd}. We assume an unsuccesful sacrifice leaves us with {1, 1st}.\n",
    "\n"
   ]
  },
  {
   "cell_type": "code",
   "execution_count": 52,
   "metadata": {},
   "outputs": [
    {
     "data": {
      "text/plain": [
       "1.8235294117647058"
      ]
     },
     "execution_count": 52,
     "metadata": {},
     "output_type": "execute_result"
    }
   ],
   "source": [
    "get_prob(REM_df.at[0, \"1st\"], REM_df.at[1, \"2nd\"], REM_df.at[1, \"1st\"])"
   ]
  },
  {
   "cell_type": "markdown",
   "metadata": {},
   "source": [
    "The result > 1 is, of course, a nonsensical probability.\n",
    "\n",
    "Why did we get that answer?\n",
    "\n",
    "Let's look at the REM values.\n"
   ]
  },
  {
   "cell_type": "code",
   "execution_count": 53,
   "metadata": {},
   "outputs": [
    {
     "name": "stdout",
     "output_type": "stream",
     "text": [
      "0.81\n",
      "0.67\n",
      "0.5\n"
     ]
    }
   ],
   "source": [
    "print (REM_df.at[0, \"1st\"])\n",
    "print (REM_df.at[1, \"2nd\"])\n",
    "print (REM_df.at[1, \"1st\"])"
   ]
  },
  {
   "cell_type": "markdown",
   "metadata": {},
   "source": [
    "#### BOTH outcomes offer a lower Expected Runs than not sacrificing!\n",
    "\n",
    "#### This is what is called a \"dominated\" strategy: when the expected value of ANY outcome from a given course of action is less than the expected value of not doing that.\n",
    "\n",
    "#### The reverse, a \"dominating strategy\" has ALL outcomes better than alternative actions."
   ]
  },
  {
   "cell_type": "markdown",
   "metadata": {},
   "source": [
    "What about a hit-and-run?\n",
    "\n",
    "This is a play where the runner on 1st takes off for 2nd in order to create holes in the defense for the batter to hit through. The batter is expected to put the ball in play.\n",
    "\n",
    "Let's assume success means 1st & 2nd, 0 outs.\n",
    "And failure means Double Play: No one on, 2 outs."
   ]
  },
  {
   "cell_type": "code",
   "execution_count": 54,
   "metadata": {},
   "outputs": [
    {
     "data": {
      "text/plain": [
       "0.5182481751824819"
      ]
     },
     "execution_count": 54,
     "metadata": {},
     "output_type": "execute_result"
    }
   ],
   "source": [
    "get_prob(REM_df.at[0, \"1st\"], REM_df.at[0, \"1st & 2nd\"], REM_df.at[2, \"None\"])"
   ]
  },
  {
   "cell_type": "markdown",
   "metadata": {},
   "source": [
    "We see a necessary success rate of about 52%\n",
    "\n",
    "Of course, there are other outcomes in an attempted Hit & Run...\n",
    "\n",
    "The batter could miss & the runner steal second <br>\n",
    "The batter could miss & the runner get caught stealing<br>\n",
    "The batter could hit the ball in the air and make an out, with the runner going back to 1st.<br>\n",
    "The batter could hit a ground ball and make an out at 1st, with the runner advancing to 2nd.<br>\n",
    "\n",
    "What if success means 1st & 2nd, 0 outs.<br>\n",
    "And failure means 1 out, runner on 2nd (essentially a sacrifice)?\n",
    "\n",
    "We know that RE {1, 2nd} < RE {0, 1st} so this won't be a dominated strategy...\n"
   ]
  },
  {
   "cell_type": "code",
   "execution_count": 55,
   "metadata": {},
   "outputs": [
    {
     "data": {
      "text/plain": [
       "0.17500000000000004"
      ]
     },
     "execution_count": 55,
     "metadata": {},
     "output_type": "execute_result"
    }
   ],
   "source": [
    "get_prob(REM_df.at[0, \"1st\"], REM_df.at[0, \"1st & 2nd\"], REM_df.at[1, \"2nd\"])"
   ]
  },
  {
   "cell_type": "markdown",
   "metadata": {},
   "source": [
    "Now the Hit-and-Run strategy only needs to \"work\" 17.5% of the time, if the alternative is a successful sacrifice\n",
    "\n",
    "\n",
    "\n",
    "### Let's explore that additional complexity a bit more\n",
    "\n",
    "Outcomes {Outs, Runners}:<br>\n",
    "In-play, Successful Hit and Run: {0, 1st & 2nd}<br>\n",
    "In-play, Double Play: {2, None}<br>\n",
    "In-play, Batter out, No advance: {1, 1st}<br>\n",
    "In-play, Batter out, advance: {1, 2nd}<br>\n",
    "Miss, Steal: {0, 2nd}<br>\n",
    "Miss, Caught Stealing {1, None}<br>\n",
    "\n",
    "Assume: <br>\n",
    "1) The runner's likelihood of stealing is 40%, and <br>\n",
    "2) the \"In-play\" outcomes are equally likely.\n",
    "\n",
    "With what probability does the batter need to put the ball in play to make the Hit-and-Run strategy successful?\n",
    "\n",
    "This is, effectively, a _2-stage conditional probability problem_.\n",
    "\n",
    "\n"
   ]
  },
  {
   "cell_type": "code",
   "execution_count": 59,
   "metadata": {},
   "outputs": [
    {
     "name": "stdout",
     "output_type": "stream",
     "text": [
      "0.67\n",
      "0.3\n",
      "0.98\n",
      "0.5\n",
      "0.6125\n"
     ]
    }
   ],
   "source": [
    "# What happens if the ball is put in play?\n",
    "# We said there was equal probability (ie, 25% each) of these outcomes...\n",
    "\n",
    "print (REM_df.at[1, \"2nd\"])\n",
    "print (REM_df.at[2, \"2nd\"])\n",
    "print (REM_df.at[1, \"3rd\"])\n",
    "print (REM_df.at[1, \"1st\"])\n",
    "\n",
    "inplay = (REM_df.at[1, \"2nd\"] + REM_df.at[2, \"2nd\"] + REM_df.at[1, \"3rd\"] + REM_df.at[1, \"1st\"]) / 4\n",
    "print(inplay)"
   ]
  },
  {
   "cell_type": "code",
   "execution_count": null,
   "metadata": {},
   "outputs": [],
   "source": []
  },
  {
   "cell_type": "code",
   "execution_count": null,
   "metadata": {},
   "outputs": [],
   "source": []
  },
  {
   "cell_type": "code",
   "execution_count": null,
   "metadata": {},
   "outputs": [],
   "source": []
  },
  {
   "cell_type": "code",
   "execution_count": null,
   "metadata": {},
   "outputs": [],
   "source": []
  },
  {
   "cell_type": "code",
   "execution_count": null,
   "metadata": {},
   "outputs": [],
   "source": []
  },
  {
   "cell_type": "code",
   "execution_count": null,
   "metadata": {},
   "outputs": [],
   "source": []
  },
  {
   "cell_type": "code",
   "execution_count": 140,
   "metadata": {},
   "outputs": [
    {
     "name": "stdout",
     "output_type": "stream",
     "text": [
      "0.62\n"
     ]
    }
   ],
   "source": [
    "# What happens if the ball isn't put into play?\n",
    "# We said the runner would be successful 40% of the time\n",
    "\n",
    "missed = .4 * REM_df.at[0, \"2nd\"] + .6 * REM_df.at[1, \"None\"]\n",
    "print(missed)"
   ]
  },
  {
   "cell_type": "code",
   "execution_count": 141,
   "metadata": {},
   "outputs": [
    {
     "data": {
      "text/plain": [
       "2.9230769230769216"
      ]
     },
     "execution_count": 141,
     "metadata": {},
     "output_type": "execute_result"
    }
   ],
   "source": [
    "get_prob(REM_df.at[0, \"1st\"], inplay, missed)"
   ]
  },
  {
   "cell_type": "markdown",
   "metadata": {},
   "source": [
    "### At these probabilities, the Hit and Run is a _dominated strategy_ relative to the EV{0, 1st} of 0.81\n",
    "\n"
   ]
  },
  {
   "cell_type": "markdown",
   "metadata": {},
   "source": [
    "Of course we can imagine other probabilities on the \"ball in play\" outcomes that make the hit-and-run more attractive.<br>\n",
    "\n",
    "The goal of the strategy is to reduce the odds of the double play.<br>\n",
    "\n",
    "So, let's imagine the probability of the double play, Outcome = {2, \"None\"}, drops to 10%<br>\n",
    "\n",
    "And now our probabilities are...<br>\n",
    "\n",
    "{0, \"1st & 2nd\"} = 50%<br>\n",
    "{2, \"None\"} = 10%<br>\n",
    "{1, \"1st\"} = 20%<br>\n",
    "{1, \"2nd\"} = 20%<br>\n",
    "\n"
   ]
  },
  {
   "cell_type": "code",
   "execution_count": 142,
   "metadata": {},
   "outputs": [
    {
     "data": {
      "text/plain": [
       "0.979"
      ]
     },
     "execution_count": 142,
     "metadata": {},
     "output_type": "execute_result"
    }
   ],
   "source": [
    "inplay2 = (0.5 * REM_df.at[0, \"1st & 2nd\"] + \n",
    "           0.1 * REM_df.at[2, \"None\"] + \n",
    "           0.2 * REM_df.at[1, \"1st\"] + \n",
    "           0.2 * REM_df.at[1, \"2nd\"])\n",
    "inplay2"
   ]
  },
  {
   "cell_type": "markdown",
   "metadata": {},
   "source": [
    "### Now the Hit and Run offers the potential for a positive outcome\n",
    "\n",
    "### Let's revisit our question \"With what probability does the batter need to put the ball in play to make the Hit-and-Run strategy successful?\""
   ]
  },
  {
   "cell_type": "code",
   "execution_count": 143,
   "metadata": {},
   "outputs": [
    {
     "data": {
      "text/plain": [
       "0.52924791086351"
      ]
     },
     "execution_count": 143,
     "metadata": {},
     "output_type": "execute_result"
    }
   ],
   "source": [
    "# We can use the same get_prob function...\n",
    "\n",
    "get_prob(REM_df.at[0, \"1st\"], inplay2, missed)"
   ]
  },
  {
   "cell_type": "markdown",
   "metadata": {},
   "source": [
    "### A manager in the dugout might use this general information in the context of the pitcher, the batter, and the baserunner\n",
    "\n",
    "### And don't get too caught up in the degrees of precision. Assuming our last probabilities are accurate, it's correct to say something like \"A batter needs to put the ball in play slightly more than half the time for the hit-and-run to be a winning strategy.\"\n",
    "\n",
    "### Saying \"A batter needs to put the ball in play more than 52.92479% of the time for the hit-and-run to be a winning strategy\" will get you eyerolls."
   ]
  },
  {
   "cell_type": "code",
   "execution_count": null,
   "metadata": {},
   "outputs": [],
   "source": []
  }
 ],
 "metadata": {
  "kernelspec": {
   "display_name": "Python 3",
   "language": "python",
   "name": "python3"
  },
  "language_info": {
   "codemirror_mode": {
    "name": "ipython",
    "version": 3
   },
   "file_extension": ".py",
   "mimetype": "text/x-python",
   "name": "python",
   "nbconvert_exporter": "python",
   "pygments_lexer": "ipython3",
   "version": "3.6.9"
  }
 },
 "nbformat": 4,
 "nbformat_minor": 4
}
