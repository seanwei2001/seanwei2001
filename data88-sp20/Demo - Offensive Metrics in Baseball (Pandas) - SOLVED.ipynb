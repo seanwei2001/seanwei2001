{
 "cells": [
  {
   "cell_type": "markdown",
   "metadata": {
    "toc": true
   },
   "source": [
    "<h1>Table of Contents<span class=\"tocSkip\"></span></h1>\n",
    "<div class=\"toc\"><ul class=\"toc-item\"><li><span><a href=\"#Classical-Baseball-Statistics\" data-toc-modified-id=\"Classical-Baseball-Statistics-1\"><span class=\"toc-item-num\">1&nbsp;&nbsp;</span>Classical Baseball Statistics</a></span><ul class=\"toc-item\"><li><span><a href=\"#Computing-Classical-Statistics\" data-toc-modified-id=\"Computing-Classical-Statistics-1.1\"><span class=\"toc-item-num\">1.1&nbsp;&nbsp;</span>Computing Classical Statistics</a></span></li><li><span><a href=\"#Classical-Stats-and-Runs-Scored\" data-toc-modified-id=\"Classical-Stats-and-Runs-Scored-1.2\"><span class=\"toc-item-num\">1.2&nbsp;&nbsp;</span>Classical Stats and Runs Scored</a></span><ul class=\"toc-item\"><li><span><a href=\"#Correlation-with-Team-Runs\" data-toc-modified-id=\"Correlation-with-Team-Runs-1.2.1\"><span class=\"toc-item-num\">1.2.1&nbsp;&nbsp;</span>Correlation with Team Runs</a></span></li></ul></li><li><span><a href=\"#Correlation-Between-Statistics\" data-toc-modified-id=\"Correlation-Between-Statistics-1.3\"><span class=\"toc-item-num\">1.3&nbsp;&nbsp;</span>Correlation Between Statistics</a></span></li></ul></li><li><span><a href=\"#Run-Expectancy\" data-toc-modified-id=\"Run-Expectancy-2\"><span class=\"toc-item-num\">2&nbsp;&nbsp;</span>Run Expectancy</a></span><ul class=\"toc-item\"><li><span><a href=\"#Load-Play-by-Play-Data-from-Retrosheet\" data-toc-modified-id=\"Load-Play-by-Play-Data-from-Retrosheet-2.1\"><span class=\"toc-item-num\">2.1&nbsp;&nbsp;</span>Load Play-by-Play Data from Retrosheet</a></span></li><li><span><a href=\"#Runs-in-Remainder-of-Inning\" data-toc-modified-id=\"Runs-in-Remainder-of-Inning-2.2\"><span class=\"toc-item-num\">2.2&nbsp;&nbsp;</span>Runs in Remainder of Inning</a></span></li><li><span><a href=\"#Run-Expectancy-Matrix\" data-toc-modified-id=\"Run-Expectancy-Matrix-2.3\"><span class=\"toc-item-num\">2.3&nbsp;&nbsp;</span>Run Expectancy Matrix</a></span></li><li><span><a href=\"#Evaluating-Strategies\" data-toc-modified-id=\"Evaluating-Strategies-2.4\"><span class=\"toc-item-num\">2.4&nbsp;&nbsp;</span>Evaluating Strategies</a></span><ul class=\"toc-item\"><li><span><a href=\"#Stealing-Bases\" data-toc-modified-id=\"Stealing-Bases-2.4.1\"><span class=\"toc-item-num\">2.4.1&nbsp;&nbsp;</span>Stealing Bases</a></span></li></ul></li><li><span><a href=\"#Bunting\" data-toc-modified-id=\"Bunting-2.5\"><span class=\"toc-item-num\">2.5&nbsp;&nbsp;</span>Bunting</a></span><ul class=\"toc-item\"><li><span><a href=\"#End-of-Game-Stealing/Bunting\" data-toc-modified-id=\"End-of-Game-Stealing/Bunting-2.5.1\"><span class=\"toc-item-num\">2.5.1&nbsp;&nbsp;</span>End of Game Stealing/Bunting</a></span></li></ul></li></ul></li><li><span><a href=\"#RE24\" data-toc-modified-id=\"RE24-3\"><span class=\"toc-item-num\">3&nbsp;&nbsp;</span>RE24</a></span><ul class=\"toc-item\"><li><span><a href=\"#Run-Expectancies\" data-toc-modified-id=\"Run-Expectancies-3.1\"><span class=\"toc-item-num\">3.1&nbsp;&nbsp;</span>Run Expectancies</a></span></li><li><span><a href=\"#Compute-RE24\" data-toc-modified-id=\"Compute-RE24-3.2\"><span class=\"toc-item-num\">3.2&nbsp;&nbsp;</span>Compute RE24</a></span></li><li><span><a href=\"#Batter-RE24\" data-toc-modified-id=\"Batter-RE24-3.3\"><span class=\"toc-item-num\">3.3&nbsp;&nbsp;</span>Batter RE24</a></span></li></ul></li><li><span><a href=\"#Linear-Weights-and-wOBA\" data-toc-modified-id=\"Linear-Weights-and-wOBA-4\"><span class=\"toc-item-num\">4&nbsp;&nbsp;</span>Linear Weights and wOBA</a></span><ul class=\"toc-item\"><li><span><a href=\"#Linear-Weights-(LWTS)\" data-toc-modified-id=\"Linear-Weights-(LWTS)-4.1\"><span class=\"toc-item-num\">4.1&nbsp;&nbsp;</span>Linear Weights (LWTS)</a></span></li><li><span><a href=\"#wOBA\" data-toc-modified-id=\"wOBA-4.2\"><span class=\"toc-item-num\">4.2&nbsp;&nbsp;</span>wOBA</a></span></li><li><span><a href=\"#Barry-Bonds-Example\" data-toc-modified-id=\"Barry-Bonds-Example-4.3\"><span class=\"toc-item-num\">4.3&nbsp;&nbsp;</span>Barry Bonds Example</a></span></li><li><span><a href=\"#Correlation-with-Team-Runs\" data-toc-modified-id=\"Correlation-with-Team-Runs-4.4\"><span class=\"toc-item-num\">4.4&nbsp;&nbsp;</span>Correlation with Team Runs</a></span><ul class=\"toc-item\"><li><span><a href=\"#Computing-Team-wOBA-and-OPS\" data-toc-modified-id=\"Computing-Team-wOBA-and-OPS-4.4.1\"><span class=\"toc-item-num\">4.4.1&nbsp;&nbsp;</span>Computing Team wOBA and OPS</a></span></li></ul></li></ul></li></ul></div>"
   ]
  },
  {
   "cell_type": "markdown",
   "metadata": {},
   "source": [
    "# Demo - Offensive Metrics in Baseball\n",
    "\n",
    "This lab consists of several parts that will explore offensive metrics for baseball.  We start with the classical statistics and then look at an empirical, data-driven approach to develop improved offensive metrics.\n",
    "\n",
    "\n",
    "Part I explores the classical baseball statistics like _Batting Average_, _On-Base Percentage_, and _Slugging Percentage_, which make up what is commonly known as a batters _Slash Line_ due to how the stats are displayed in order with a / between them.  This part looks at how it relates to team run scoring.  Specifically, we look at how well a statistic correlates with team run scoring to determine how well it serves as a measurement of a team's ability to score runs.\n",
    "\n",
    "In Part II, we explore the concept of run expectancy and the _Run Expectancy Matrix_, an empirically driven measurement of how many runs we should expect to score in a given out/baserunner state.  We use run expectancy to explore basic baseball strategies like bunting and stealing.\n",
    "\n",
    "In Part III, we use run expectancy to create a valuation of hitting events that occur known as _RE24_.\n",
    "\n",
    "Finally, in Part IV we use the RE24 values to empirically derive weights or expected values for hitting events known as _Linear Weights_.  We use this to then construct an improved measure of offensive performance known as _wOBA_, Weighted On-Base Average.\n",
    "\n",
    "For this lab, we assume the user is familiar with the usual acronyms, shorthand abbreviations, and definitions of commonly used categories in baseball like BA for Batting Average, 1B for singles, and PA for plate appearances. "
   ]
  },
  {
   "cell_type": "markdown",
   "metadata": {},
   "source": [
    "## Classical Baseball Statistics\n",
    "\n",
    "In this first part, we study the classical baseball statistics that have been used extensively over the years.  We use team-level data from the Lahman Database which is obtainable here in CSV form: http://www.seanlahman.com/baseball-archive/statistics/\n",
    "\n",
    "The cell below loads the dataset and performs a few extra operations:\n",
    "+ We restrict to year 2000 and later.  We could take the analysis back further to say 1962 but we definitely should not consider the entire dataset without careful considerations (What happened in 1962 to the schedule? What was baseball like in 1900? What about 1994?).*  \n",
    "+ The dataset does not contain a field for singles so this is easy to compute from the available data as $H - \\mathit{2B} - \\mathit{3B} - \\mathit{HR}$\n",
    "+ $\\mathit{HBP}$ is a field that is not guaranteed to be recorded in the dataset.  After 2000 it is but if you make any modifications in your explorations, you'll want to 0 it out (we know it shouldn't be zero but we have no better option right now).\n",
    "+ Finally, we need to add plate appearances.  The quantity is only an approximate value for PA.  The reason is that there are other baseball events that occur but one unfortunate limitation of the Lahman Database is that it can sometimes have holes like this.\n",
    "\n",
    "*If you like, after working through this part of the notebook rerun the analyses and see what happens if you comment out the year restriction part.  If you know your ancient baseball history, think about the nature of the game at the end of the 19th century and the beginning of the 20th century and how its different from today."
   ]
  },
  {
   "cell_type": "code",
   "execution_count": 14,
   "metadata": {},
   "outputs": [
    {
     "name": "stdout",
     "output_type": "stream",
     "text": [
      "Adding datascience helper tools to path...\n",
      "Setting up Matplotlib...\n",
      "Matplotlib imported as mpl\n",
      "Matplotlib.pyplot imported as plt\n"
     ]
    }
   ],
   "source": [
    "%run ../../utils/notebook_setup.py"
   ]
  },
  {
   "cell_type": "code",
   "execution_count": 15,
   "metadata": {},
   "outputs": [],
   "source": [
    "import pandas as pd\n",
    "pd.set_option('precision', 3)\n",
    "import numpy as np\n",
    "np.set_printoptions(precision=3)\n",
    "\n",
    "from datascience_utils import *\n",
    "from datascience_stats import *\n",
    "from datascience_topic import fast_run_expectancy, most_common_lineup_position, display_re_matrix, display_weights"
   ]
  },
  {
   "cell_type": "code",
   "execution_count": 16,
   "metadata": {},
   "outputs": [
    {
     "data": {
      "text/html": [
       "<div>\n",
       "<style scoped>\n",
       "    .dataframe tbody tr th:only-of-type {\n",
       "        vertical-align: middle;\n",
       "    }\n",
       "\n",
       "    .dataframe tbody tr th {\n",
       "        vertical-align: top;\n",
       "    }\n",
       "\n",
       "    .dataframe thead th {\n",
       "        text-align: right;\n",
       "    }\n",
       "</style>\n",
       "<table border=\"1\" class=\"dataframe\">\n",
       "  <thead>\n",
       "    <tr style=\"text-align: right;\">\n",
       "      <th></th>\n",
       "      <th>yearID</th>\n",
       "      <th>franchID</th>\n",
       "      <th>G</th>\n",
       "      <th>R</th>\n",
       "      <th>AB</th>\n",
       "      <th>H</th>\n",
       "      <th>2B</th>\n",
       "      <th>3B</th>\n",
       "      <th>HR</th>\n",
       "      <th>BB</th>\n",
       "      <th>SO</th>\n",
       "      <th>SB</th>\n",
       "      <th>CS</th>\n",
       "      <th>HBP</th>\n",
       "      <th>SF</th>\n",
       "      <th>RA</th>\n",
       "      <th>ER</th>\n",
       "      <th>1B</th>\n",
       "      <th>PA</th>\n",
       "    </tr>\n",
       "  </thead>\n",
       "  <tbody>\n",
       "    <tr>\n",
       "      <th>2325</th>\n",
       "      <td>2000</td>\n",
       "      <td>ANA</td>\n",
       "      <td>162</td>\n",
       "      <td>864</td>\n",
       "      <td>5628</td>\n",
       "      <td>1574</td>\n",
       "      <td>309</td>\n",
       "      <td>34</td>\n",
       "      <td>236</td>\n",
       "      <td>608</td>\n",
       "      <td>1024.0</td>\n",
       "      <td>93.0</td>\n",
       "      <td>52.0</td>\n",
       "      <td>47.0</td>\n",
       "      <td>43.0</td>\n",
       "      <td>869</td>\n",
       "      <td>805</td>\n",
       "      <td>995</td>\n",
       "      <td>6326.0</td>\n",
       "    </tr>\n",
       "    <tr>\n",
       "      <th>2326</th>\n",
       "      <td>2000</td>\n",
       "      <td>ARI</td>\n",
       "      <td>162</td>\n",
       "      <td>792</td>\n",
       "      <td>5527</td>\n",
       "      <td>1466</td>\n",
       "      <td>282</td>\n",
       "      <td>44</td>\n",
       "      <td>179</td>\n",
       "      <td>535</td>\n",
       "      <td>975.0</td>\n",
       "      <td>97.0</td>\n",
       "      <td>44.0</td>\n",
       "      <td>59.0</td>\n",
       "      <td>58.0</td>\n",
       "      <td>754</td>\n",
       "      <td>698</td>\n",
       "      <td>961</td>\n",
       "      <td>6179.0</td>\n",
       "    </tr>\n",
       "    <tr>\n",
       "      <th>2327</th>\n",
       "      <td>2000</td>\n",
       "      <td>ATL</td>\n",
       "      <td>162</td>\n",
       "      <td>810</td>\n",
       "      <td>5489</td>\n",
       "      <td>1490</td>\n",
       "      <td>274</td>\n",
       "      <td>26</td>\n",
       "      <td>179</td>\n",
       "      <td>595</td>\n",
       "      <td>1010.0</td>\n",
       "      <td>148.0</td>\n",
       "      <td>56.0</td>\n",
       "      <td>59.0</td>\n",
       "      <td>45.0</td>\n",
       "      <td>714</td>\n",
       "      <td>648</td>\n",
       "      <td>1011</td>\n",
       "      <td>6188.0</td>\n",
       "    </tr>\n",
       "    <tr>\n",
       "      <th>2328</th>\n",
       "      <td>2000</td>\n",
       "      <td>BAL</td>\n",
       "      <td>162</td>\n",
       "      <td>794</td>\n",
       "      <td>5549</td>\n",
       "      <td>1508</td>\n",
       "      <td>310</td>\n",
       "      <td>22</td>\n",
       "      <td>184</td>\n",
       "      <td>558</td>\n",
       "      <td>900.0</td>\n",
       "      <td>126.0</td>\n",
       "      <td>65.0</td>\n",
       "      <td>49.0</td>\n",
       "      <td>54.0</td>\n",
       "      <td>913</td>\n",
       "      <td>855</td>\n",
       "      <td>992</td>\n",
       "      <td>6210.0</td>\n",
       "    </tr>\n",
       "    <tr>\n",
       "      <th>2329</th>\n",
       "      <td>2000</td>\n",
       "      <td>BOS</td>\n",
       "      <td>162</td>\n",
       "      <td>792</td>\n",
       "      <td>5630</td>\n",
       "      <td>1503</td>\n",
       "      <td>316</td>\n",
       "      <td>32</td>\n",
       "      <td>167</td>\n",
       "      <td>611</td>\n",
       "      <td>1019.0</td>\n",
       "      <td>43.0</td>\n",
       "      <td>30.0</td>\n",
       "      <td>42.0</td>\n",
       "      <td>48.0</td>\n",
       "      <td>745</td>\n",
       "      <td>683</td>\n",
       "      <td>988</td>\n",
       "      <td>6331.0</td>\n",
       "    </tr>\n",
       "  </tbody>\n",
       "</table>\n",
       "</div>"
      ],
      "text/plain": [
       "      yearID franchID    G    R    AB     H   2B  3B   HR   BB      SO     SB  \\\n",
       "2325    2000      ANA  162  864  5628  1574  309  34  236  608  1024.0   93.0   \n",
       "2326    2000      ARI  162  792  5527  1466  282  44  179  535   975.0   97.0   \n",
       "2327    2000      ATL  162  810  5489  1490  274  26  179  595  1010.0  148.0   \n",
       "2328    2000      BAL  162  794  5549  1508  310  22  184  558   900.0  126.0   \n",
       "2329    2000      BOS  162  792  5630  1503  316  32  167  611  1019.0   43.0   \n",
       "\n",
       "        CS   HBP    SF   RA   ER    1B      PA  \n",
       "2325  52.0  47.0  43.0  869  805   995  6326.0  \n",
       "2326  44.0  59.0  58.0  754  698   961  6179.0  \n",
       "2327  56.0  59.0  45.0  714  648  1011  6188.0  \n",
       "2328  65.0  49.0  54.0  913  855   992  6210.0  \n",
       "2329  30.0  42.0  48.0  745  683   988  6331.0  "
      ]
     },
     "execution_count": 16,
     "metadata": {},
     "output_type": "execute_result"
    }
   ],
   "source": [
    "# Load lahman_teams.csv obtained from the Lahman databank.  We only need a selection of the columns.\n",
    "lahman = pd.read_csv(\"lahman_teams.csv\", usecols=[0, 3, 6] + list(range(14, 28)))\n",
    "\n",
    "# Restrict to after the year 2000\n",
    "lahman = lahman.loc[lahman['yearID'] >= 2000].copy()\n",
    "\n",
    "# Need to add two fields, singles and PA (which is only approximate)\n",
    "lahman['1B'] = lahman['H'] - lahman['2B'] - lahman['3B'] - lahman['HR']\n",
    "lahman['HBP'].fillna(0, inplace=True)\n",
    "lahman['PA'] = lahman['AB'] + lahman['BB'] + lahman['HBP'] +  lahman['SF']\n",
    "\n",
    "lahman.head()"
   ]
  },
  {
   "cell_type": "markdown",
   "metadata": {},
   "source": [
    "### Computing Classical Statistics\n",
    "\n",
    "Using the formula for BA, OBP, and SLG, we add the classical stats to the dataset."
   ]
  },
  {
   "cell_type": "code",
   "execution_count": 17,
   "metadata": {},
   "outputs": [],
   "source": [
    "# Batting Average\n",
    "lahman['BA'] = lahman['H'] / lahman['AB']\n",
    "# On-Base Percentage\n",
    "lahman['OBP'] = (lahman['H'] + lahman['BB'] + lahman['HBP']) / lahman['PA']\n",
    "# Slugging Percentage\n",
    "lahman['SLG'] = (lahman['1B'] + 2 * lahman['2B'] + 3 * lahman['3B'] + 4 * lahman['HR']) / \\\n",
    "    lahman['AB']"
   ]
  },
  {
   "cell_type": "markdown",
   "metadata": {},
   "source": [
    "We can visualize the typical team values for the stats to get a feel for what we can expect from teams.  Team values will be inherently more concentrated than player values since teams are made up of an assortment of player ability levels."
   ]
  },
  {
   "cell_type": "code",
   "execution_count": 18,
   "metadata": {},
   "outputs": [
    {
     "data": {
      "image/png": "[encoded data removed]",
      "text/plain": [
       "<Figure size 432x288 with 1 Axes>"
      ]
     },
     "metadata": {},
     "output_type": "display_data"
    }
   ],
   "source": [
    "lahman.hist(column='BA', bins=20);"
   ]
  },
  {
   "cell_type": "code",
   "execution_count": 20,
   "metadata": {},
   "outputs": [
    {
     "data": {
      "image/png": "[encoded data removed]",
      "text/plain": [
       "<Figure size 432x288 with 1 Axes>"
      ]
     },
     "metadata": {},
     "output_type": "display_data"
    }
   ],
   "source": [
    "lahman.hist(column='OBP', bins=20);"
   ]
  },
  {
   "cell_type": "code",
   "execution_count": 21,
   "metadata": {},
   "outputs": [
    {
     "data": {
      "image/png": "[encoded data removed]",
      "text/plain": [
       "<Figure size 432x288 with 1 Axes>"
      ]
     },
     "metadata": {},
     "output_type": "display_data"
    }
   ],
   "source": [
    "lahman.hist(column='SLG', bins=20);"
   ]
  },
  {
   "cell_type": "markdown",
   "metadata": {},
   "source": [
    "### Classical Stats and Runs Scored\n",
    "\n",
    "We can look at simple scatter plots between the classic stats and runs scored to see how they relate.  We will also compute some metrics that quantify the relationship but suffice to say, having higher values for these metrics will tend to increase run scoring.  The most tenuous relationship definitely appears to be batting average.\n"
   ]
  },
  {
   "cell_type": "code",
   "execution_count": 22,
   "metadata": {},
   "outputs": [
    {
     "data": {
      "image/png": "[encoded data removed]",
      "text/plain": [
       "<Figure size 720x288 with 3 Axes>"
      ]
     },
     "metadata": {},
     "output_type": "display_data"
    }
   ],
   "source": [
    "stats = ['BA', 'OBP', 'SLG']\n",
    "figsize = (10, 4)\n",
    "fig, axarr = plt.subplots(ncols=3, figsize=figsize, sharey=True)\n",
    "for i, stat_label in enumerate(stats):\n",
    "    lahman.plot.scatter(ax=axarr[i], x=stat_label, y='R')\n",
    "fig.suptitle('Classical Stats vs Runs');"
   ]
  },
  {
   "cell_type": "code",
   "execution_count": null,
   "metadata": {},
   "outputs": [],
   "source": []
  },
  {
   "cell_type": "code",
   "execution_count": null,
   "metadata": {},
   "outputs": [],
   "source": []
  },
  {
   "cell_type": "code",
   "execution_count": null,
   "metadata": {},
   "outputs": [],
   "source": []
  },
  {
   "cell_type": "code",
   "execution_count": null,
   "metadata": {},
   "outputs": [],
   "source": []
  },
  {
   "cell_type": "code",
   "execution_count": null,
   "metadata": {},
   "outputs": [],
   "source": []
  },
  {
   "cell_type": "markdown",
   "metadata": {},
   "source": [
    "#### Correlation with Team Runs\n",
    "\n",
    "This is the most involved step of Part I of the lab.  For each of the three classical stats, we need to do four things:\n",
    "1. Compute a linear relationship between Team Runs and the statistic.  For example, for Batting Average:\n",
    "$$\n",
    "    \\text{Predicted Team Runs} = \\alpha + \\beta \\cdot \\text{Team Batting Average}\n",
    "$$\n",
    "Each statistic will have its own $\\alpha, \\beta$ value.  We are not so interested in those values but rather the predicted value of Team Runs given a Team Batting Average and its error.\n",
    "2. The error of the prediction in 1:\n",
    "$$\n",
    "    \\text{Error} = \\text{Team Runs} - \\text{Predicted Team Runs}\n",
    "$$\n",
    "3. The correlation between the statistic and Team Runs\n",
    "4. Plots of the relationship between Team Runs and the statistic, the linear relationship, and the errors.\n"
   ]
  },
  {
   "cell_type": "markdown",
   "metadata": {},
   "source": [
    "##### 1. and 2. Linear Relationship and Error"
   ]
  },
  {
   "cell_type": "code",
   "execution_count": 23,
   "metadata": {},
   "outputs": [
    {
     "data": {
      "text/html": [
       "<div>\n",
       "<style scoped>\n",
       "    .dataframe tbody tr th:only-of-type {\n",
       "        vertical-align: middle;\n",
       "    }\n",
       "\n",
       "    .dataframe tbody tr th {\n",
       "        vertical-align: top;\n",
       "    }\n",
       "\n",
       "    .dataframe thead th {\n",
       "        text-align: right;\n",
       "    }\n",
       "</style>\n",
       "<table border=\"1\" class=\"dataframe\">\n",
       "  <thead>\n",
       "    <tr style=\"text-align: right;\">\n",
       "      <th></th>\n",
       "      <th>R</th>\n",
       "      <th>BA</th>\n",
       "      <th>BA_pred</th>\n",
       "      <th>BA_err</th>\n",
       "      <th>OBP</th>\n",
       "      <th>OBP_pred</th>\n",
       "      <th>OBP_err</th>\n",
       "      <th>SLG</th>\n",
       "      <th>SLG_pred</th>\n",
       "      <th>SLG_err</th>\n",
       "    </tr>\n",
       "  </thead>\n",
       "  <tbody>\n",
       "    <tr>\n",
       "      <th>2325</th>\n",
       "      <td>864</td>\n",
       "      <td>0.280</td>\n",
       "      <td>845.429</td>\n",
       "      <td>18.571</td>\n",
       "      <td>0.352</td>\n",
       "      <td>864.750</td>\n",
       "      <td>-0.750</td>\n",
       "      <td>0.472</td>\n",
       "      <td>905.333</td>\n",
       "      <td>-41.333</td>\n",
       "    </tr>\n",
       "    <tr>\n",
       "      <th>2326</th>\n",
       "      <td>792</td>\n",
       "      <td>0.265</td>\n",
       "      <td>763.743</td>\n",
       "      <td>28.257</td>\n",
       "      <td>0.333</td>\n",
       "      <td>766.417</td>\n",
       "      <td>25.583</td>\n",
       "      <td>0.429</td>\n",
       "      <td>781.307</td>\n",
       "      <td>10.693</td>\n",
       "    </tr>\n",
       "    <tr>\n",
       "      <th>2327</th>\n",
       "      <td>810</td>\n",
       "      <td>0.271</td>\n",
       "      <td>798.890</td>\n",
       "      <td>11.110</td>\n",
       "      <td>0.346</td>\n",
       "      <td>834.276</td>\n",
       "      <td>-24.276</td>\n",
       "      <td>0.429</td>\n",
       "      <td>779.376</td>\n",
       "      <td>30.624</td>\n",
       "    </tr>\n",
       "    <tr>\n",
       "      <th>2328</th>\n",
       "      <td>794</td>\n",
       "      <td>0.272</td>\n",
       "      <td>800.637</td>\n",
       "      <td>-6.637</td>\n",
       "      <td>0.341</td>\n",
       "      <td>803.704</td>\n",
       "      <td>-9.704</td>\n",
       "      <td>0.435</td>\n",
       "      <td>797.666</td>\n",
       "      <td>-3.666</td>\n",
       "    </tr>\n",
       "    <tr>\n",
       "      <th>2329</th>\n",
       "      <td>792</td>\n",
       "      <td>0.267</td>\n",
       "      <td>773.476</td>\n",
       "      <td>18.524</td>\n",
       "      <td>0.341</td>\n",
       "      <td>803.532</td>\n",
       "      <td>-11.532</td>\n",
       "      <td>0.423</td>\n",
       "      <td>764.331</td>\n",
       "      <td>27.669</td>\n",
       "    </tr>\n",
       "    <tr>\n",
       "      <th>2330</th>\n",
       "      <td>978</td>\n",
       "      <td>0.286</td>\n",
       "      <td>881.490</td>\n",
       "      <td>96.510</td>\n",
       "      <td>0.356</td>\n",
       "      <td>882.047</td>\n",
       "      <td>95.953</td>\n",
       "      <td>0.470</td>\n",
       "      <td>898.452</td>\n",
       "      <td>79.548</td>\n",
       "    </tr>\n",
       "    <tr>\n",
       "      <th>2331</th>\n",
       "      <td>764</td>\n",
       "      <td>0.256</td>\n",
       "      <td>709.679</td>\n",
       "      <td>54.321</td>\n",
       "      <td>0.335</td>\n",
       "      <td>773.808</td>\n",
       "      <td>-9.808</td>\n",
       "      <td>0.411</td>\n",
       "      <td>728.966</td>\n",
       "      <td>35.034</td>\n",
       "    </tr>\n",
       "    <tr>\n",
       "      <th>2332</th>\n",
       "      <td>825</td>\n",
       "      <td>0.274</td>\n",
       "      <td>814.329</td>\n",
       "      <td>10.671</td>\n",
       "      <td>0.343</td>\n",
       "      <td>817.574</td>\n",
       "      <td>7.426</td>\n",
       "      <td>0.447</td>\n",
       "      <td>832.171</td>\n",
       "      <td>-7.171</td>\n",
       "    </tr>\n",
       "    <tr>\n",
       "      <th>2333</th>\n",
       "      <td>950</td>\n",
       "      <td>0.288</td>\n",
       "      <td>894.855</td>\n",
       "      <td>55.145</td>\n",
       "      <td>0.367</td>\n",
       "      <td>940.783</td>\n",
       "      <td>9.217</td>\n",
       "      <td>0.470</td>\n",
       "      <td>898.760</td>\n",
       "      <td>51.240</td>\n",
       "    </tr>\n",
       "    <tr>\n",
       "      <th>2334</th>\n",
       "      <td>968</td>\n",
       "      <td>0.294</td>\n",
       "      <td>926.494</td>\n",
       "      <td>41.506</td>\n",
       "      <td>0.362</td>\n",
       "      <td>913.256</td>\n",
       "      <td>54.744</td>\n",
       "      <td>0.455</td>\n",
       "      <td>853.937</td>\n",
       "      <td>114.063</td>\n",
       "    </tr>\n",
       "  </tbody>\n",
       "</table>\n",
       "</div>"
      ],
      "text/plain": [
       "        R     BA  BA_pred  BA_err    OBP  OBP_pred  OBP_err    SLG  SLG_pred  \\\n",
       "2325  864  0.280  845.429  18.571  0.352   864.750   -0.750  0.472   905.333   \n",
       "2326  792  0.265  763.743  28.257  0.333   766.417   25.583  0.429   781.307   \n",
       "2327  810  0.271  798.890  11.110  0.346   834.276  -24.276  0.429   779.376   \n",
       "2328  794  0.272  800.637  -6.637  0.341   803.704   -9.704  0.435   797.666   \n",
       "2329  792  0.267  773.476  18.524  0.341   803.532  -11.532  0.423   764.331   \n",
       "2330  978  0.286  881.490  96.510  0.356   882.047   95.953  0.470   898.452   \n",
       "2331  764  0.256  709.679  54.321  0.335   773.808   -9.808  0.411   728.966   \n",
       "2332  825  0.274  814.329  10.671  0.343   817.574    7.426  0.447   832.171   \n",
       "2333  950  0.288  894.855  55.145  0.367   940.783    9.217  0.470   898.760   \n",
       "2334  968  0.294  926.494  41.506  0.362   913.256   54.744  0.455   853.937   \n",
       "\n",
       "      SLG_err  \n",
       "2325  -41.333  \n",
       "2326   10.693  \n",
       "2327   30.624  \n",
       "2328   -3.666  \n",
       "2329   27.669  \n",
       "2330   79.548  \n",
       "2331   35.034  \n",
       "2332   -7.171  \n",
       "2333   51.240  \n",
       "2334  114.063  "
      ]
     },
     "execution_count": 23,
     "metadata": {},
     "output_type": "execute_result"
    }
   ],
   "source": [
    "linear_relationships = {}\n",
    "errors = {}\n",
    "\n",
    "linear_fits = pd.DataFrame()\n",
    "linear_fits['R'] = lahman['R']\n",
    "\n",
    "for i, stat in enumerate(stats):\n",
    "    # Linear fit\n",
    "    params, predictions, error = linear_fit(lahman[stat], lahman['R'])\n",
    "    linear_relationships[stat] = params\n",
    "    linear_fits[stat] = lahman[stat]\n",
    "    linear_fits[stat + '_pred'] = predictions\n",
    "    linear_fits[stat + '_err'] = error\n",
    "\n",
    "linear_fits.head(10)"
   ]
  },
  {
   "cell_type": "markdown",
   "metadata": {},
   "source": [
    "##### 3. Correlation"
   ]
  },
  {
   "cell_type": "code",
   "execution_count": 25,
   "metadata": {},
   "outputs": [],
   "source": [
    "correlations = {}\n",
    "\n",
    "for i, stat in enumerate(stats):\n",
    "    # Correlation\n",
    "    correlations[stat] = correlation(lahman[stat], lahman['R'])"
   ]
  },
  {
   "cell_type": "markdown",
   "metadata": {},
   "source": [
    "##### 4. Plotting the results\n",
    "\n",
    "We put together the results into a simple set of pairs of plots\n",
    "+ In the first plot we show a scatter plot and the linear relationship between a statistic and team runs.  What is immediately clear is that these stats are in fact related to scoring and not complete nonsense. In fact, if they were all you had, they would be okay.  But as we will see, you can do better.\n",
    "+ In the second plot, we show the errors between the actual team run values and the predicted values from the linear relationship.  We do this because we want to visually see that OBP and SLG do in fact improve on BA in terms of the size of the errors.  By tending to have smaller error, this shows OBP and SLG correlate/associate with run scoring in a stronger manner than just batting average."
   ]
  },
  {
   "cell_type": "code",
   "execution_count": 26,
   "metadata": {},
   "outputs": [
    {
     "data": {
      "image/png": "[encoded data removed]",
      "text/plain": [
       "<Figure size 576x288 with 2 Axes>"
      ]
     },
     "metadata": {},
     "output_type": "display_data"
    }
   ],
   "source": [
    "stat = 'BA'\n",
    "fig, axarr = plt.subplots(ncols=2, figsize=(8, 4))\n",
    "linear_fits.plot.scatter(stat, 'R', ax=axarr[0], color='C0')\n",
    "linear_fits.plot.scatter(stat, stat + '_pred', ax=axarr[0], color='C2')\n",
    "linear_fits.plot.scatter(stat, stat + '_err', ax=axarr[1], color='C1')\n",
    "fig.suptitle('Batting Avg vs Runs');"
   ]
  },
  {
   "cell_type": "code",
   "execution_count": null,
   "metadata": {},
   "outputs": [],
   "source": []
  },
  {
   "cell_type": "code",
   "execution_count": 27,
   "metadata": {},
   "outputs": [
    {
     "data": {
      "image/png": "[encoded data removed]",
      "text/plain": [
       "<Figure size 576x288 with 2 Axes>"
      ]
     },
     "metadata": {},
     "output_type": "display_data"
    }
   ],
   "source": [
    "stat = 'OBP'\n",
    "fig, axarr = plt.subplots(ncols=2, figsize=(8, 4))\n",
    "linear_fits.plot.scatter(stat, 'R', ax=axarr[0], color='C0')\n",
    "linear_fits.plot.scatter(stat, stat + '_pred', ax=axarr[0], color='C2')\n",
    "linear_fits.plot.scatter(stat, stat + '_err', ax=axarr[1], color='C1')\n",
    "fig.suptitle('On-Base Pct vs Runs');"
   ]
  },
  {
   "cell_type": "code",
   "execution_count": 28,
   "metadata": {},
   "outputs": [
    {
     "data": {
      "image/png": "[encoded data removed]",
      "text/plain": [
       "<Figure size 576x288 with 2 Axes>"
      ]
     },
     "metadata": {},
     "output_type": "display_data"
    }
   ],
   "source": [
    "stat = 'SLG'\n",
    "fig, axarr = plt.subplots(ncols=2, figsize=(8, 4))\n",
    "linear_fits.plot.scatter(stat, 'R', ax=axarr[0], color='C0')\n",
    "linear_fits.plot.scatter(stat, stat + '_pred', ax=axarr[0], color='C2')\n",
    "linear_fits.plot.scatter(stat, stat + '_err', ax=axarr[1], color='C1')\n",
    "fig.suptitle('Slugging Pct vs Runs');"
   ]
  },
  {
   "cell_type": "code",
   "execution_count": null,
   "metadata": {},
   "outputs": [],
   "source": []
  },
  {
   "cell_type": "markdown",
   "metadata": {},
   "source": [
    "We also print out some results for each statistic."
   ]
  },
  {
   "cell_type": "code",
   "execution_count": 29,
   "metadata": {},
   "outputs": [
    {
     "name": "stdout",
     "output_type": "stream",
     "text": [
      "Stat: BA\n",
      "====================\n",
      "Correlation with Runs: 0.809\n",
      "Std dev of errors (in Runs): 49.112\n",
      "\n",
      "Stat: OBP\n",
      "====================\n",
      "Correlation with Runs: 0.892\n",
      "Std dev of errors (in Runs): 37.683\n",
      "\n",
      "Stat: SLG\n",
      "====================\n",
      "Correlation with Runs: 0.913\n",
      "Std dev of errors (in Runs): 34.107\n",
      "\n"
     ]
    }
   ],
   "source": [
    "def summary_print(stat, corr, err_std):\n",
    "    print(f\"Stat: {stat}\")\n",
    "    print(\"=\" * 20)\n",
    "    print(f\"Correlation with Runs: {corr:.3f}\")\n",
    "    print(f\"Std dev of errors (in Runs): {err_std:.3f}\")\n",
    "    print()\n",
    "    \n",
    "for stat in stats:\n",
    "    corr = correlations[stat]\n",
    "    err_std = np.std(linear_fits[stat + '_err'])\n",
    "    # Print summary\n",
    "    summary_print(stat, corr, err_std)"
   ]
  },
  {
   "cell_type": "markdown",
   "metadata": {},
   "source": [
    "The correlation shows that OBP and SLG have a stronger link to run scoring.  The standard deviation of the prediction errors, which measures the overall magnitude of the errors (and is in the units of runs) and shows that errors are dramatically reduced by considering OBP and SLG.  A difference in standard deviation between BA and SLG of 15 runs translates to about 1.5 wins, no small matter.\n",
    "\n",
    "_Questions_\n",
    "\n",
    "+ If we came up with a metric that can perfectly predict team run scoring in the period we have been exploring (post year 2000), why should we be suspicious of this metric?\n",
    "+ What do you think of the implicit assumption that if a metric works well in measuring team performance that it works well at the player level?  Do you have a problem with the assumpion and if so, why?  If not, give a justification for the assumption."
   ]
  },
  {
   "cell_type": "markdown",
   "metadata": {},
   "source": [
    "### Correlation Between Statistics\n",
    "\n",
    "One thing we might wonder is since OBP and SLG are seemingly both improvements on BA, are they telling us something different?  Well, for one, based on the construction we know that has to be true.  The extra weighting of extra base hits means they cannot possibly be the same.  But to what extent are they different?  \n",
    "\n",
    "Well, we can look at the correlations between the three statistics to see how closely they relate to each other.  We find that OBP is pretty closely linked to BA and we know that whatever difference exists there is due entirely to ignoring walks and hit py pitch events. \n",
    "\n",
    "SLG shows a lower correlation with either BA and OBP, clearly due to its weighting for extra base hits."
   ]
  },
  {
   "cell_type": "code",
   "execution_count": 30,
   "metadata": {},
   "outputs": [
    {
     "name": "stdout",
     "output_type": "stream",
     "text": [
      " BA and OBP: 0.844\n",
      " BA and SLG: 0.758\n",
      "OBP and SLG: 0.781\n"
     ]
    }
   ],
   "source": [
    "rho_obp_ba = correlation(lahman[\"OBP\"], lahman['BA'])\n",
    "rho_obp_slg = correlation(lahman[\"OBP\"], lahman['SLG'])\n",
    "rho_ba_slg = correlation(lahman[\"BA\"], lahman['SLG'])\n",
    "\n",
    "print(\" BA and OBP: {:.3f}\".format(rho_obp_ba))\n",
    "print(\" BA and SLG: {:.3f}\".format(rho_ba_slg))\n",
    "print(\"OBP and SLG: {:.3f}\".format(rho_obp_slg))"
   ]
  },
  {
   "cell_type": "markdown",
   "metadata": {},
   "source": [
    "_Question_\n",
    "+ Why does it matter that OBP and SLG correlate with team runs but not completely with each other?"
   ]
  },
  {
   "cell_type": "markdown",
   "metadata": {},
   "source": [
    "## Run Expectancy"
   ]
  },
  {
   "cell_type": "markdown",
   "metadata": {},
   "source": [
    "### Load Play-by-Play Data from Retrosheet\n",
    "\n",
    "Raw Retrosheet data (http://www.retrosheet.org/) contains play-by-play event logs, representing very raw information about the events in a baseball game. Lucky for us, the software program Chadwick (found here:http://chadwick.sourceforge.net/doc/index.html) was created to handle a lot of the messy work to compiled the data into a useable form.  Chadwick converts the raw logs into CSV which is what we use here.  Also, Chadwick computes some pretty important quantities that we make use of.\n",
    "\n",
    "For computing the Run Expectancy Matrix as well as other analsis, we only need a few columns.  The relevant columns are:\n",
    "+ EVENT_ID - An ID for the event in the dataset\n",
    "+ INN_CT - Inning number\n",
    "+ EVENT_CD - A code for what happened in the event\n",
    "+ OUTS_CT - Number of outs\n",
    "+ BAT_LINEUP_ID - Place in the batting order.  1 through 9.\n",
    "+ BAT_EVENT_FL - A T/F flag as to whether the play-by-play event corresponds to a plate appearance (T) or some other type of event (F).\n",
    "+ START_BASES_CD - An integer code representing the state of the runners, eg. runner on 2nd\n",
    "+ END_BASES_CD - An integer code representing the state of the runners AFTER the event ends.\n",
    "+ EVENT_OUTS_CT - Number of outs recorded on this event\n",
    "+ EVENT_RUNS_CT - Number of runs scored on this event\n",
    "+ FATE_RUNS_CT - Number of runs scored AFTER this event"
   ]
  },
  {
   "cell_type": "code",
   "execution_count": 31,
   "metadata": {},
   "outputs": [
    {
     "data": {
      "text/html": [
       "<div>\n",
       "<style scoped>\n",
       "    .dataframe tbody tr th:only-of-type {\n",
       "        vertical-align: middle;\n",
       "    }\n",
       "\n",
       "    .dataframe tbody tr th {\n",
       "        vertical-align: top;\n",
       "    }\n",
       "\n",
       "    .dataframe thead th {\n",
       "        text-align: right;\n",
       "    }\n",
       "</style>\n",
       "<table border=\"1\" class=\"dataframe\">\n",
       "  <thead>\n",
       "    <tr style=\"text-align: right;\">\n",
       "      <th></th>\n",
       "      <th>Inning</th>\n",
       "      <th>Outs</th>\n",
       "      <th>Batter_ID</th>\n",
       "      <th>Lineup_Order</th>\n",
       "      <th>Event_Type</th>\n",
       "      <th>PA_Flag</th>\n",
       "      <th>Event_Outs</th>\n",
       "      <th>ID</th>\n",
       "      <th>Start_Bases</th>\n",
       "      <th>End_Bases</th>\n",
       "      <th>Event_Runs</th>\n",
       "      <th>Future_Runs</th>\n",
       "    </tr>\n",
       "  </thead>\n",
       "  <tbody>\n",
       "    <tr>\n",
       "      <th>0</th>\n",
       "      <td>1</td>\n",
       "      <td>0</td>\n",
       "      <td>greer001</td>\n",
       "      <td>1</td>\n",
       "      <td>2</td>\n",
       "      <td>T</td>\n",
       "      <td>1</td>\n",
       "      <td>1</td>\n",
       "      <td>0</td>\n",
       "      <td>0</td>\n",
       "      <td>0</td>\n",
       "      <td>0</td>\n",
       "    </tr>\n",
       "    <tr>\n",
       "      <th>1</th>\n",
       "      <td>1</td>\n",
       "      <td>1</td>\n",
       "      <td>velar001</td>\n",
       "      <td>2</td>\n",
       "      <td>2</td>\n",
       "      <td>T</td>\n",
       "      <td>1</td>\n",
       "      <td>2</td>\n",
       "      <td>0</td>\n",
       "      <td>0</td>\n",
       "      <td>0</td>\n",
       "      <td>0</td>\n",
       "    </tr>\n",
       "    <tr>\n",
       "      <th>2</th>\n",
       "      <td>1</td>\n",
       "      <td>2</td>\n",
       "      <td>rodra001</td>\n",
       "      <td>3</td>\n",
       "      <td>2</td>\n",
       "      <td>T</td>\n",
       "      <td>1</td>\n",
       "      <td>3</td>\n",
       "      <td>0</td>\n",
       "      <td>0</td>\n",
       "      <td>0</td>\n",
       "      <td>0</td>\n",
       "    </tr>\n",
       "    <tr>\n",
       "      <th>3</th>\n",
       "      <td>1</td>\n",
       "      <td>0</td>\n",
       "      <td>erstd001</td>\n",
       "      <td>1</td>\n",
       "      <td>20</td>\n",
       "      <td>T</td>\n",
       "      <td>0</td>\n",
       "      <td>4</td>\n",
       "      <td>0</td>\n",
       "      <td>1</td>\n",
       "      <td>0</td>\n",
       "      <td>0</td>\n",
       "    </tr>\n",
       "    <tr>\n",
       "      <th>4</th>\n",
       "      <td>1</td>\n",
       "      <td>0</td>\n",
       "      <td>ecksd001</td>\n",
       "      <td>2</td>\n",
       "      <td>20</td>\n",
       "      <td>T</td>\n",
       "      <td>0</td>\n",
       "      <td>5</td>\n",
       "      <td>1</td>\n",
       "      <td>3</td>\n",
       "      <td>0</td>\n",
       "      <td>0</td>\n",
       "    </tr>\n",
       "  </tbody>\n",
       "</table>\n",
       "</div>"
      ],
      "text/plain": [
       "   Inning  Outs Batter_ID  Lineup_Order  Event_Type PA_Flag  Event_Outs  ID  \\\n",
       "0       1     0  greer001             1           2       T           1   1   \n",
       "1       1     1  velar001             2           2       T           1   2   \n",
       "2       1     2  rodra001             3           2       T           1   3   \n",
       "3       1     0  erstd001             1          20       T           0   4   \n",
       "4       1     0  ecksd001             2          20       T           0   5   \n",
       "\n",
       "   Start_Bases  End_Bases  Event_Runs  Future_Runs  \n",
       "0            0          0           0            0  \n",
       "1            0          0           0            0  \n",
       "2            0          0           0            0  \n",
       "3            0          1           0            0  \n",
       "4            1          3           0            0  "
      ]
     },
     "execution_count": 31,
     "metadata": {},
     "output_type": "execute_result"
    }
   ],
   "source": [
    "# Load the data from Retrosheet\n",
    "cols = ['EVENT_ID', 'INN_CT', 'EVENT_CD', 'OUTS_CT', 'BAT_ID', 'BAT_LINEUP_ID', \n",
    "        'BAT_EVENT_FL', 'START_BASES_CD', 'END_BASES_CD', 'EVENT_OUTS_CT', \n",
    "        'EVENT_RUNS_CT', 'FATE_RUNS_CT']\n",
    "retro = pd.read_table('retrosheet_events-2001.csv.gz', sep=',', usecols=cols)\n",
    "# Rename columns\n",
    "retro.columns = ['Inning', 'Outs', 'Batter_ID', 'Lineup_Order', 'Event_Type',\n",
    "        'PA_Flag',  'Event_Outs', 'ID', 'Start_Bases', 'End_Bases', \n",
    "        'Event_Runs', 'Future_Runs']\n",
    "\n",
    "retro.head()"
   ]
  },
  {
   "cell_type": "markdown",
   "metadata": {},
   "source": [
    "The play-by-play data contains entries that are not plate appearances.  One example is balks.  We want to drop these entries because they are not relevant to the question we are trying to answer.  \n",
    "\n",
    "We also want to drop all data from the ninth inning or later.  This is because we want data that represents the regular course of play.  We hypothesize these end of game events violate some of our assumptions about the regular strategic play, or even are truncated due to walk-off events.\n",
    "\n",
    "These changes are not hugely impactful (for example, there are not that many non-batting events) but in the interest of completeness and proper data analysis, we perform this cleaning."
   ]
  },
  {
   "cell_type": "code",
   "execution_count": 32,
   "metadata": {},
   "outputs": [],
   "source": [
    "bat_mask = (retro['PA_Flag'] == \"T\")\n",
    "retro = retro.loc[bat_mask].copy()\n",
    "\n",
    "inning_mask = (retro['Inning'] < 9)\n",
    "retro = retro.loc[inning_mask].copy()"
   ]
  },
  {
   "cell_type": "markdown",
   "metadata": {},
   "source": [
    "Another thing we want to do is convert the integer codes for baserunner situations into recognizable strings.  This information is available from http://www.retrosheet.org/."
   ]
  },
  {
   "cell_type": "code",
   "execution_count": 33,
   "metadata": {},
   "outputs": [],
   "source": [
    "base_runner_codes = {\n",
    "    0: \"None on\", # No one on\n",
    "    1: \"1st\", # runner on 1st\n",
    "    2: \"2nd\", # runner on 2nd\n",
    "    3: \"1st and 2nd\", # runners on 1st & 2nd\n",
    "    4: \"3rd\", # runner on 3rd\n",
    "    5: \"1st and 3rd\", # runners on 1st & 3rd\n",
    "    6: \"2nd and 3rd\", # runners on 2nd & 3rd\n",
    "    7: \"Bases Loaded\"  # bases loaded\n",
    "}\n",
    "# Replace the numeric code with a string code\n",
    "retro['Start_Bases'].replace(base_runner_codes, inplace=True)\n",
    "retro['End_Bases'].replace(base_runner_codes, inplace=True)"
   ]
  },
  {
   "cell_type": "code",
   "execution_count": null,
   "metadata": {},
   "outputs": [],
   "source": [
    "event_codes = {\n",
    "    0: 'Unknown',\n",
    "    1: 'None',\n",
    "    2: 'Generic out',\n",
    "    3: 'K', # Strikeout\n",
    "    4: 'SB', # Stolen Base\n",
    "    5: 'Defensive indifference',\n",
    "    6: 'CS', # Caught stealing\n",
    "    7: 'Pickoff error',\n",
    "    8: 'Pickoff',\n",
    "    9: 'Wild pitch',\n",
    "    10: 'Passed ball',\n",
    "    11: 'Balk',\n",
    "    12: 'Other advance/out advancing',\n",
    "    13: 'Foul error',\n",
    "    14: 'BB', # Walk\n",
    "    15: 'IBB', # Intentional walk\n",
    "    16: 'HBP', # Hit by pitch\n",
    "    17: 'Interference',\n",
    "    18: 'RBOE', # Reached base on error\n",
    "    19: 'FC', # Fielder's choice\n",
    "    20: '1B', # Single\n",
    "    21: '2B', # Double\n",
    "    22: '3B', # Triple\n",
    "    23: 'HR', # Home run\n",
    "    24: 'Missing play',\n",
    "}\n",
    "\n",
    "# Replace numeric code with string\n",
    "retro['Event_Type'].replace(event_codes, inplace=True)"
   ]
  },
  {
   "cell_type": "markdown",
   "metadata": {},
   "source": [
    "### Runs in Remainder of Inning\n",
    "\n",
    "In order to compute the Run Expectancy Matrix, we need to just add `Future_Runs` and `Event_Runs`.  "
   ]
  },
  {
   "cell_type": "code",
   "execution_count": 34,
   "metadata": {},
   "outputs": [],
   "source": [
    "retro['Runs_ROI'] = retro['Future_Runs'] + retro['Event_Runs']"
   ]
  },
  {
   "cell_type": "markdown",
   "metadata": {},
   "source": [
    "### Run Expectancy Matrix\n",
    "\n",
    "The Run Expectancy Matrix is computed by grouping by `Outs` and `Bases` and computing an average.  For each out and baserunner combination, this collects all plate appearances in our dataset and the runs scored in the remainder of the inning from that plate appearance and after.  We are left with the 24 values that comprise the Run Expectancy Matrix."
   ]
  },
  {
   "cell_type": "code",
   "execution_count": 35,
   "metadata": {},
   "outputs": [
    {
     "data": {
      "text/html": [
       "<div>\n",
       "<style scoped>\n",
       "    .dataframe tbody tr th:only-of-type {\n",
       "        vertical-align: middle;\n",
       "    }\n",
       "\n",
       "    .dataframe tbody tr th {\n",
       "        vertical-align: top;\n",
       "    }\n",
       "\n",
       "    .dataframe thead th {\n",
       "        text-align: right;\n",
       "    }\n",
       "</style>\n",
       "<table border=\"1\" class=\"dataframe\">\n",
       "  <thead>\n",
       "    <tr style=\"text-align: right;\">\n",
       "      <th>Outs</th>\n",
       "      <th>0</th>\n",
       "      <th>1</th>\n",
       "      <th>2</th>\n",
       "    </tr>\n",
       "    <tr>\n",
       "      <th>Start_Bases</th>\n",
       "      <th></th>\n",
       "      <th></th>\n",
       "      <th></th>\n",
       "    </tr>\n",
       "  </thead>\n",
       "  <tbody>\n",
       "    <tr>\n",
       "      <th>None on</th>\n",
       "      <td>0.545</td>\n",
       "      <td>0.292</td>\n",
       "      <td>0.118</td>\n",
       "    </tr>\n",
       "    <tr>\n",
       "      <th>1st</th>\n",
       "      <td>0.940</td>\n",
       "      <td>0.560</td>\n",
       "      <td>0.247</td>\n",
       "    </tr>\n",
       "    <tr>\n",
       "      <th>2nd</th>\n",
       "      <td>1.183</td>\n",
       "      <td>0.718</td>\n",
       "      <td>0.354</td>\n",
       "    </tr>\n",
       "    <tr>\n",
       "      <th>3rd</th>\n",
       "      <td>1.537</td>\n",
       "      <td>0.994</td>\n",
       "      <td>0.368</td>\n",
       "    </tr>\n",
       "    <tr>\n",
       "      <th>1st and 2nd</th>\n",
       "      <td>1.552</td>\n",
       "      <td>0.916</td>\n",
       "      <td>0.435</td>\n",
       "    </tr>\n",
       "    <tr>\n",
       "      <th>1st and 3rd</th>\n",
       "      <td>1.869</td>\n",
       "      <td>1.285</td>\n",
       "      <td>0.508</td>\n",
       "    </tr>\n",
       "    <tr>\n",
       "      <th>2nd and 3rd</th>\n",
       "      <td>2.078</td>\n",
       "      <td>1.433</td>\n",
       "      <td>0.596</td>\n",
       "    </tr>\n",
       "    <tr>\n",
       "      <th>Bases Loaded</th>\n",
       "      <td>2.393</td>\n",
       "      <td>1.607</td>\n",
       "      <td>0.793</td>\n",
       "    </tr>\n",
       "  </tbody>\n",
       "</table>\n",
       "</div>"
      ],
      "text/plain": [
       "Outs              0      1      2\n",
       "Start_Bases                      \n",
       "None on       0.545  0.292  0.118\n",
       "1st           0.940  0.560  0.247\n",
       "2nd           1.183  0.718  0.354\n",
       "3rd           1.537  0.994  0.368\n",
       "1st and 2nd   1.552  0.916  0.435\n",
       "1st and 3rd   1.869  1.285  0.508\n",
       "2nd and 3rd   2.078  1.433  0.596\n",
       "Bases Loaded  2.393  1.607  0.793"
      ]
     },
     "metadata": {},
     "output_type": "display_data"
    }
   ],
   "source": [
    "re = retro.groupby(['Outs', 'Start_Bases'])['Runs_ROI'].mean()\n",
    "display_re_matrix(re)"
   ]
  },
  {
   "cell_type": "markdown",
   "metadata": {},
   "source": [
    "_Questions_\n",
    "1. What does the Run Expectancy Matrix describe about the nature of baseball?  \n",
    "2. What can you observe about the difference between having a runner on second base vs third base (consider 2nd vs 3rd and 1st and 2nd vs 1st and 3rd)?  \n",
    "3. How do things change with 2 outs?\n",
    "4. What does run expectancy tell us generally about outs?  That is, how valuable is one extra base compared to an out?"
   ]
  },
  {
   "cell_type": "markdown",
   "metadata": {},
   "source": [
    "### Evaluating Strategies\n",
    "#### Stealing Bases\n",
    "\n",
    "We can perform a simple analysis of the strategy of stealing bases by computing a success rate for a base stealer that makes the run expectancy of the steal attempt equivalent to the run expectancy of the current state.\n",
    "\n",
    "The current state has run expectancy $\\mathit{RE}_{\\text{Current}}$ while the steal attempt has run expectancy of\n",
    "$$\n",
    "    \\text{RE}_{\\text{Steal Attempt}} = \\mathit{RE}_{\\text{SB}} \\cdot p_{\\text{SB}} + \n",
    "        \\mathit{RE}_{\\text{CS}} \\cdot (1 - p_{\\text{SB}}) \n",
    "$$\n",
    "Equating $\\mathit{RE}_{\\text{Current}} = \\text{RE}_{\\text{Steal Attempt}}$ gives the equalizing probability\n",
    "$$\n",
    "    p_{\\text{SB}} = \\frac{\\mathit{RE}_{\\text{Current}} - \\mathit{RE}_{\\text{CS}}}{\\mathit{RE}_{\\text{SB}} - \\mathit{RE}_{\\text{CS}}}\n",
    "$$\n",
    "\n",
    "To do:\n",
    "+ A helper function has been provided where you put in the RE matrix and an out value and baserunner situation and it will give you the RE value.\n",
    "+ Write a function to compute $p_{\\text{SB}}$.  \n",
    "    + The function should take these inputs:\n",
    "        + RE table (the non-pivoted version)\n",
    "        + Starting baserunner situation\n",
    "        + Caught stealing baserunner situation\n",
    "        + Stolen base baserunner situation.\n",
    "    + Consider three baserunner situations: \"1st\", \"2nd\", and \"1st and 2nd\" (ie. a double steal). Compute the success probability for each of the baserunner situations with varying out situations.  In the case of the double steal, we consider the natural case where the lead runner is thrown out.  \n",
    "    + For each baserunner situation, iterate over the number of outs and print the results using this string:  \n",
    "`f\"Outs: {outs}  P(SB): {p:.3f}\"`"
   ]
  },
  {
   "cell_type": "code",
   "execution_count": 36,
   "metadata": {},
   "outputs": [],
   "source": [
    "def get_matrix_val(df, outs, base):\n",
    "    return df.loc[outs, base]"
   ]
  },
  {
   "cell_type": "code",
   "execution_count": 37,
   "metadata": {},
   "outputs": [
    {
     "name": "stdout",
     "output_type": "stream",
     "text": [
      "Stealing Second base\n",
      "Outs: 0  P(SB): 0.727\n",
      "Outs: 1  P(SB): 0.737\n",
      "Outs: 2  P(SB): 0.697\n",
      "\n",
      "Stealing Third base\n",
      "Outs: 0  P(SB): 0.715\n",
      "Outs: 1  P(SB): 0.685\n",
      "Outs: 2  P(SB): 0.964\n",
      "\n",
      "Double steal\n",
      "Outs: 0  P(SB): 0.613\n",
      "Outs: 1  P(SB): 0.520\n",
      "Outs: 2  P(SB): 0.730\n",
      "\n"
     ]
    }
   ],
   "source": [
    "def analyze_steals(df, start_base, cs_base, sb_base):\n",
    "    for outs in [0, 1, 2]:\n",
    "        val_curr = get_matrix_val(df, outs, start_base)\n",
    "        val_cs = get_matrix_val(df, outs + 1, cs_base) if outs < 2 else 0\n",
    "        val_sb = get_matrix_val(df, outs, sb_base)\n",
    "        p = (val_curr - val_cs) / (val_sb - val_cs)\n",
    "        print(\"Outs: {}  P(SB): {:.3f}\".format(outs, p))\n",
    "    print()\n",
    "\n",
    "# Stealing second\n",
    "print(\"Stealing Second base\")\n",
    "\n",
    "start_base = '1st'\n",
    "cs_base = 'None on'\n",
    "sb_base = '2nd'\n",
    "analyze_steals(re, start_base, cs_base, sb_base)\n",
    "\n",
    "# Stealing third\n",
    "print(\"Stealing Third base\")\n",
    "\n",
    "start_base = '2nd'\n",
    "cs_base = 'None on'\n",
    "sb_base = '3rd'\n",
    "analyze_steals(re, start_base, cs_base, sb_base)\n",
    "\n",
    "# Double steal\n",
    "print(\"Double steal\")\n",
    "\n",
    "start_base = '1st and 2nd'\n",
    "cs_base = '2nd'\n",
    "sb_base = '2nd and 3rd'\n",
    "analyze_steals(re, start_base, cs_base, sb_base)"
   ]
  },
  {
   "cell_type": "markdown",
   "metadata": {},
   "source": [
    "### Bunting\n",
    "\n",
    "For bunting, we take a simpler view.  Assume we can execute the bunt strategy 100% of the time with a regular hitter (ie. not a pitcher at the plate).  Should we use it?\n",
    "\n",
    "Run expectancy says no.  Why?  Well, just compare the current run expectancy with the hypothetical value factoring in the out.  It's pretty clear that the extra base is just not worth the out and the lost opportunities.\n",
    "\n",
    "We ignore pitchers at the plate because often pitchers are often almost guaranteed outs so the bunt offers us a chance to at least make use of the out."
   ]
  },
  {
   "cell_type": "code",
   "execution_count": 38,
   "metadata": {},
   "outputs": [
    {
     "name": "stdout",
     "output_type": "stream",
     "text": [
      "Bunting to second base\n",
      "Outs: 0 curr: 1.183 bunt: 0.994\n",
      "Outs: 1 curr: 0.718 bunt: 0.368\n",
      "\n",
      "Bunting to third base\n",
      "Outs: 0 curr: 0.940 bunt: 0.718\n",
      "Outs: 1 curr: 0.560 bunt: 0.354\n",
      "\n",
      "Double bunt to 2nd and 3rd\n",
      "Outs: 0 curr: 1.552 bunt: 1.433\n",
      "Outs: 1 curr: 0.916 bunt: 0.596\n",
      "\n",
      "The bunt reduces RE regardless of success percentage!\n"
     ]
    }
   ],
   "source": [
    "def analyze_bunt(df, start_base, end_base):\n",
    "    for outs in [0, 1]:\n",
    "        val_curr = df.loc[outs, start_base]\n",
    "        val_bunt = df.loc[outs + 1, end_base]\n",
    "        print(\"Outs: {} curr: {:.3f} bunt: {:.3f}\".format(outs, val_curr, val_bunt))\n",
    "    print()\n",
    "\n",
    "\n",
    "# Bunting to second\n",
    "print(\"Bunting to second base\")\n",
    "start_base, end_base = '2nd', '3rd'\n",
    "analyze_bunt(re, start_base, end_base)\n",
    "\n",
    "\n",
    "# Bunting to third\n",
    "print(\"Bunting to third base\")\n",
    "start_base, end_base = '1st', '2nd'\n",
    "analyze_bunt(re, start_base, end_base)\n",
    "\n",
    "\n",
    "# Double bunt to 2nd and 3rd\n",
    "print(\"Double bunt to 2nd and 3rd\")\n",
    "start_base, end_base = '1st and 2nd', '2nd and 3rd'\n",
    "analyze_bunt(re, start_base, end_base)\n",
    "\n",
    "print(\"The bunt reduces RE regardless of success percentage!\")"
   ]
  },
  {
   "cell_type": "markdown",
   "metadata": {},
   "source": [
    "#### End of Game Stealing/Bunting\n",
    "\n",
    "Let's consider bunts or steals in the context of an end-of-game strategy.  Let's say we are the home team batting in the last half of the ninth inning (or later) and the game is tied.  We get a runner on base.  Should we bunt or steal?\n",
    "\n",
    "In this situation we are no longer interested in expected runs but rather win probability.  And in this case, our probability of winning is just the probability of scoring more than one run.  We can compute a run/win probability matrix instead of a run expectancy matrix and use that to analyze the strategies."
   ]
  },
  {
   "cell_type": "code",
   "execution_count": 40,
   "metadata": {},
   "outputs": [
    {
     "data": {
      "text/html": [
       "<div>\n",
       "<style scoped>\n",
       "    .dataframe tbody tr th:only-of-type {\n",
       "        vertical-align: middle;\n",
       "    }\n",
       "\n",
       "    .dataframe tbody tr th {\n",
       "        vertical-align: top;\n",
       "    }\n",
       "\n",
       "    .dataframe thead th {\n",
       "        text-align: right;\n",
       "    }\n",
       "</style>\n",
       "<table border=\"1\" class=\"dataframe\">\n",
       "  <thead>\n",
       "    <tr style=\"text-align: right;\">\n",
       "      <th>Outs</th>\n",
       "      <th>0</th>\n",
       "      <th>1</th>\n",
       "      <th>2</th>\n",
       "    </tr>\n",
       "    <tr>\n",
       "      <th>Start_Bases</th>\n",
       "      <th></th>\n",
       "      <th></th>\n",
       "      <th></th>\n",
       "    </tr>\n",
       "  </thead>\n",
       "  <tbody>\n",
       "    <tr>\n",
       "      <th>None on</th>\n",
       "      <td>0.293</td>\n",
       "      <td>0.175</td>\n",
       "      <td>0.080</td>\n",
       "    </tr>\n",
       "    <tr>\n",
       "      <th>1st</th>\n",
       "      <td>0.430</td>\n",
       "      <td>0.278</td>\n",
       "      <td>0.131</td>\n",
       "    </tr>\n",
       "    <tr>\n",
       "      <th>2nd</th>\n",
       "      <td>0.634</td>\n",
       "      <td>0.398</td>\n",
       "      <td>0.230</td>\n",
       "    </tr>\n",
       "    <tr>\n",
       "      <th>1st and 2nd</th>\n",
       "      <td>0.636</td>\n",
       "      <td>0.414</td>\n",
       "      <td>0.226</td>\n",
       "    </tr>\n",
       "    <tr>\n",
       "      <th>1st and 3rd</th>\n",
       "      <td>0.865</td>\n",
       "      <td>0.659</td>\n",
       "      <td>0.268</td>\n",
       "    </tr>\n",
       "    <tr>\n",
       "      <th>3rd</th>\n",
       "      <td>0.870</td>\n",
       "      <td>0.664</td>\n",
       "      <td>0.252</td>\n",
       "    </tr>\n",
       "    <tr>\n",
       "      <th>Bases Loaded</th>\n",
       "      <td>0.874</td>\n",
       "      <td>0.666</td>\n",
       "      <td>0.314</td>\n",
       "    </tr>\n",
       "    <tr>\n",
       "      <th>2nd and 3rd</th>\n",
       "      <td>0.879</td>\n",
       "      <td>0.689</td>\n",
       "      <td>0.264</td>\n",
       "    </tr>\n",
       "  </tbody>\n",
       "</table>\n",
       "</div>"
      ],
      "text/plain": [
       "Outs              0      1      2\n",
       "Start_Bases                      \n",
       "None on       0.293  0.175  0.080\n",
       "1st           0.430  0.278  0.131\n",
       "2nd           0.634  0.398  0.230\n",
       "1st and 2nd   0.636  0.414  0.226\n",
       "1st and 3rd   0.865  0.659  0.268\n",
       "3rd           0.870  0.664  0.252\n",
       "Bases Loaded  0.874  0.666  0.314\n",
       "2nd and 3rd   0.879  0.689  0.264"
      ]
     },
     "execution_count": 40,
     "metadata": {},
     "output_type": "execute_result"
    }
   ],
   "source": [
    "# Win probability when needing 1 run\n",
    "def prob_at_least_one_run(x):\n",
    "    return (x >= 1).sum() / len(x)\n",
    "                               \n",
    "wp = retro.groupby(['Outs', 'Start_Bases'])['Runs_ROI'].apply(prob_at_least_one_run)\n",
    "wp.unstack(level=0).sort_values(by=0)"
   ]
  },
  {
   "cell_type": "markdown",
   "metadata": {},
   "source": [
    "##### End of Game Stealing\n",
    "\n",
    "We compute the same equivalent probability but using the win probability in place of run expectancy.  The results show we need a much less capable base stealer to make the strategy break-even.  Except when stealing third with 2 outs.  Then we would basically be insane to attempt such a strategy."
   ]
  },
  {
   "cell_type": "code",
   "execution_count": 41,
   "metadata": {},
   "outputs": [
    {
     "name": "stdout",
     "output_type": "stream",
     "text": [
      "Stealing Second base\n",
      "Outs: 0  P(SB): 0.556\n",
      "Outs: 1  P(SB): 0.624\n",
      "Outs: 2  P(SB): 0.571\n",
      "\n",
      "Stealing Third base\n",
      "Outs: 0  P(SB): 0.660\n",
      "Outs: 1  P(SB): 0.544\n",
      "Outs: 2  P(SB): 0.914\n",
      "\n",
      "Double steal\n",
      "Outs: 0  P(SB): 0.494\n",
      "Outs: 1  P(SB): 0.401\n",
      "Outs: 2  P(SB): 0.859\n",
      "\n"
     ]
    }
   ],
   "source": [
    "# Stealing second\n",
    "print(\"Stealing Second base\")\n",
    "\n",
    "start_base = '1st'\n",
    "cs_base = 'None on'\n",
    "sb_base = '2nd'\n",
    "analyze_steals(wp, start_base, cs_base, sb_base)\n",
    "\n",
    "# Stealing third\n",
    "print(\"Stealing Third base\")\n",
    "\n",
    "start_base = '2nd'\n",
    "cs_base = 'None on'\n",
    "sb_base = '3rd'\n",
    "analyze_steals(wp, start_base, cs_base, sb_base)\n",
    "\n",
    "# Double steal\n",
    "print(\"Double steal\")\n",
    "\n",
    "start_base = '1st and 2nd'\n",
    "cs_base = '2nd'\n",
    "sb_base = '2nd and 3rd'\n",
    "analyze_steals(wp, start_base, cs_base, sb_base)"
   ]
  },
  {
   "cell_type": "markdown",
   "metadata": {},
   "source": [
    "##### End of game bunting\n",
    "\n",
    "Bunting in the regular course of play was not a smart choice.  The out was much more worthwhile to maximizing run expectancy.  Since we are not trying to score the most runs but rather just one run, it turns out to be not as clear cut about what to do.  In some cases, it seems better and in some cases not.   Given the relatively rough form of analysis we are doing, our conclusion shold be that it's not clear and further information about the lineup, the matchups, etc should really dictate the strategy.   The only situation that appears cut and dry is, don't bother bunting a runner to third with 1 out already.  And this seems pretty obvious given how third base is only more valuable than second with less than 2 outs."
   ]
  },
  {
   "cell_type": "code",
   "execution_count": 42,
   "metadata": {},
   "outputs": [
    {
     "name": "stdout",
     "output_type": "stream",
     "text": [
      "Bunting to second base\n",
      "Outs: 0 curr: 0.634 bunt: 0.664\n",
      "Outs: 1 curr: 0.398 bunt: 0.252\n",
      "\n",
      "Bunting to third base\n",
      "Outs: 0 curr: 0.430 bunt: 0.398\n",
      "Outs: 1 curr: 0.278 bunt: 0.230\n",
      "\n",
      "Double bunt to 2nd and 3rd\n",
      "Outs: 0 curr: 0.636 bunt: 0.689\n",
      "Outs: 1 curr: 0.414 bunt: 0.264\n",
      "\n",
      "The bunt reduces RE regardless of success percentage!\n"
     ]
    }
   ],
   "source": [
    "# Bunting to second\n",
    "print(\"Bunting to second base\")\n",
    "start_base, end_base = '2nd', '3rd'\n",
    "analyze_bunt(wp, start_base, end_base)\n",
    "\n",
    "\n",
    "# Bunting to third\n",
    "print(\"Bunting to third base\")\n",
    "start_base, end_base = '1st', '2nd'\n",
    "analyze_bunt(wp, start_base, end_base)\n",
    "\n",
    "\n",
    "# Double bunt to 2nd and 3rd\n",
    "print(\"Double bunt to 2nd and 3rd\")\n",
    "start_base, end_base = '1st and 2nd', '2nd and 3rd'\n",
    "analyze_bunt(wp, start_base, end_base)\n",
    "\n",
    "print(\"The bunt reduces RE regardless of success percentage!\")"
   ]
  },
  {
   "cell_type": "markdown",
   "metadata": {},
   "source": [
    "## RE24\n",
    "\n",
    "The RE24 run production values for each plate appearance is computed as\n",
    "$$\n",
    "    \\mathit{RE24} = \\text{Run Expectancy}_{\\text{Next}} - \\text{Run Expectancy}_{\\text{Current}} + \\text{Runs Scored}\n",
    "$$"
   ]
  },
  {
   "cell_type": "markdown",
   "metadata": {},
   "source": [
    "### Run Expectancies\n",
    "\n",
    "For each plate appearance, we need to compute the run expectancy that will serve as the backbone for computing the RE24 values.  To do this, we iterate through each PA, get its values for `Outs` and `Start_Bases` and extract the value from the Run Expectancy Matrix we computed earlier.  We do the same for the future state using `End_Bases` and `Outs + Event_Outs`."
   ]
  },
  {
   "cell_type": "code",
   "execution_count": null,
   "metadata": {},
   "outputs": [],
   "source": [
    "### NOTE: THE NEXT CELL IS SLOW.\n",
    "# It's easier to understand what the calculation is with this block of code but\n",
    "# after that, you might as well run the following cell.  Both are commented out\n",
    "# so choose which one you want to use."
   ]
  },
  {
   "cell_type": "code",
   "execution_count": null,
   "metadata": {},
   "outputs": [],
   "source": [
    "# # Iterate through PAs computing run expectancy\n",
    "# run_exp = np.array([\n",
    "#     re.loc[outs, base] if outs < 3 else 0\n",
    "#     for outs, base in zip(retro['Outs'], retro['Start_Bases'])\n",
    "# ])\n",
    "# retro['Run_Expectancy'] = run_exp\n",
    "\n",
    "# # Iterate through PAs computing run expectancy for next PA\n",
    "# next_outs = retro['Outs'] + retro['Event_Outs']\n",
    "# next_run_exp = np.array([\n",
    "#     re.loc[outs, base] if outs < 3 else 0\n",
    "#     for outs, base in zip(next_outs, retro['End_Bases'])\n",
    "# ])\n",
    "# retro['Run_Expectancy_Next'] = next_run_exp"
   ]
  },
  {
   "cell_type": "code",
   "execution_count": 43,
   "metadata": {},
   "outputs": [],
   "source": [
    "retro = fast_run_expectancy(retro, re)"
   ]
  },
  {
   "cell_type": "code",
   "execution_count": 44,
   "metadata": {},
   "outputs": [
    {
     "data": {
      "text/html": [
       "<div>\n",
       "<style scoped>\n",
       "    .dataframe tbody tr th:only-of-type {\n",
       "        vertical-align: middle;\n",
       "    }\n",
       "\n",
       "    .dataframe tbody tr th {\n",
       "        vertical-align: top;\n",
       "    }\n",
       "\n",
       "    .dataframe thead th {\n",
       "        text-align: right;\n",
       "    }\n",
       "</style>\n",
       "<table border=\"1\" class=\"dataframe\">\n",
       "  <thead>\n",
       "    <tr style=\"text-align: right;\">\n",
       "      <th></th>\n",
       "      <th>Outs</th>\n",
       "      <th>Start_Bases</th>\n",
       "      <th>End_Bases</th>\n",
       "      <th>Run_Expectancy</th>\n",
       "      <th>Run_Expectancy_Next</th>\n",
       "      <th>Event_Runs</th>\n",
       "    </tr>\n",
       "  </thead>\n",
       "  <tbody>\n",
       "    <tr>\n",
       "      <th>0</th>\n",
       "      <td>0</td>\n",
       "      <td>None on</td>\n",
       "      <td>None on</td>\n",
       "      <td>0.545</td>\n",
       "      <td>0.292</td>\n",
       "      <td>0</td>\n",
       "    </tr>\n",
       "    <tr>\n",
       "      <th>1</th>\n",
       "      <td>1</td>\n",
       "      <td>None on</td>\n",
       "      <td>None on</td>\n",
       "      <td>0.292</td>\n",
       "      <td>0.118</td>\n",
       "      <td>0</td>\n",
       "    </tr>\n",
       "    <tr>\n",
       "      <th>2</th>\n",
       "      <td>2</td>\n",
       "      <td>None on</td>\n",
       "      <td>None on</td>\n",
       "      <td>0.118</td>\n",
       "      <td>0.000</td>\n",
       "      <td>0</td>\n",
       "    </tr>\n",
       "    <tr>\n",
       "      <th>3</th>\n",
       "      <td>0</td>\n",
       "      <td>None on</td>\n",
       "      <td>1st</td>\n",
       "      <td>0.545</td>\n",
       "      <td>0.940</td>\n",
       "      <td>0</td>\n",
       "    </tr>\n",
       "    <tr>\n",
       "      <th>4</th>\n",
       "      <td>0</td>\n",
       "      <td>1st</td>\n",
       "      <td>1st and 2nd</td>\n",
       "      <td>0.940</td>\n",
       "      <td>1.552</td>\n",
       "      <td>0</td>\n",
       "    </tr>\n",
       "  </tbody>\n",
       "</table>\n",
       "</div>"
      ],
      "text/plain": [
       "   Outs Start_Bases    End_Bases  Run_Expectancy  Run_Expectancy_Next  \\\n",
       "0     0     None on      None on           0.545                0.292   \n",
       "1     1     None on      None on           0.292                0.118   \n",
       "2     2     None on      None on           0.118                0.000   \n",
       "3     0     None on          1st           0.545                0.940   \n",
       "4     0         1st  1st and 2nd           0.940                1.552   \n",
       "\n",
       "   Event_Runs  \n",
       "0           0  \n",
       "1           0  \n",
       "2           0  \n",
       "3           0  \n",
       "4           0  "
      ]
     },
     "execution_count": 44,
     "metadata": {},
     "output_type": "execute_result"
    }
   ],
   "source": [
    "view_cols = ['Outs', 'Start_Bases', 'End_Bases', \n",
    "             'Run_Expectancy', 'Run_Expectancy_Next', \n",
    "             'Event_Runs']\n",
    "retro[view_cols].head(5)"
   ]
  },
  {
   "cell_type": "markdown",
   "metadata": {},
   "source": [
    "### Compute RE24\n",
    "Now its easy to compute the RE24 values using the fields we have computed."
   ]
  },
  {
   "cell_type": "code",
   "execution_count": 45,
   "metadata": {},
   "outputs": [],
   "source": [
    "retro['RE24'] = retro['Run_Expectancy_Next'] - retro['Run_Expectancy'] + retro['Event_Runs']"
   ]
  },
  {
   "cell_type": "code",
   "execution_count": 46,
   "metadata": {},
   "outputs": [
    {
     "data": {
      "text/html": [
       "<div>\n",
       "<style scoped>\n",
       "    .dataframe tbody tr th:only-of-type {\n",
       "        vertical-align: middle;\n",
       "    }\n",
       "\n",
       "    .dataframe tbody tr th {\n",
       "        vertical-align: top;\n",
       "    }\n",
       "\n",
       "    .dataframe thead th {\n",
       "        text-align: right;\n",
       "    }\n",
       "</style>\n",
       "<table border=\"1\" class=\"dataframe\">\n",
       "  <thead>\n",
       "    <tr style=\"text-align: right;\">\n",
       "      <th></th>\n",
       "      <th>Outs</th>\n",
       "      <th>Start_Bases</th>\n",
       "      <th>End_Bases</th>\n",
       "      <th>Run_Expectancy</th>\n",
       "      <th>Run_Expectancy_Next</th>\n",
       "      <th>Event_Runs</th>\n",
       "      <th>RE24</th>\n",
       "    </tr>\n",
       "  </thead>\n",
       "  <tbody>\n",
       "    <tr>\n",
       "      <th>0</th>\n",
       "      <td>0</td>\n",
       "      <td>None on</td>\n",
       "      <td>None on</td>\n",
       "      <td>0.545</td>\n",
       "      <td>0.292</td>\n",
       "      <td>0</td>\n",
       "      <td>-0.253</td>\n",
       "    </tr>\n",
       "    <tr>\n",
       "      <th>1</th>\n",
       "      <td>1</td>\n",
       "      <td>None on</td>\n",
       "      <td>None on</td>\n",
       "      <td>0.292</td>\n",
       "      <td>0.118</td>\n",
       "      <td>0</td>\n",
       "      <td>-0.174</td>\n",
       "    </tr>\n",
       "    <tr>\n",
       "      <th>2</th>\n",
       "      <td>2</td>\n",
       "      <td>None on</td>\n",
       "      <td>None on</td>\n",
       "      <td>0.118</td>\n",
       "      <td>0.000</td>\n",
       "      <td>0</td>\n",
       "      <td>-0.118</td>\n",
       "    </tr>\n",
       "    <tr>\n",
       "      <th>3</th>\n",
       "      <td>0</td>\n",
       "      <td>None on</td>\n",
       "      <td>1st</td>\n",
       "      <td>0.545</td>\n",
       "      <td>0.940</td>\n",
       "      <td>0</td>\n",
       "      <td>0.395</td>\n",
       "    </tr>\n",
       "    <tr>\n",
       "      <th>4</th>\n",
       "      <td>0</td>\n",
       "      <td>1st</td>\n",
       "      <td>1st and 2nd</td>\n",
       "      <td>0.940</td>\n",
       "      <td>1.552</td>\n",
       "      <td>0</td>\n",
       "      <td>0.612</td>\n",
       "    </tr>\n",
       "  </tbody>\n",
       "</table>\n",
       "</div>"
      ],
      "text/plain": [
       "   Outs Start_Bases    End_Bases  Run_Expectancy  Run_Expectancy_Next  \\\n",
       "0     0     None on      None on           0.545                0.292   \n",
       "1     1     None on      None on           0.292                0.118   \n",
       "2     2     None on      None on           0.118                0.000   \n",
       "3     0     None on          1st           0.545                0.940   \n",
       "4     0         1st  1st and 2nd           0.940                1.552   \n",
       "\n",
       "   Event_Runs   RE24  \n",
       "0           0 -0.253  \n",
       "1           0 -0.174  \n",
       "2           0 -0.118  \n",
       "3           0  0.395  \n",
       "4           0  0.612  "
      ]
     },
     "execution_count": 46,
     "metadata": {},
     "output_type": "execute_result"
    }
   ],
   "source": [
    "view_cols\n",
    "retro[view_cols + ['RE24']].head(5)"
   ]
  },
  {
   "cell_type": "markdown",
   "metadata": {},
   "source": [
    "### Batter RE24\n",
    "\n",
    "We can group on `Batter_ID` and compute the Total RE24 for each batter.  We do this by just summing.\n",
    "\n",
    "We don't have much context for how this statistic should behave since we only have one year and only view the top 10.  This can be done by diving into the statistic more on Baseball Reference or FanGraphs.  That said, it should be noted that (depending on how the statistic is ultimately computed and adjusted for various considerations), Barry Bonds' 2001, 2002, and 2004 seasons were absolutely obscene when it comes to offense and run production by any and all metrics."
   ]
  },
  {
   "cell_type": "code",
   "execution_count": 47,
   "metadata": {},
   "outputs": [
    {
     "data": {
      "text/html": [
       "<div>\n",
       "<style scoped>\n",
       "    .dataframe tbody tr th:only-of-type {\n",
       "        vertical-align: middle;\n",
       "    }\n",
       "\n",
       "    .dataframe tbody tr th {\n",
       "        vertical-align: top;\n",
       "    }\n",
       "\n",
       "    .dataframe thead th {\n",
       "        text-align: right;\n",
       "    }\n",
       "</style>\n",
       "<table border=\"1\" class=\"dataframe\">\n",
       "  <thead>\n",
       "    <tr style=\"text-align: right;\">\n",
       "      <th></th>\n",
       "      <th>Run_Expectancy</th>\n",
       "      <th>RE24</th>\n",
       "    </tr>\n",
       "    <tr>\n",
       "      <th>Batter_ID</th>\n",
       "      <th></th>\n",
       "      <th></th>\n",
       "    </tr>\n",
       "  </thead>\n",
       "  <tbody>\n",
       "    <tr>\n",
       "      <th>bondb001</th>\n",
       "      <td>300.874</td>\n",
       "      <td>105.560</td>\n",
       "    </tr>\n",
       "    <tr>\n",
       "      <th>sosas001</th>\n",
       "      <td>361.867</td>\n",
       "      <td>82.111</td>\n",
       "    </tr>\n",
       "    <tr>\n",
       "      <th>giamj001</th>\n",
       "      <td>324.731</td>\n",
       "      <td>76.054</td>\n",
       "    </tr>\n",
       "    <tr>\n",
       "      <th>heltt001</th>\n",
       "      <td>342.564</td>\n",
       "      <td>71.905</td>\n",
       "    </tr>\n",
       "    <tr>\n",
       "      <th>gonzl001</th>\n",
       "      <td>338.671</td>\n",
       "      <td>67.230</td>\n",
       "    </tr>\n",
       "    <tr>\n",
       "      <th>berkl001</th>\n",
       "      <td>345.674</td>\n",
       "      <td>65.827</td>\n",
       "    </tr>\n",
       "    <tr>\n",
       "      <th>bagwj001</th>\n",
       "      <td>347.962</td>\n",
       "      <td>59.313</td>\n",
       "    </tr>\n",
       "    <tr>\n",
       "      <th>walkl001</th>\n",
       "      <td>288.935</td>\n",
       "      <td>55.870</td>\n",
       "    </tr>\n",
       "    <tr>\n",
       "      <th>edmoj001</th>\n",
       "      <td>292.994</td>\n",
       "      <td>55.130</td>\n",
       "    </tr>\n",
       "    <tr>\n",
       "      <th>jonec004</th>\n",
       "      <td>308.537</td>\n",
       "      <td>54.376</td>\n",
       "    </tr>\n",
       "  </tbody>\n",
       "</table>\n",
       "</div>"
      ],
      "text/plain": [
       "           Run_Expectancy     RE24\n",
       "Batter_ID                         \n",
       "bondb001          300.874  105.560\n",
       "sosas001          361.867   82.111\n",
       "giamj001          324.731   76.054\n",
       "heltt001          342.564   71.905\n",
       "gonzl001          338.671   67.230\n",
       "berkl001          345.674   65.827\n",
       "bagwj001          347.962   59.313\n",
       "walkl001          288.935   55.870\n",
       "edmoj001          292.994   55.130\n",
       "jonec004          308.537   54.376"
      ]
     },
     "execution_count": 47,
     "metadata": {},
     "output_type": "execute_result"
    }
   ],
   "source": [
    "batter_data = retro.groupby('Batter_ID')['Run_Expectancy', 'RE24'].sum()\n",
    "batter_data.sort_values('RE24', ascending=False).head(10)"
   ]
  },
  {
   "cell_type": "markdown",
   "metadata": {},
   "source": [
    "## Linear Weights and wOBA\n",
    "\n",
    "We can also use the RE24 values to construct the Linear Weights values as well as the offensive metric wOBA (Weighted On Base Average).\n",
    "\n",
    "Instead of grouping by batter, we can group by `Event_Type` and compute the average value for each type of event. \n",
    "\n",
    "A single can have different RE24 outcomes according to different out/baserunner situations so the average weights these outcome values according to the frequency with which the situations occur.  This way, we do not under value a single that occurs with no runners on and doesn't score a run or over value a single that occurs with the bases loaded.  We want them to be valued equally so we average to smooth everything out."
   ]
  },
  {
   "cell_type": "markdown",
   "metadata": {},
   "source": [
    "### Linear Weights (LWTS)\n",
    "\n",
    "Group and average to get the net expected runs above average for each event.  Notice how Fielder's choice, generic outs, and strikeouts all have negative values.  Neither of these three events is likely to generate an improvement in baserunner position and all three increase the number of outs.  \n",
    "\n",
    "The value of the homerun is more than 1 run because in addition to the one run guaranteed to score (the batter), there is the possibility of runners on base.\n",
    "\n",
    "Note also that a strikeout is basically the same as a generic out.  This seems counter-intuitive since the strikeout means the ball isn't put in play.  What about the breakdown of event types suggests that this isn't as strange as it might seem?  For example, for a batter with 2 strikes, what could potentially happen if the ball is put into play versus a strikeout?"
   ]
  },
  {
   "cell_type": "markdown",
   "metadata": {},
   "source": [
    "event_codes = {\n",
    "    0: 'Unknown',\n",
    "    1: 'None',\n",
    "    2: 'Generic out',\n",
    "    3: 'K', # Strikeout\n",
    "    4: 'SB', # Stolen Base\n",
    "    5: 'Defensive indifference',\n",
    "    6: 'CS', # Caught stealing\n",
    "    7: 'Pickoff error',\n",
    "    8: 'Pickoff',\n",
    "    9: 'Wild pitch',\n",
    "    10: 'Passed ball',\n",
    "    11: 'Balk',\n",
    "    12: 'Other advance/out advancing',\n",
    "    13: 'Foul error',\n",
    "    14: 'BB', # Walk\n",
    "    15: 'IBB', # Intentional walk\n",
    "    16: 'HBP', # Hit by pitch\n",
    "    17: 'Interference',\n",
    "    18: 'RBOE', # Reached base on error\n",
    "    19: 'FC', # Fielder's choice\n",
    "    20: '1B', # Single\n",
    "    21: '2B', # Double\n",
    "    22: '3B', # Triple\n",
    "    23: 'HR', # Home run\n",
    "    24: 'Missing play',"
   ]
  },
  {
   "cell_type": "code",
   "execution_count": 48,
   "metadata": {},
   "outputs": [
    {
     "data": {
      "text/html": [
       "<div>\n",
       "<style scoped>\n",
       "    .dataframe tbody tr th:only-of-type {\n",
       "        vertical-align: middle;\n",
       "    }\n",
       "\n",
       "    .dataframe tbody tr th {\n",
       "        vertical-align: top;\n",
       "    }\n",
       "\n",
       "    .dataframe thead th {\n",
       "        text-align: right;\n",
       "    }\n",
       "</style>\n",
       "<table border=\"1\" class=\"dataframe\">\n",
       "  <thead>\n",
       "    <tr style=\"text-align: right;\">\n",
       "      <th>Event_Type</th>\n",
       "      <th>2</th>\n",
       "      <th>3</th>\n",
       "      <th>14</th>\n",
       "      <th>15</th>\n",
       "      <th>16</th>\n",
       "      <th>17</th>\n",
       "      <th>18</th>\n",
       "      <th>19</th>\n",
       "      <th>20</th>\n",
       "      <th>21</th>\n",
       "      <th>22</th>\n",
       "      <th>23</th>\n",
       "    </tr>\n",
       "  </thead>\n",
       "  <tbody>\n",
       "    <tr>\n",
       "      <th>RE24</th>\n",
       "      <td>-0.287</td>\n",
       "      <td>-0.292</td>\n",
       "      <td>0.306</td>\n",
       "      <td>0.16</td>\n",
       "      <td>0.336</td>\n",
       "      <td>0.486</td>\n",
       "      <td>0.518</td>\n",
       "      <td>-0.319</td>\n",
       "      <td>0.462</td>\n",
       "      <td>0.781</td>\n",
       "      <td>1.085</td>\n",
       "      <td>1.383</td>\n",
       "    </tr>\n",
       "  </tbody>\n",
       "</table>\n",
       "</div>"
      ],
      "text/plain": [
       "Event_Type     2      3      14    15     16     17     18     19     20  \\\n",
       "RE24       -0.287 -0.292  0.306  0.16  0.336  0.486  0.518 -0.319  0.462   \n",
       "\n",
       "Event_Type     21     22     23  \n",
       "RE24        0.781  1.085  1.383  "
      ]
     },
     "metadata": {},
     "output_type": "display_data"
    }
   ],
   "source": [
    "lwts = retro.groupby('Event_Type')['RE24'].mean()\n",
    "display_weights(lwts)"
   ]
  },
  {
   "cell_type": "markdown",
   "metadata": {},
   "source": [
    "### wOBA\n",
    "\n",
    "The wOBA scale from FanGraphs for 2001 is 1.182.  Using that, we can compute the wOBA weights by first subtracting out the value of a generic out.  For interpretive purposes, we then scale by the wOBA scale factor."
   ]
  },
  {
   "cell_type": "code",
   "execution_count": 56,
   "metadata": {},
   "outputs": [
    {
     "data": {
      "text/plain": [
       "-0.28736500366338996"
      ]
     },
     "execution_count": 56,
     "metadata": {},
     "output_type": "execute_result"
    }
   ],
   "source": [
    "lwts[2]"
   ]
  },
  {
   "cell_type": "code",
   "execution_count": 57,
   "metadata": {},
   "outputs": [
    {
     "data": {
      "text/html": [
       "<div>\n",
       "<style scoped>\n",
       "    .dataframe tbody tr th:only-of-type {\n",
       "        vertical-align: middle;\n",
       "    }\n",
       "\n",
       "    .dataframe tbody tr th {\n",
       "        vertical-align: top;\n",
       "    }\n",
       "\n",
       "    .dataframe thead th {\n",
       "        text-align: right;\n",
       "    }\n",
       "</style>\n",
       "<table border=\"1\" class=\"dataframe\">\n",
       "  <thead>\n",
       "    <tr style=\"text-align: right;\">\n",
       "      <th>Event_Type</th>\n",
       "      <th>14</th>\n",
       "      <th>16</th>\n",
       "      <th>20</th>\n",
       "      <th>21</th>\n",
       "      <th>22</th>\n",
       "      <th>23</th>\n",
       "    </tr>\n",
       "  </thead>\n",
       "  <tbody>\n",
       "    <tr>\n",
       "      <th>RE24</th>\n",
       "      <td>0.701</td>\n",
       "      <td>0.737</td>\n",
       "      <td>0.886</td>\n",
       "      <td>1.262</td>\n",
       "      <td>1.622</td>\n",
       "      <td>1.975</td>\n",
       "    </tr>\n",
       "  </tbody>\n",
       "</table>\n",
       "</div>"
      ],
      "text/plain": [
       "Event_Type     14     16     20     21     22     23\n",
       "RE24        0.701  0.737  0.886  1.262  1.622  1.975"
      ]
     },
     "metadata": {},
     "output_type": "display_data"
    }
   ],
   "source": [
    "woba_scale = 1.182\n",
    "#woba_cols = ['BB', 'HBP', '1B', '2B', '3B', 'HR']\n",
    "woba_cols = [14, 16, 20, 21, 22, 23]\n",
    "wOBA_weights = woba_scale * (lwts[woba_cols] - lwts[2].item())\n",
    "display_weights(wOBA_weights)"
   ]
  },
  {
   "cell_type": "markdown",
   "metadata": {},
   "source": [
    "### Barry Bonds Example\n",
    "\n",
    "Let's return to Barry Bonds' monumental 2001 season and use his batting line to estimate his Batting Runs/wRAA and wOBA values."
   ]
  },
  {
   "cell_type": "code",
   "execution_count": 58,
   "metadata": {},
   "outputs": [
    {
     "data": {
      "text/html": [
       "<div>\n",
       "<style scoped>\n",
       "    .dataframe tbody tr th:only-of-type {\n",
       "        vertical-align: middle;\n",
       "    }\n",
       "\n",
       "    .dataframe tbody tr th {\n",
       "        vertical-align: top;\n",
       "    }\n",
       "\n",
       "    .dataframe thead th {\n",
       "        text-align: right;\n",
       "    }\n",
       "</style>\n",
       "<table border=\"1\" class=\"dataframe\">\n",
       "  <thead>\n",
       "    <tr style=\"text-align: right;\">\n",
       "      <th></th>\n",
       "      <th>1B</th>\n",
       "      <th>2B</th>\n",
       "      <th>3B</th>\n",
       "      <th>HR</th>\n",
       "      <th>BB</th>\n",
       "      <th>IBB</th>\n",
       "      <th>HBP</th>\n",
       "      <th>Generic out</th>\n",
       "      <th>PA</th>\n",
       "    </tr>\n",
       "  </thead>\n",
       "  <tbody>\n",
       "    <tr>\n",
       "      <th>Barry Bonds (2001)</th>\n",
       "      <td>49</td>\n",
       "      <td>32</td>\n",
       "      <td>2</td>\n",
       "      <td>73</td>\n",
       "      <td>177</td>\n",
       "      <td>35</td>\n",
       "      <td>9</td>\n",
       "      <td>320</td>\n",
       "      <td>664</td>\n",
       "    </tr>\n",
       "  </tbody>\n",
       "</table>\n",
       "</div>"
      ],
      "text/plain": [
       "                    1B  2B  3B  HR   BB  IBB  HBP  Generic out   PA\n",
       "Barry Bonds (2001)  49  32   2  73  177   35    9          320  664"
      ]
     },
     "metadata": {},
     "output_type": "display_data"
    }
   ],
   "source": [
    "barry_bonds = pd.Series({\n",
    "    '1B': 49,\n",
    "    '2B': 32,\n",
    "    '3B': 2,\n",
    "    'HR': 73,\n",
    "    'BB': 177,\n",
    "    'IBB': 35,\n",
    "    'HBP': 9,\n",
    "    'Generic out': 320, # Added generic out and strikeout since they are basically the same value\n",
    "    'PA': 664\n",
    "}, name='Barry Bonds (2001)')\n",
    "display_weights(barry_bonds)"
   ]
  },
  {
   "cell_type": "markdown",
   "metadata": {},
   "source": [
    "Using LWTS, we compute Bonds' Batting Runs value as 122 runs above average.  Bonds produced an obscene 121 runs above an average player.  \n",
    "\n",
    "Average players are nothing to sneeze at.  We are not talking about some Triple A call-up.  We are talking about a perfectly fine and capable MLB player.  And Bonds' produced 122 more runs above average than that player.  \n",
    "\n",
    "We previously estimated 10 runs was worth 1 win in expectation.  This suggests Bonds was worth somewhere around 12 wins above the average player.  Baseball Reference estimates Bonds worth about 9.9 wins above the average player using their own methodology.  Either way, as we should suspect, Bonds' offensive contributions are other worldly. "
   ]
  },
  {
   "cell_type": "code",
   "execution_count": 59,
   "metadata": {},
   "outputs": [
    {
     "name": "stdout",
     "output_type": "stream",
     "text": [
      "Barry Bonds 2001 Batting Runs/wRAA: 0.000\n"
     ]
    },
    {
     "data": {
      "text/html": [
       "<div>\n",
       "<style scoped>\n",
       "    .dataframe tbody tr th:only-of-type {\n",
       "        vertical-align: middle;\n",
       "    }\n",
       "\n",
       "    .dataframe tbody tr th {\n",
       "        vertical-align: top;\n",
       "    }\n",
       "\n",
       "    .dataframe thead th {\n",
       "        text-align: right;\n",
       "    }\n",
       "</style>\n",
       "<table border=\"1\" class=\"dataframe\">\n",
       "  <thead>\n",
       "    <tr style=\"text-align: right;\">\n",
       "      <th></th>\n",
       "    </tr>\n",
       "  </thead>\n",
       "  <tbody>\n",
       "    <tr>\n",
       "      <th>0</th>\n",
       "    </tr>\n",
       "  </tbody>\n",
       "</table>\n",
       "</div>"
      ],
      "text/plain": [
       "Empty DataFrame\n",
       "Columns: []\n",
       "Index: [0]"
      ]
     },
     "metadata": {},
     "output_type": "display_data"
    }
   ],
   "source": [
    "bonds_wraa_vals = (lwts * barry_bonds).dropna()\n",
    "print(\"Barry Bonds 2001 Batting Runs/wRAA: {:.3f}\".format(bonds_wraa_vals.sum()))\n",
    "display_weights(bonds_wraa_vals)"
   ]
  },
  {
   "cell_type": "markdown",
   "metadata": {},
   "source": [
    "Bonds' wOBA value is estimated to be 0.545.  Since we use the wOBA scale to place wOBA on a similar scale to OBP, we can use the fact as follows.\n",
    "\n",
    "Ignoring the yearly variation in OBP, the highest single season OBP was Bonds in 2004 at 0.610. Number 5 all time was Babe Ruth at 0.545.  In terms of wOBA, Bonds in 2001 is situated relative to the rest of the league like a hitter with a 0.545 OBP would be relative to the rest of the league.  And a 0.545 OBP would be good for Top 5 all time seasons."
   ]
  },
  {
   "cell_type": "code",
   "execution_count": 60,
   "metadata": {},
   "outputs": [
    {
     "name": "stdout",
     "output_type": "stream",
     "text": [
      "Barry Bonds 2001 wOBA: 0.000\n"
     ]
    },
    {
     "data": {
      "text/html": [
       "<div>\n",
       "<style scoped>\n",
       "    .dataframe tbody tr th:only-of-type {\n",
       "        vertical-align: middle;\n",
       "    }\n",
       "\n",
       "    .dataframe tbody tr th {\n",
       "        vertical-align: top;\n",
       "    }\n",
       "\n",
       "    .dataframe thead th {\n",
       "        text-align: right;\n",
       "    }\n",
       "</style>\n",
       "<table border=\"1\" class=\"dataframe\">\n",
       "  <thead>\n",
       "    <tr style=\"text-align: right;\">\n",
       "      <th></th>\n",
       "    </tr>\n",
       "  </thead>\n",
       "  <tbody>\n",
       "    <tr>\n",
       "      <th>0</th>\n",
       "    </tr>\n",
       "  </tbody>\n",
       "</table>\n",
       "</div>"
      ],
      "text/plain": [
       "Empty DataFrame\n",
       "Columns: []\n",
       "Index: [0]"
      ]
     },
     "metadata": {},
     "output_type": "display_data"
    }
   ],
   "source": [
    "bonds_woba_vals = (barry_bonds * wOBA_weights).dropna()\n",
    "print(\"Barry Bonds 2001 wOBA: {:.3f}\".format(bonds_woba_vals.sum() / barry_bonds['PA']))\n",
    "display_weights(bonds_woba_vals)"
   ]
  },
  {
   "cell_type": "markdown",
   "metadata": {},
   "source": [
    "### Correlation with Team Runs\n",
    "\n",
    "We return to the analysis done in Part I regarding offensive metrics and how the correlate with team run scoring.\n",
    "\n",
    "In addition to wOBA, we also compute well-known metric OPS, which stands for \"On-Base Plus Slugging\".\n",
    "\n",
    "We also need to mention a huge caveat with regards to wOBA: we are using 2001 wOBA weights for all seasons we are using from the Lahman database.  We should not be doing this.  We should be using weights we've computed for each year.  The weights do not change too much and you will see some definitions of wOBA used fixed value of weights and changing wOBA_scale values.  For the purposes of this analysis, this should be not be much of an issue as it gets the spirit across and is close enough.\n",
    "\n",
    "In Part I, we observed that both OBP and SLG were reasonably well correlated with team run scoring but also did not fully overlap.  OPS aims to exploit this by combining the two metrics.  That way we can try to get the best of both worlds in terms of measuring on-base skill and measuring power.\n",
    "\n",
    "We end up finding that OPS and wOBA both do quite well in providing a better association with run scoring.  The correlations are higher and the standard deviation of the errors is much improved.  That said, while both are very similar when we evaluate their performance, there is one reason to prefer wOBA and metrics that are similarly built out of the notion of run expectancy and the linear weights values: they are actually computed in the proper units of runs.  OPS is more or less just a meaningless value that is the sum of two metrics that shouldn't be summed.  "
   ]
  },
  {
   "cell_type": "markdown",
   "metadata": {},
   "source": [
    "#### Computing Team wOBA and OPS\n",
    "\n",
    "OPS is easy to compute as its title suggests.  Using the dataset from the Lahman database, we can use the wOBA weights to compute team wOBA."
   ]
  },
  {
   "cell_type": "code",
   "execution_count": 64,
   "metadata": {},
   "outputs": [],
   "source": [
    "# Team OPS\n",
    "lahman['OPS'] = lahman['OBP'] + lahman['SLG']\n",
    "\n",
    "# Team wOBA\n",
    "#woba_numerator = wOBA_weights[20] * lahman['1B']\n",
    "#for event in ['2B', '3B', 'HR', 'BB', 'HBP']:\n",
    "#for event in [21, 22, 23, 14, 16]:    \n",
    "#    woba_numerator += wOBA_weights[event] * lahman[event]\n",
    "\n",
    "woba_numerator = wOBA_weights[20] * lahman['1B']\n",
    "woba_numerator += wOBA_weights[21] * lahman['2B']\n",
    "woba_numerator += wOBA_weights[22] * lahman['3B']\n",
    "woba_numerator += wOBA_weights[23] * lahman['HR']\n",
    "woba_numerator += wOBA_weights[14] * lahman['BB']\n",
    "woba_numerator += wOBA_weights[16] * lahman['HBP']\n",
    "\n",
    "lahman['wOBA'] = woba_numerator / lahman['PA']"
   ]
  },
  {
   "cell_type": "code",
   "execution_count": 65,
   "metadata": {},
   "outputs": [
    {
     "name": "stdout",
     "output_type": "stream",
     "text": [
      "Stat: wOBA\n",
      "====================\n",
      "Correlation with R: 0.956\n",
      "Std dev of errors (in Runs): 24.568\n",
      "\n",
      "Stat: OPS\n",
      "====================\n",
      "Correlation with R: 0.955\n",
      "Std dev of errors (in Runs): 24.873\n",
      "\n"
     ]
    },
    {
     "data": {
      "image/png": "[encoded data removed]",
      "text/plain": [
       "<Figure size 576x432 with 4 Axes>"
      ]
     },
     "metadata": {},
     "output_type": "display_data"
    }
   ],
   "source": [
    "# Plot setup\n",
    "stats = ['wOBA', 'OPS']\n",
    "ncols = len(stats)\n",
    "figsize = (ncols * 4, 4)\n",
    "\n",
    "fig, axarr = plt.subplots(\n",
    "    ncols=ncols, nrows=2, figsize=(ncols * 4, 6), sharey='row', sharex='col')\n",
    "fig.suptitle(\"Offensive Metrics vs Runs Scored\")\n",
    "axarr[1, 0].set_ylabel('Error (in Runs)')\n",
    "\n",
    "for i, stat in enumerate(stats):\n",
    "    # Linear fit\n",
    "    formula = 'R ~ ' + stat\n",
    "    params, prediction, error = linear_fit(lahman[stat], lahman['R'])\n",
    "    \n",
    "    # Correlation\n",
    "    corr = correlation(lahman[stat], lahman['R'])\n",
    "    \n",
    "    # Plot runs\n",
    "    lahman.plot.scatter(ax=axarr[0, i], x=stat, y='R')\n",
    "    # Plot linear fit\n",
    "    axarr[0, i].plot(lahman[stat], prediction, color='C1', lw=2)\n",
    "    \n",
    "    # Plot fit errors\n",
    "    axarr[1, i].plot(lahman[stat], error, '.')\n",
    "    axarr[1, i].set_xlabel(stat)\n",
    "    \n",
    "    # Print summary\n",
    "    print(\"Stat: %s\" % stat)\n",
    "    print(\"=\" * 20)\n",
    "    print(\"Correlation with R: {:.3f}\".format(corr))\n",
    "    print(\"Std dev of errors (in Runs): {:.3f}\".format(np.std(error)))\n",
    "    print()"
   ]
  },
  {
   "cell_type": "markdown",
   "metadata": {},
   "source": [
    "# Questions\n",
    "\n",
    "+ Why does it matter that OBP and SLG correlate with team runs but not completely with each other?\n",
    "+ If we came up with a metric that can perfectly predict team run scoring in the period we have been exploring (post 2000), why should we be suspect of this metric?\n",
    "+ What do you think of the implicit assumption that if a metric works well in measuring team performance that it works well at the player level?  Do you have a problem with the assumpion and if so, why?  If not, give a justification for the assumption.\n",
    "+ What does the Run Expectancy Matrix describe about the nature of baseball?  What can you observe about the difference between second and third base?  How do things change with 2 outs?\n",
    "+ What does run expectancy tell us generally about outs?  That is, how valuable is one extra base compared to an out?\n",
    "+ For a hitter, what is the difference between Total RE24 and Batting Runs/wRAA?  Which one uses the raw, observed values of RE24 and which one replaces those observed, situation depdendent values with average values?  What does it mean for a hitter to have a higher RE24 value than BR/wRAA?  What about lower?\n",
    "+ What does the value of OPS mean to you?  Aside from placing someone's OPS value in relation to other players, does a value of 1.000 mean anything?  How does that compare to wRAA (less so wOBA since the wOBA scale value distorts it)?  If a metric works, why might you prefer not to use it compared to something else?\n",
    "+ What does our analysis say about future performance?  Does it say anything?  Say a player has a .400 wOBA for a season.  What might we want to know about wOBA when evaluating the player and valuing the player's future performance?"
   ]
  }
 ],
 "metadata": {
  "hide_input": false,
  "kernelspec": {
   "display_name": "Python 3",
   "language": "python",
   "name": "python3"
  },
  "language_info": {
   "codemirror_mode": {
    "name": "ipython",
    "version": 3
   },
   "file_extension": ".py",
   "mimetype": "text/x-python",
   "name": "python",
   "nbconvert_exporter": "python",
   "pygments_lexer": "ipython3",
   "version": "3.8.6"
  },
  "toc": {
   "nav_menu": {},
   "number_sections": true,
   "sideBar": true,
   "skip_h1_title": true,
   "title_cell": "Table of Contents",
   "title_sidebar": "Contents",
   "toc_cell": true,
   "toc_position": {},
   "toc_section_display": true,
   "toc_window_display": false
  },
  "varInspector": {
   "cols": {
    "lenName": 16,
    "lenType": 16,
    "lenVar": 40
   },
   "kernels_config": {
    "python": {
     "delete_cmd_postfix": "",
     "delete_cmd_prefix": "del ",
     "library": "var_list.py",
     "varRefreshCmd": "print(var_dic_list())"
    },
    "r": {
     "delete_cmd_postfix": ") ",
     "delete_cmd_prefix": "rm(",
     "library": "var_list.r",
     "varRefreshCmd": "cat(var_dic_list()) "
    }
   },
   "types_to_exclude": [
    "module",
    "function",
    "builtin_function_or_method",
    "instance",
    "_Feature"
   ],
   "window_display": false
  }
 },
 "nbformat": 4,
 "nbformat_minor": 4
}
